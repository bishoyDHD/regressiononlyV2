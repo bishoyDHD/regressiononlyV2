{
 "cells": [
  {
   "cell_type": "code",
   "execution_count": 1,
   "id": "10683b42",
   "metadata": {},
   "outputs": [],
   "source": [
    "import matplotlib.pyplot as plt\n",
    "from matplotlib import gridspec\n",
    "import matplotlib.colors as mcolors\n",
    "import pandas as pd\n",
    "import numpy as np\n",
    "import h5py as h5"
   ]
  },
  {
   "cell_type": "code",
   "execution_count": 2,
   "id": "41ea1bf0",
   "metadata": {},
   "outputs": [],
   "source": [
    "import energyflow as ef\n",
    "from energyflow.archs import PFN\n",
    "from energyflow.utils import data_split\n",
    "import tensorflow as tf\n",
    "import tensorflow_io as tfio"
   ]
  },
  {
   "cell_type": "code",
   "execution_count": 3,
   "id": "6c572f2a",
   "metadata": {},
   "outputs": [
    {
     "data": {
      "text/html": [
       "<style type=\"text/css\">\n",
       "</style>\n",
       "<table id=\"T_6b54d\" style='display:inline'>\n",
       "  <caption>Calo Image Data</caption>\n",
       "  <thead>\n",
       "    <tr>\n",
       "      <th class=\"blank level0\" >&nbsp;</th>\n",
       "      <th id=\"T_6b54d_level0_col0\" class=\"col_heading level0 col0\" >Hit E</th>\n",
       "      <th id=\"T_6b54d_level0_col1\" class=\"col_heading level0 col1\" >Hit X</th>\n",
       "      <th id=\"T_6b54d_level0_col2\" class=\"col_heading level0 col2\" >Hit Y</th>\n",
       "      <th id=\"T_6b54d_level0_col3\" class=\"col_heading level0 col3\" >Hit Depth</th>\n",
       "      <th id=\"T_6b54d_level0_col4\" class=\"col_heading level0 col4\" >Layer 1 Z</th>\n",
       "      <th id=\"T_6b54d_level0_col5\" class=\"col_heading level0 col5\" >Layer 2 Z</th>\n",
       "    </tr>\n",
       "  </thead>\n",
       "  <tbody>\n",
       "    <tr>\n",
       "      <th id=\"T_6b54d_level0_row0\" class=\"row_heading level0 row0\" >Index</th>\n",
       "      <td id=\"T_6b54d_row0_col0\" class=\"data row0 col0\" >0</td>\n",
       "      <td id=\"T_6b54d_row0_col1\" class=\"data row0 col1\" >1</td>\n",
       "      <td id=\"T_6b54d_row0_col2\" class=\"data row0 col2\" >2</td>\n",
       "      <td id=\"T_6b54d_row0_col3\" class=\"data row0 col3\" >3</td>\n",
       "      <td id=\"T_6b54d_row0_col4\" class=\"data row0 col4\" >4</td>\n",
       "      <td id=\"T_6b54d_row0_col5\" class=\"data row0 col5\" >5</td>\n",
       "    </tr>\n",
       "  </tbody>\n",
       "</table>\n",
       "<style type=\"text/css\">\n",
       "</style>\n",
       "<table id=\"T_fec3d\" style='display:inline'>\n",
       "  <caption>Truth Particle Data</caption>\n",
       "  <thead>\n",
       "    <tr>\n",
       "      <th class=\"blank level0\" >&nbsp;</th>\n",
       "      <th id=\"T_fec3d_level0_col0\" class=\"col_heading level0 col0\" >Truth E</th>\n",
       "      <th id=\"T_fec3d_level0_col1\" class=\"col_heading level0 col1\" >Truth Theta</th>\n",
       "    </tr>\n",
       "  </thead>\n",
       "  <tbody>\n",
       "    <tr>\n",
       "      <th id=\"T_fec3d_level0_row0\" class=\"row_heading level0 row0\" >Index</th>\n",
       "      <td id=\"T_fec3d_row0_col0\" class=\"data row0 col0\" >0</td>\n",
       "      <td id=\"T_fec3d_row0_col1\" class=\"data row0 col1\" >1</td>\n",
       "    </tr>\n",
       "  </tbody>\n",
       "</table>\n"
      ]
     },
     "metadata": {},
     "output_type": "display_data"
    }
   ],
   "source": [
    "from IPython.display import display_html \n",
    "styles = [dict(selector=\"caption\", \n",
    "    props=[(\"text-align\", \"center\"),\n",
    "    (\"font-size\", \"120%\"),\n",
    "    (\"color\", 'black')])]    # the color value can not be None\n",
    "\n",
    "image_df = pd.DataFrame({\n",
    "    'Hit E' :[0], 'Hit X' :[1], 'Hit Y' :[2], 'Hit Depth':[3],\n",
    "    'Layer 1 Z':[4], 'Layer 2 Z':[5]}, index=['Index'])\n",
    "\n",
    "truth_df = pd.DataFrame({'Truth E':[0], 'Truth Theta':[1]},index=['Index'])\n",
    "\n",
    "image_styler = image_df.style.set_table_attributes(\"style='display:inline'\").set_caption('Calo Image Data')\n",
    "truth_styler = truth_df.style.set_table_attributes(\"style='display:inline'\").set_caption('Truth Particle Data')\n",
    "display_html(image_styler._repr_html_()+truth_styler._repr_html_(), raw=True)"
   ]
  },
  {
   "cell_type": "markdown",
   "id": "5073101c",
   "metadata": {},
   "source": [
    "### Load the Data"
   ]
  },
  {
   "cell_type": "code",
   "execution_count": 4,
   "id": "79a6e836-756c-4193-978e-c38d210649a9",
   "metadata": {},
   "outputs": [
    {
     "name": "stdout",
     "output_type": "stream",
     "text": [
      "['calo_images', 'truth']\n",
      "(3920000, 6, 2636)\n",
      "(3920000, 2, 15)\n",
      "(100, 6, 2636)\n",
      "(100, 2, 15)\n"
     ]
    }
   ],
   "source": [
    "filename = 'layered_with0s.hdf5'\n",
    "h5_file = h5.File(filename,'r')\n",
    "print(list(h5_file.keys()))\n",
    "images = h5_file['calo_images']\n",
    "truth = h5_file['truth']\n",
    "\n",
    "print(images.shape)\n",
    "print(truth.shape)\n",
    "print(images.chunks) # [0] should be = batch_size\n",
    "print(truth.chunks)\n"
   ]
  },
  {
   "cell_type": "code",
   "execution_count": 5,
   "id": "07274359-65e0-4360-9acc-72e9696df3c6",
   "metadata": {},
   "outputs": [],
   "source": [
    "import h5py\n",
    "import tensorflow as tf\n",
    "\n",
    "class generator:\n",
    "    def __init__(self, file):\n",
    "        self.file = file\n",
    "\n",
    "    def __call__(self):\n",
    "        with h5py.File(self.file, 'r') as hf:\n",
    "            for im in hf[\"train_img\"]:\n",
    "                yield im"
   ]
  },
  {
   "cell_type": "raw",
   "id": "7de9b6be-b8d2-4d28-81ed-2a07c90edad3",
   "metadata": {},
   "source": [
    "ds = tf.data.Dataset.from_generator(\n",
    "    generator(filename), \n",
    "    tf.uint8, \n",
    "    tf.TensorShape([400,6,2636]))\n",
    "\n",
    "#value = ds.make_one_shot_iterator().get_next()\n",
    "value = tf.compat.v1.data.make_one_shot_iterator().get_next\n",
    "\n",
    "# Example on how to read elements\n",
    "while True:\n",
    "    try:\n",
    "        data = sess.run(value)\n",
    "        print(data.shape)\n",
    "    except tf.errors.OutOfRangeError:\n",
    "        print('done.')\n",
    "        break"
   ]
  },
  {
   "cell_type": "code",
   "execution_count": 6,
   "id": "dff42331",
   "metadata": {},
   "outputs": [],
   "source": [
    "N_Events = 1_000_000\n",
    "X = images[0:N_Events]\n",
    "Y = truth[0:N_Events,0,0]\n",
    "#Y_Mean = np.nanmean(Y)\n",
    "#Y_StDev = np.nanstd(Y)\n",
    "#Y = (Y - Y_Mean)/Y_StDev\n",
    "#print(type(X))"
   ]
  },
  {
   "cell_type": "code",
   "execution_count": 7,
   "id": "a017949d-31df-4758-a1da-635cf1b80501",
   "metadata": {},
   "outputs": [
    {
     "name": "stdout",
     "output_type": "stream",
     "text": [
      "(1000000, 6, 2636)\n"
     ]
    }
   ],
   "source": [
    "print(np.shape(X))"
   ]
  },
  {
   "cell_type": "code",
   "execution_count": 8,
   "id": "0b6a9ed9-5c6a-487a-9729-6d8e8848bcdd",
   "metadata": {},
   "outputs": [],
   "source": [
    "positions = np.where(np.count_nonzero(X,axis=2))"
   ]
  },
  {
   "cell_type": "code",
   "execution_count": 9,
   "id": "0370204e",
   "metadata": {},
   "outputs": [
    {
     "data": {
      "image/png": "[encoded data removed]",
      "text/plain": [
       "<Figure size 1296x648 with 6 Axes>"
      ]
     },
     "metadata": {
      "needs_background": "light"
     },
     "output_type": "display_data"
    }
   ],
   "source": [
    "cm = plt.cm.get_cmap('plasma')\n",
    "cell_vars = [\"Energy\",\"Cell X\",\"Cell Y\",\"Cell Depth\",\"Layer 1 Position\", \"Layer 2 Position\"]\n",
    "bins = [np.linspace(0.01,500,200),np.linspace(-500,751,100),\n",
    "        np.linspace(-500,751,100),np.linspace(-1.5,2.5,100),\n",
    "        np.linspace(-275,350,100),np.linspace(-275,350,100)]\n",
    "data=[]\n",
    "fig = plt.figure(figsize=(18,9))\n",
    "#plt.subplots_adjust(left=None, bottom=1, right=None, top=1.5, wspace=None, hspace=None)\n",
    "for i in range(images.shape[1]):\n",
    "    ax = plt.subplot(2, 3, i+1)\n",
    "    data.insert(i,np.ravel(images[0:10000,i,:]))\n",
    "    data[i] = data[i][data[i]!=0]\n",
    "    plt.hist(data[i],bins=bins[i],color=cm(i/images.shape[1]))\n",
    "    plt.title(\"%s\"%(cell_vars[i]),fontsize=20)\n",
    "    plt.suptitle(\"Normalized Cell Input Data\",fontsize=25)\n",
    "plt.savefig(\"Normalized_Cell_Data.pdf\")\n",
    "    #plt.xlabel('%s [Normalized]'%(cell_vars[i]),fontsize=15)\n"
   ]
  },
  {
   "cell_type": "code",
   "execution_count": 10,
   "id": "799d9e1a",
   "metadata": {},
   "outputs": [],
   "source": [
    "xi = np.arange(X.shape[0])\n",
    "yi = np.arange(Y.shape[0])\n",
    "(X_train, X_val, X_test,\n",
    "Y_train, Y_val, Y_test) = data_split(X, Y, val=0.2, test=0.3,shuffle=True)"
   ]
  },
  {
   "cell_type": "code",
   "execution_count": 11,
   "id": "c814844d-19d9-4beb-b5cb-f5649cd05d02",
   "metadata": {},
   "outputs": [
    {
     "data": {
      "text/plain": [
       "<matplotlib.legend.Legend at 0x7f2203a78d90>"
      ]
     },
     "execution_count": 11,
     "metadata": {},
     "output_type": "execute_result"
    },
    {
     "data": {
      "image/png": "[encoded data removed]",
      "text/plain": [
       "<Figure size 432x288 with 1 Axes>"
      ]
     },
     "metadata": {
      "needs_background": "light"
     },
     "output_type": "display_data"
    }
   ],
   "source": [
    "plt.hist(Y_val,alpha=0.5,label=\"Validation Energy\")\n",
    "_ = plt.hist(Y_test,alpha=0.5,label=\"Test Energy\")\n",
    "plt.legend()"
   ]
  },
  {
   "cell_type": "code",
   "execution_count": 12,
   "id": "2e954378-7241-48b9-a354-f2dbedd074e9",
   "metadata": {},
   "outputs": [],
   "source": [
    "learning_rate = 0.00001"
   ]
  },
  {
   "cell_type": "code",
   "execution_count": 13,
   "id": "9f0e3ba3",
   "metadata": {
    "scrolled": true
   },
   "outputs": [
    {
     "name": "stdout",
     "output_type": "stream",
     "text": [
      "Model: \"model\"\n",
      "__________________________________________________________________________________________________\n",
      " Layer (type)                   Output Shape         Param #     Connected to                     \n",
      "==================================================================================================\n",
      " input (InputLayer)             [(None, None, 2636)  0           []                               \n",
      "                                ]                                                                 \n",
      "                                                                                                  \n",
      " tdist_0 (TimeDistributed)      (None, None, 100)    263700      ['input[0][0]']                  \n",
      "                                                                                                  \n",
      " activation (Activation)        (None, None, 100)    0           ['tdist_0[0][0]']                \n",
      "                                                                                                  \n",
      " tdist_1 (TimeDistributed)      (None, None, 100)    10100       ['activation[0][0]']             \n",
      "                                                                                                  \n",
      " activation_1 (Activation)      (None, None, 100)    0           ['tdist_1[0][0]']                \n",
      "                                                                                                  \n",
      " tdist_2 (TimeDistributed)      (None, None, 128)    12928       ['activation_1[0][0]']           \n",
      "                                                                                                  \n",
      " mask (Lambda)                  (None, None)         0           ['input[0][0]']                  \n",
      "                                                                                                  \n",
      " activation_2 (Activation)      (None, None, 128)    0           ['tdist_2[0][0]']                \n",
      "                                                                                                  \n",
      " sum (Dot)                      (None, 128)          0           ['mask[0][0]',                   \n",
      "                                                                  'activation_2[0][0]']           \n",
      "                                                                                                  \n",
      " dense_0 (Dense)                (None, 100)          12900       ['sum[0][0]']                    \n",
      "                                                                                                  \n",
      " activation_3 (Activation)      (None, 100)          0           ['dense_0[0][0]']                \n",
      "                                                                                                  \n",
      " dense_1 (Dense)                (None, 100)          10100       ['activation_3[0][0]']           \n",
      "                                                                                                  \n",
      " activation_4 (Activation)      (None, 100)          0           ['dense_1[0][0]']                \n",
      "                                                                                                  \n",
      " dense_2 (Dense)                (None, 100)          10100       ['activation_4[0][0]']           \n",
      "                                                                                                  \n",
      " activation_5 (Activation)      (None, 100)          0           ['dense_2[0][0]']                \n",
      "                                                                                                  \n",
      " output (Dense)                 (None, 1)            101         ['activation_5[0][0]']           \n",
      "                                                                                                  \n",
      " activation_6 (Activation)      (None, 1)            0           ['output[0][0]']                 \n",
      "                                                                                                  \n",
      "==================================================================================================\n",
      "Total params: 319,929\n",
      "Trainable params: 319,929\n",
      "Non-trainable params: 0\n",
      "__________________________________________________________________________________________________\n"
     ]
    },
    {
     "name": "stderr",
     "output_type": "stream",
     "text": [
      "2022-06-17 13:32:28.471091: W tensorflow/stream_executor/platform/default/dso_loader.cc:64] Could not load dynamic library 'libcudnn.so.8'; dlerror: libcudnn.so.8: cannot open shared object file: No such file or directory; LD_LIBRARY_PATH: /usr/local/cuda-11.2/lib64:/global/home/users/ftoralesacosta/user_pkg/usr/lib:/global/home/users/ftoralesacosta/user_pkg/usr/lib64:/lib:/lib64:/usr/lib:/usr/lib64\n",
      "2022-06-17 13:32:28.471117: W tensorflow/core/common_runtime/gpu/gpu_device.cc:1850] Cannot dlopen some GPU libraries. Please make sure the missing libraries mentioned above are installed properly if you would like to use GPU. Follow the guide at https://www.tensorflow.org/install/gpu for how to download and setup the required libraries for your platform.\n",
      "Skipping registering GPU devices...\n",
      "2022-06-17 13:32:28.471408: I tensorflow/core/platform/cpu_feature_guard.cc:193] This TensorFlow binary is optimized with oneAPI Deep Neural Network Library (oneDNN) to use the following CPU instructions in performance-critical operations:  AVX2 FMA\n",
      "To enable them in other operations, rebuild TensorFlow with the appropriate compiler flags.\n"
     ]
    }
   ],
   "source": [
    "Phi_sizes, F_sizes = (100, 100, 128), (100, 100, 100)\n",
    "output_act, output_dim = 'linear', 1\n",
    "loss = 'mse' #mean-squared error\n",
    "pfn = PFN(input_dim=X.shape[-1], Phi_sizes=Phi_sizes, F_sizes=F_sizes, \n",
    "          output_act=output_act, output_dim=output_dim, loss=loss, optimizer=tf.keras.optimizers.Adam(learning_rate=learning_rate))"
   ]
  },
  {
   "cell_type": "code",
   "execution_count": null,
   "id": "fbfe386b",
   "metadata": {
    "tags": []
   },
   "outputs": [
    {
     "name": "stderr",
     "output_type": "stream",
     "text": [
      "2022-06-17 13:32:28.570183: W tensorflow/core/framework/cpu_allocator_impl.cc:82] Allocation of 31632000000 exceeds 10% of free system memory.\n"
     ]
    },
    {
     "name": "stdout",
     "output_type": "stream",
     "text": [
      "Epoch 1/200\n",
      "1248/1250 [============================>.] - ETA: 0s - loss: 11508.5283 - acc: 0.0000e+00"
     ]
    },
    {
     "name": "stderr",
     "output_type": "stream",
     "text": [
      "2022-06-17 13:32:54.972103: W tensorflow/core/framework/cpu_allocator_impl.cc:82] Allocation of 12652800000 exceeds 10% of free system memory.\n"
     ]
    },
    {
     "name": "stdout",
     "output_type": "stream",
     "text": [
      "1250/1250 [==============================] - 23s 18ms/step - loss: 11494.1953 - acc: 0.0000e+00 - val_loss: 2606.4268 - val_acc: 0.0000e+00\n",
      "Epoch 2/200\n",
      "1250/1250 [==============================] - 17s 14ms/step - loss: 1808.7218 - acc: 0.0000e+00 - val_loss: 1290.4364 - val_acc: 0.0000e+00\n",
      "Epoch 3/200\n",
      "1250/1250 [==============================] - 17s 14ms/step - loss: 1016.6391 - acc: 0.0000e+00 - val_loss: 811.5667 - val_acc: 0.0000e+00\n",
      "Epoch 4/200\n",
      "1250/1250 [==============================] - 18s 14ms/step - loss: 667.0032 - acc: 0.0000e+00 - val_loss: 546.8627 - val_acc: 0.0000e+00\n",
      "Epoch 5/200\n",
      "1250/1250 [==============================] - 17s 14ms/step - loss: 452.8532 - acc: 0.0000e+00 - val_loss: 372.3397 - val_acc: 0.0000e+00\n",
      "Epoch 6/200\n",
      "1250/1250 [==============================] - 17s 14ms/step - loss: 306.5151 - acc: 0.0000e+00 - val_loss: 249.0668 - val_acc: 0.0000e+00\n",
      "Epoch 7/200\n",
      "1250/1250 [==============================] - 18s 14ms/step - loss: 203.5125 - acc: 0.0000e+00 - val_loss: 164.7200 - val_acc: 0.0000e+00\n",
      "Epoch 8/200\n",
      "1250/1250 [==============================] - 18s 14ms/step - loss: 134.2371 - acc: 0.0000e+00 - val_loss: 110.6975 - val_acc: 0.0000e+00\n",
      "Epoch 9/200\n",
      "1250/1250 [==============================] - 17s 14ms/step - loss: 89.8247 - acc: 0.0000e+00 - val_loss: 73.8897 - val_acc: 0.0000e+00\n",
      "Epoch 10/200\n",
      "1250/1250 [==============================] - 17s 14ms/step - loss: 61.7777 - acc: 0.0000e+00 - val_loss: 51.9865 - val_acc: 0.0000e+00\n",
      "Epoch 11/200\n",
      "1250/1250 [==============================] - 17s 14ms/step - loss: 44.2230 - acc: 0.0000e+00 - val_loss: 37.8480 - val_acc: 0.0000e+00\n",
      "Epoch 12/200\n",
      "1250/1250 [==============================] - 17s 14ms/step - loss: 33.1213 - acc: 0.0000e+00 - val_loss: 28.9989 - val_acc: 0.0000e+00\n",
      "Epoch 13/200\n",
      "1250/1250 [==============================] - 18s 14ms/step - loss: 25.2678 - acc: 0.0000e+00 - val_loss: 22.8231 - val_acc: 0.0000e+00\n",
      "Epoch 14/200\n",
      "1250/1250 [==============================] - 18s 14ms/step - loss: 20.1929 - acc: 0.0000e+00 - val_loss: 18.5293 - val_acc: 0.0000e+00\n",
      "Epoch 15/200\n",
      "1250/1250 [==============================] - 18s 14ms/step - loss: 16.4938 - acc: 0.0000e+00 - val_loss: 15.2799 - val_acc: 0.0000e+00\n",
      "Epoch 16/200\n",
      "1250/1250 [==============================] - 17s 14ms/step - loss: 13.6656 - acc: 0.0000e+00 - val_loss: 12.7605 - val_acc: 0.0000e+00\n",
      "Epoch 17/200\n",
      "1250/1250 [==============================] - 17s 14ms/step - loss: 11.7590 - acc: 0.0000e+00 - val_loss: 10.9728 - val_acc: 0.0000e+00\n",
      "Epoch 18/200\n",
      "1250/1250 [==============================] - 18s 14ms/step - loss: 9.9266 - acc: 0.0000e+00 - val_loss: 9.3086 - val_acc: 0.0000e+00\n",
      "Epoch 19/200\n",
      "1250/1250 [==============================] - 18s 14ms/step - loss: 8.6353 - acc: 0.0000e+00 - val_loss: 8.0350 - val_acc: 0.0000e+00\n",
      "Epoch 20/200\n",
      "1250/1250 [==============================] - 18s 14ms/step - loss: 7.5062 - acc: 0.0000e+00 - val_loss: 7.1030 - val_acc: 0.0000e+00\n",
      "Epoch 21/200\n",
      "1250/1250 [==============================] - 17s 14ms/step - loss: 6.7183 - acc: 0.0000e+00 - val_loss: 6.1267 - val_acc: 0.0000e+00\n",
      "Epoch 22/200\n",
      "1250/1250 [==============================] - 18s 14ms/step - loss: 5.8564 - acc: 0.0000e+00 - val_loss: 5.6595 - val_acc: 0.0000e+00\n",
      "Epoch 23/200\n",
      "1250/1250 [==============================] - 18s 14ms/step - loss: 5.2781 - acc: 0.0000e+00 - val_loss: 5.7873 - val_acc: 0.0000e+00\n",
      "Epoch 24/200\n",
      "1250/1250 [==============================] - 18s 14ms/step - loss: 4.7135 - acc: 0.0000e+00 - val_loss: 4.3123 - val_acc: 0.0000e+00\n",
      "Epoch 25/200\n",
      "1250/1250 [==============================] - 18s 14ms/step - loss: 4.2342 - acc: 0.0000e+00 - val_loss: 3.9356 - val_acc: 0.0000e+00\n",
      "Epoch 26/200\n",
      "1250/1250 [==============================] - 17s 14ms/step - loss: 3.9758 - acc: 0.0000e+00 - val_loss: 3.5568 - val_acc: 0.0000e+00\n",
      "Epoch 27/200\n",
      "1250/1250 [==============================] - 18s 14ms/step - loss: 3.5355 - acc: 0.0000e+00 - val_loss: 3.3169 - val_acc: 0.0000e+00\n",
      "Epoch 28/200\n",
      "1250/1250 [==============================] - 18s 14ms/step - loss: 3.3911 - acc: 0.0000e+00 - val_loss: 5.2727 - val_acc: 0.0000e+00\n",
      "Epoch 29/200\n",
      "1250/1250 [==============================] - 18s 14ms/step - loss: 3.0527 - acc: 0.0000e+00 - val_loss: 2.6905 - val_acc: 0.0000e+00\n",
      "Epoch 30/200\n",
      "1250/1250 [==============================] - 18s 15ms/step - loss: 3.0404 - acc: 0.0000e+00 - val_loss: 3.4499 - val_acc: 0.0000e+00\n",
      "Epoch 31/200\n",
      "1250/1250 [==============================] - 17s 14ms/step - loss: 2.3780 - acc: 0.0000e+00 - val_loss: 2.3940 - val_acc: 0.0000e+00\n",
      "Epoch 32/200\n",
      "1250/1250 [==============================] - 17s 14ms/step - loss: 2.3827 - acc: 0.0000e+00 - val_loss: 3.3777 - val_acc: 0.0000e+00\n",
      "Epoch 33/200\n",
      "1250/1250 [==============================] - 18s 14ms/step - loss: 2.2593 - acc: 0.0000e+00 - val_loss: 2.0760 - val_acc: 0.0000e+00\n",
      "Epoch 34/200\n",
      "1250/1250 [==============================] - 18s 14ms/step - loss: 2.0513 - acc: 0.0000e+00 - val_loss: 2.3390 - val_acc: 0.0000e+00\n",
      "Epoch 35/200\n",
      "1250/1250 [==============================] - 18s 15ms/step - loss: 2.1581 - acc: 0.0000e+00 - val_loss: 1.8990 - val_acc: 0.0000e+00\n",
      "Epoch 36/200\n",
      "1250/1250 [==============================] - 18s 14ms/step - loss: 1.8632 - acc: 0.0000e+00 - val_loss: 2.0801 - val_acc: 0.0000e+00\n",
      "Epoch 37/200\n",
      "1250/1250 [==============================] - 18s 14ms/step - loss: 1.6622 - acc: 0.0000e+00 - val_loss: 1.7056 - val_acc: 0.0000e+00\n",
      "Epoch 38/200\n",
      "1250/1250 [==============================] - 18s 14ms/step - loss: 1.7948 - acc: 0.0000e+00 - val_loss: 1.7263 - val_acc: 0.0000e+00\n",
      "Epoch 39/200\n",
      "1250/1250 [==============================] - 18s 14ms/step - loss: 1.5644 - acc: 0.0000e+00 - val_loss: 2.3181 - val_acc: 0.0000e+00\n",
      "Epoch 40/200\n",
      "1250/1250 [==============================] - 18s 14ms/step - loss: 1.5220 - acc: 0.0000e+00 - val_loss: 1.9803 - val_acc: 0.0000e+00\n",
      "Epoch 41/200\n",
      "1250/1250 [==============================] - 17s 14ms/step - loss: 1.4979 - acc: 0.0000e+00 - val_loss: 1.5172 - val_acc: 0.0000e+00\n",
      "Epoch 42/200\n",
      "1250/1250 [==============================] - 18s 14ms/step - loss: 1.4372 - acc: 0.0000e+00 - val_loss: 1.3050 - val_acc: 0.0000e+00\n",
      "Epoch 43/200\n",
      "1250/1250 [==============================] - 17s 14ms/step - loss: 1.2448 - acc: 0.0000e+00 - val_loss: 1.2022 - val_acc: 0.0000e+00\n",
      "Epoch 44/200\n",
      "1250/1250 [==============================] - 18s 14ms/step - loss: 1.2555 - acc: 0.0000e+00 - val_loss: 1.1682 - val_acc: 0.0000e+00\n",
      "Epoch 45/200\n",
      "1250/1250 [==============================] - 17s 14ms/step - loss: 1.3065 - acc: 0.0000e+00 - val_loss: 1.7541 - val_acc: 0.0000e+00\n",
      "Epoch 46/200\n",
      "1250/1250 [==============================] - 17s 14ms/step - loss: 1.2139 - acc: 0.0000e+00 - val_loss: 1.0268 - val_acc: 0.0000e+00\n",
      "Epoch 47/200\n",
      "1250/1250 [==============================] - 18s 14ms/step - loss: 1.1904 - acc: 0.0000e+00 - val_loss: 1.1296 - val_acc: 0.0000e+00\n",
      "Epoch 48/200\n",
      "1250/1250 [==============================] - 18s 14ms/step - loss: 1.0709 - acc: 0.0000e+00 - val_loss: 0.9170 - val_acc: 0.0000e+00\n",
      "Epoch 49/200\n",
      "1250/1250 [==============================] - 18s 14ms/step - loss: 1.1762 - acc: 0.0000e+00 - val_loss: 2.0215 - val_acc: 0.0000e+00\n",
      "Epoch 50/200\n",
      "1250/1250 [==============================] - 19s 15ms/step - loss: 0.9223 - acc: 0.0000e+00 - val_loss: 0.9937 - val_acc: 0.0000e+00\n",
      "Epoch 51/200\n",
      "1250/1250 [==============================] - 18s 14ms/step - loss: 1.0254 - acc: 0.0000e+00 - val_loss: 0.9889 - val_acc: 0.0000e+00\n",
      "Epoch 52/200\n",
      "1250/1250 [==============================] - 18s 14ms/step - loss: 1.0300 - acc: 0.0000e+00 - val_loss: 0.9659 - val_acc: 0.0000e+00\n",
      "Epoch 53/200\n",
      "1250/1250 [==============================] - 17s 14ms/step - loss: 1.1152 - acc: 0.0000e+00 - val_loss: 0.7936 - val_acc: 0.0000e+00\n",
      "Epoch 54/200\n",
      "1250/1250 [==============================] - 18s 15ms/step - loss: 0.7893 - acc: 0.0000e+00 - val_loss: 0.8329 - val_acc: 0.0000e+00\n",
      "Epoch 55/200\n",
      "1250/1250 [==============================] - 18s 14ms/step - loss: 0.8749 - acc: 0.0000e+00 - val_loss: 0.9063 - val_acc: 0.0000e+00\n",
      "Epoch 56/200\n",
      "1250/1250 [==============================] - 18s 14ms/step - loss: 0.8963 - acc: 0.0000e+00 - val_loss: 0.9849 - val_acc: 0.0000e+00\n",
      "Epoch 57/200\n",
      "1250/1250 [==============================] - 18s 14ms/step - loss: 0.8462 - acc: 0.0000e+00 - val_loss: 0.7936 - val_acc: 0.0000e+00\n",
      "Epoch 58/200\n",
      "1250/1250 [==============================] - 18s 14ms/step - loss: 0.8015 - acc: 0.0000e+00 - val_loss: 0.7818 - val_acc: 0.0000e+00\n",
      "Epoch 59/200\n",
      "1250/1250 [==============================] - 17s 14ms/step - loss: 0.8107 - acc: 0.0000e+00 - val_loss: 0.7609 - val_acc: 0.0000e+00\n",
      "Epoch 60/200\n",
      "1250/1250 [==============================] - 18s 14ms/step - loss: 0.8737 - acc: 0.0000e+00 - val_loss: 0.7106 - val_acc: 0.0000e+00\n",
      "Epoch 61/200\n",
      "1250/1250 [==============================] - 18s 14ms/step - loss: 0.7195 - acc: 0.0000e+00 - val_loss: 2.4053 - val_acc: 0.0000e+00\n",
      "Epoch 62/200\n",
      "1250/1250 [==============================] - 18s 14ms/step - loss: 0.7346 - acc: 0.0000e+00 - val_loss: 0.8925 - val_acc: 0.0000e+00\n",
      "Epoch 63/200\n",
      "1250/1250 [==============================] - 18s 14ms/step - loss: 0.7981 - acc: 0.0000e+00 - val_loss: 0.8312 - val_acc: 0.0000e+00\n",
      "Epoch 64/200\n",
      "1250/1250 [==============================] - 17s 14ms/step - loss: 0.7378 - acc: 0.0000e+00 - val_loss: 1.0705 - val_acc: 0.0000e+00\n",
      "Epoch 65/200\n",
      "1250/1250 [==============================] - 17s 14ms/step - loss: 0.6934 - acc: 0.0000e+00 - val_loss: 0.6862 - val_acc: 0.0000e+00\n",
      "Epoch 66/200\n",
      "1250/1250 [==============================] - 18s 14ms/step - loss: 0.6583 - acc: 0.0000e+00 - val_loss: 0.6276 - val_acc: 0.0000e+00\n",
      "Epoch 67/200\n",
      "1250/1250 [==============================] - 18s 14ms/step - loss: 0.7409 - acc: 0.0000e+00 - val_loss: 0.5779 - val_acc: 0.0000e+00\n",
      "Epoch 68/200\n",
      "1250/1250 [==============================] - 18s 14ms/step - loss: 0.6772 - acc: 0.0000e+00 - val_loss: 0.6618 - val_acc: 0.0000e+00\n",
      "Epoch 69/200\n",
      "1250/1250 [==============================] - 18s 14ms/step - loss: 0.7161 - acc: 0.0000e+00 - val_loss: 0.5742 - val_acc: 0.0000e+00\n",
      "Epoch 70/200\n",
      "1250/1250 [==============================] - 17s 14ms/step - loss: 0.6212 - acc: 0.0000e+00 - val_loss: 0.6648 - val_acc: 0.0000e+00\n",
      "Epoch 71/200\n",
      "1250/1250 [==============================] - 18s 14ms/step - loss: 0.6577 - acc: 0.0000e+00 - val_loss: 0.5709 - val_acc: 0.0000e+00\n",
      "Epoch 72/200\n",
      "1250/1250 [==============================] - 18s 14ms/step - loss: 0.5885 - acc: 0.0000e+00 - val_loss: 0.6400 - val_acc: 0.0000e+00\n",
      "Epoch 73/200\n",
      "1250/1250 [==============================] - 18s 14ms/step - loss: 0.6278 - acc: 0.0000e+00 - val_loss: 0.7290 - val_acc: 0.0000e+00\n",
      "Epoch 74/200\n",
      "1250/1250 [==============================] - 18s 14ms/step - loss: 0.6019 - acc: 0.0000e+00 - val_loss: 0.5562 - val_acc: 0.0000e+00\n",
      "Epoch 75/200\n",
      "1250/1250 [==============================] - 18s 14ms/step - loss: 0.5500 - acc: 0.0000e+00 - val_loss: 0.5293 - val_acc: 0.0000e+00\n",
      "Epoch 76/200\n",
      "1250/1250 [==============================] - 18s 14ms/step - loss: 0.6123 - acc: 0.0000e+00 - val_loss: 0.6644 - val_acc: 0.0000e+00\n",
      "Epoch 77/200\n",
      "1250/1250 [==============================] - 18s 14ms/step - loss: 0.5748 - acc: 0.0000e+00 - val_loss: 0.6324 - val_acc: 0.0000e+00\n",
      "Epoch 78/200\n",
      "1250/1250 [==============================] - 17s 14ms/step - loss: 0.5283 - acc: 0.0000e+00 - val_loss: 0.5365 - val_acc: 0.0000e+00\n",
      "Epoch 79/200\n",
      "1250/1250 [==============================] - 18s 14ms/step - loss: 0.5533 - acc: 0.0000e+00 - val_loss: 0.5991 - val_acc: 0.0000e+00\n",
      "Epoch 80/200\n",
      "1250/1250 [==============================] - 17s 14ms/step - loss: 0.5541 - acc: 0.0000e+00 - val_loss: 0.5420 - val_acc: 0.0000e+00\n",
      "Epoch 81/200\n",
      "1250/1250 [==============================] - 18s 14ms/step - loss: 0.6173 - acc: 0.0000e+00 - val_loss: 0.4675 - val_acc: 0.0000e+00\n",
      "Epoch 82/200\n",
      "1250/1250 [==============================] - 17s 14ms/step - loss: 0.5394 - acc: 0.0000e+00 - val_loss: 0.5843 - val_acc: 0.0000e+00\n",
      "Epoch 83/200\n",
      "1250/1250 [==============================] - 18s 15ms/step - loss: 0.6324 - acc: 0.0000e+00 - val_loss: 0.4959 - val_acc: 0.0000e+00\n",
      "Epoch 84/200\n",
      "1250/1250 [==============================] - 18s 14ms/step - loss: 0.4541 - acc: 0.0000e+00 - val_loss: 0.5266 - val_acc: 0.0000e+00\n",
      "Epoch 85/200\n",
      "1250/1250 [==============================] - 18s 14ms/step - loss: 0.5397 - acc: 0.0000e+00 - val_loss: 0.4558 - val_acc: 0.0000e+00\n",
      "Epoch 86/200\n",
      "1250/1250 [==============================] - 18s 14ms/step - loss: 0.6838 - acc: 0.0000e+00 - val_loss: 0.3922 - val_acc: 0.0000e+00\n",
      "Epoch 87/200\n",
      "1250/1250 [==============================] - 18s 15ms/step - loss: 0.3991 - acc: 0.0000e+00 - val_loss: 0.4415 - val_acc: 0.0000e+00\n",
      "Epoch 88/200\n",
      "1250/1250 [==============================] - 18s 14ms/step - loss: 0.4870 - acc: 0.0000e+00 - val_loss: 0.5945 - val_acc: 0.0000e+00\n",
      "Epoch 89/200\n",
      "1250/1250 [==============================] - 17s 14ms/step - loss: 0.4649 - acc: 0.0000e+00 - val_loss: 0.4288 - val_acc: 0.0000e+00\n",
      "Epoch 90/200\n",
      "1250/1250 [==============================] - 18s 14ms/step - loss: 0.4880 - acc: 0.0000e+00 - val_loss: 0.5341 - val_acc: 0.0000e+00\n",
      "Epoch 91/200\n",
      "1250/1250 [==============================] - 18s 14ms/step - loss: 0.4844 - acc: 0.0000e+00 - val_loss: 0.3829 - val_acc: 0.0000e+00\n",
      "Epoch 92/200\n",
      "1250/1250 [==============================] - 17s 14ms/step - loss: 0.4688 - acc: 0.0000e+00 - val_loss: 1.1168 - val_acc: 0.0000e+00\n",
      "Epoch 93/200\n",
      "1250/1250 [==============================] - 18s 14ms/step - loss: 0.4730 - acc: 0.0000e+00 - val_loss: 0.3950 - val_acc: 0.0000e+00\n",
      "Epoch 94/200\n",
      "1250/1250 [==============================] - 18s 14ms/step - loss: 0.4583 - acc: 0.0000e+00 - val_loss: 0.3611 - val_acc: 0.0000e+00\n",
      "Epoch 95/200\n",
      "1250/1250 [==============================] - 17s 14ms/step - loss: 0.4424 - acc: 0.0000e+00 - val_loss: 0.4361 - val_acc: 0.0000e+00\n",
      "Epoch 96/200\n",
      "1250/1250 [==============================] - 18s 14ms/step - loss: 0.4561 - acc: 0.0000e+00 - val_loss: 0.4730 - val_acc: 0.0000e+00\n",
      "Epoch 97/200\n",
      "1250/1250 [==============================] - 17s 14ms/step - loss: 0.4193 - acc: 0.0000e+00 - val_loss: 0.3624 - val_acc: 0.0000e+00\n",
      "Epoch 98/200\n",
      "1250/1250 [==============================] - 17s 14ms/step - loss: 0.4586 - acc: 0.0000e+00 - val_loss: 0.4674 - val_acc: 0.0000e+00\n",
      "Epoch 99/200\n",
      "1250/1250 [==============================] - 18s 14ms/step - loss: 0.3858 - acc: 0.0000e+00 - val_loss: 0.3790 - val_acc: 0.0000e+00\n",
      "Epoch 100/200\n",
      "1250/1250 [==============================] - 18s 15ms/step - loss: 0.4506 - acc: 0.0000e+00 - val_loss: 0.3948 - val_acc: 0.0000e+00\n",
      "Epoch 101/200\n",
      "1250/1250 [==============================] - 18s 15ms/step - loss: 0.4298 - acc: 0.0000e+00 - val_loss: 0.3783 - val_acc: 0.0000e+00\n",
      "Epoch 102/200\n",
      "1250/1250 [==============================] - 18s 14ms/step - loss: 0.4148 - acc: 0.0000e+00 - val_loss: 0.5499 - val_acc: 0.0000e+00\n",
      "Epoch 103/200\n",
      "1250/1250 [==============================] - 18s 14ms/step - loss: 0.4187 - acc: 0.0000e+00 - val_loss: 0.6180 - val_acc: 0.0000e+00\n",
      "Epoch 104/200\n",
      "1250/1250 [==============================] - 17s 14ms/step - loss: 0.3784 - acc: 0.0000e+00 - val_loss: 0.3198 - val_acc: 0.0000e+00\n",
      "Epoch 105/200\n",
      "1250/1250 [==============================] - 18s 14ms/step - loss: 0.4071 - acc: 0.0000e+00 - val_loss: 0.3733 - val_acc: 0.0000e+00\n",
      "Epoch 106/200\n",
      "1250/1250 [==============================] - 18s 14ms/step - loss: 0.4043 - acc: 0.0000e+00 - val_loss: 0.3236 - val_acc: 0.0000e+00\n",
      "Epoch 107/200\n",
      "1250/1250 [==============================] - 17s 14ms/step - loss: 0.3637 - acc: 0.0000e+00 - val_loss: 0.4214 - val_acc: 0.0000e+00\n",
      "Epoch 108/200\n",
      "1250/1250 [==============================] - 18s 14ms/step - loss: 0.3835 - acc: 0.0000e+00 - val_loss: 0.3272 - val_acc: 0.0000e+00\n",
      "Epoch 109/200\n",
      "1250/1250 [==============================] - 18s 14ms/step - loss: 0.4043 - acc: 0.0000e+00 - val_loss: 0.3360 - val_acc: 0.0000e+00\n",
      "Epoch 110/200\n",
      "1250/1250 [==============================] - 18s 14ms/step - loss: 0.3993 - acc: 0.0000e+00 - val_loss: 0.3044 - val_acc: 0.0000e+00\n",
      "Epoch 111/200\n",
      "1250/1250 [==============================] - 17s 14ms/step - loss: 0.4068 - acc: 0.0000e+00 - val_loss: 0.3212 - val_acc: 0.0000e+00\n",
      "Epoch 112/200\n",
      "1250/1250 [==============================] - 17s 14ms/step - loss: 0.3768 - acc: 0.0000e+00 - val_loss: 0.3520 - val_acc: 0.0000e+00\n",
      "Epoch 113/200\n",
      "1250/1250 [==============================] - 17s 14ms/step - loss: 0.4132 - acc: 0.0000e+00 - val_loss: 0.3468 - val_acc: 0.0000e+00\n",
      "Epoch 114/200\n",
      "1250/1250 [==============================] - 18s 14ms/step - loss: 0.3320 - acc: 0.0000e+00 - val_loss: 0.4434 - val_acc: 0.0000e+00\n",
      "Epoch 115/200\n",
      "1250/1250 [==============================] - 18s 14ms/step - loss: 0.3769 - acc: 0.0000e+00 - val_loss: 0.3284 - val_acc: 0.0000e+00\n",
      "Epoch 116/200\n",
      "1250/1250 [==============================] - 18s 14ms/step - loss: 0.3533 - acc: 0.0000e+00 - val_loss: 0.3561 - val_acc: 0.0000e+00\n",
      "Epoch 117/200\n",
      "1250/1250 [==============================] - 17s 14ms/step - loss: 0.3826 - acc: 0.0000e+00 - val_loss: 0.2944 - val_acc: 0.0000e+00\n",
      "Epoch 118/200\n",
      "1250/1250 [==============================] - 18s 14ms/step - loss: 0.3265 - acc: 0.0000e+00 - val_loss: 0.4199 - val_acc: 0.0000e+00\n",
      "Epoch 119/200\n",
      "1250/1250 [==============================] - 18s 14ms/step - loss: 0.4576 - acc: 0.0000e+00 - val_loss: 0.2501 - val_acc: 0.0000e+00\n",
      "Epoch 120/200\n",
      "1250/1250 [==============================] - 18s 14ms/step - loss: 0.2888 - acc: 0.0000e+00 - val_loss: 0.3062 - val_acc: 0.0000e+00\n",
      "Epoch 121/200\n",
      "1250/1250 [==============================] - 17s 14ms/step - loss: 0.3634 - acc: 0.0000e+00 - val_loss: 0.3210 - val_acc: 0.0000e+00\n",
      "Epoch 122/200\n",
      "1250/1250 [==============================] - 17s 14ms/step - loss: 0.3094 - acc: 0.0000e+00 - val_loss: 0.2871 - val_acc: 0.0000e+00\n",
      "Epoch 123/200\n",
      "1250/1250 [==============================] - 18s 14ms/step - loss: 0.3546 - acc: 0.0000e+00 - val_loss: 0.2623 - val_acc: 0.0000e+00\n",
      "Epoch 124/200\n",
      " 339/1250 [=======>......................] - ETA: 11s - loss: 0.3740 - acc: 0.0000e+00"
     ]
    }
   ],
   "source": [
    "the_fit = pfn.fit(X_train, Y_train,\n",
    "                  epochs=200,\n",
    "                  batch_size=400,\n",
    "                  validation_data=(X_val, Y_val),\n",
    "                  verbose=1)"
   ]
  },
  {
   "cell_type": "code",
   "execution_count": null,
   "id": "b1b0b769",
   "metadata": {
    "scrolled": true
   },
   "outputs": [],
   "source": [
    "pfn.layers\n",
    "pfn.save(\"energy_regression.h5\")\n",
    "mypreds = pfn.predict(X_test,batch_size=400)"
   ]
  },
  {
   "cell_type": "code",
   "execution_count": null,
   "id": "99f69ab7",
   "metadata": {},
   "outputs": [],
   "source": [
    "fig = plt.figure(figsize=(28,10))\n",
    "ax = plt.subplot(1, 2, 1)\n",
    "plt.scatter(Y_test,mypreds,alpha=0.3)\n",
    "plt.xlabel(\"Y Test [GeV]\",fontsize=22)\n",
    "plt.xticks(fontsize=20)\n",
    "plt.yticks(fontsize=20)\n",
    "plt.tick_params(direction='in',right=True,top=True,length=10)\n",
    "#plt.ylim(-0.01,100.01)\n",
    "plt.ylim(-10,110)\n",
    "plt.ylabel(\"Y Pred [GeV]\",fontsize=22)\n",
    "_ = plt.title(\"Prediction vs. Test\",fontsize=26)\n",
    "#FIXME: find indecies in mypreds where mypreds 50\n",
    "\n",
    "ax = plt.subplot(1, 2, 2)\n",
    "plt.plot(the_fit.history['loss'])\n",
    "plt.plot(the_fit.history['val_loss'])\n",
    "plt.title('Model Loss vs. Epoch',fontsize=26)\n",
    "plt.text(0.73,0.8,\" Rate = %1.5f\"%(learning_rate),\n",
    "         transform=ax.transAxes,fontsize=20)\n",
    "plt.ylabel('Mean-Squared Error',fontsize=22)\n",
    "plt.yscale('log')\n",
    "plt.xlabel('epoch',fontsize=22)\n",
    "plt.xticks(fontsize=20)\n",
    "plt.yticks(fontsize=20)\n",
    "plt.tick_params(direction='in',right=True,top=True,length=10)\n",
    "plt.tick_params(direction='in',right=True,top=True,which='minor')\n",
    "plt.xlim([-1,201])\n",
    "plt.legend(['train', 'validation'], loc='upper right',fontsize=22)\n",
    "plt.savefig(\"Prediction_Test.pdf\")"
   ]
  },
  {
   "cell_type": "code",
   "execution_count": null,
   "id": "2c0e1072-b162-4bc4-95db-5a82e655ab20",
   "metadata": {},
   "outputs": [],
   "source": [
    "#Binning\n",
    "N = 50\n",
    "E_Max = 100\n",
    "E_Bins = np.linspace(0,E_Max,N+1)\n",
    "\n",
    "#Goal: slices defined by bin of truthE, filled with pred\n",
    "indecies = np.digitize(Y_test,E_Bins)\n",
    "max_count = ((np.bincount(indecies).max()))\n",
    "slices = np.empty((N,max_count))\n",
    "slices.fill(np.nan)\n",
    "\n",
    "counter = np.zeros(N,int)\n",
    "avg_truth = np.zeros(N,float)\n",
    "\n",
    "for pred,bin,truth in zip(mypreds,indecies,Y_test):\n",
    "    slices[bin-1][counter[bin-1]] = pred\n",
    "    counter[bin-1]+=1\n",
    "    avg_truth[bin-1]+=truth\n",
    "    \n",
    "#Resoluton: stdev(pred)/avg_truth    \n",
    "avg_truth = avg_truth/counter\n",
    "stdev_pred = np.nanstd(slices,axis=1)\n",
    "resolution = stdev_pred/avg_truth"
   ]
  },
  {
   "cell_type": "code",
   "execution_count": null,
   "id": "831bff34-75b8-472a-bef5-124dc9ab585a",
   "metadata": {},
   "outputs": [],
   "source": [
    "fig=plt.figure(figsize=(14,10))\n",
    "plt.title(\"AI Codesign Resolution\",fontsize=25)\n",
    "plt.ylabel(\"$(\\sigma_{E,\\mathrm{Pred}}/E_\\mathrm{Truth})$\",fontsize=24)\n",
    "plt.xlabel(\"$E_\\mathrm{Truth}$ [GeV]\",fontsize=24)\n",
    "plt.xticks(fontsize=20)\n",
    "plt.yticks(fontsize=20)\n",
    "plt.tick_params(direction='in',right=True,top=True,length=10)\n",
    "#plt.ylim(-0.02,0.4)\n",
    "plt.ylim(0,0.22)\n",
    "plt.xlim(-0.01,100.01)\n",
    "errors = 1.0/(np.sqrt(2*counter-2))*stdev_pred\n",
    "ax = plt.subplot(1,1,1)\n",
    "first_bin = 0\n",
    "last_bin = N\n",
    "plt.errorbar(avg_truth[first_bin:last_bin],resolution[first_bin:last_bin],yerr=errors[first_bin:last_bin],\n",
    "             linestyle=\"-\",linewidth=2.0,capsize=4,capthick=1.2,elinewidth=1.2,ecolor='black',marker=\"o\",color='dodgerblue',alpha=0.7)\n",
    "_ = plt.text(0.7,0.93,\"Stat. Error: $\\dfrac{\\sigma}{\\sqrt{2N-2} } $\",transform=ax.transAxes,fontsize=20)\n",
    "plt.savefig(\"resolution_plot.pdf\")"
   ]
  },
  {
   "cell_type": "code",
   "execution_count": null,
   "id": "3823e85d-ad08-4247-8c35-e9a98b49e874",
   "metadata": {},
   "outputs": [],
   "source": [
    "fig,axs = plt.subplots(int(N/10),10, figsize=(32, 16),sharex=False,sharey=True,constrained_layout=True)\n",
    "for i in range(N):\n",
    "    row = int(i/10)\n",
    "    col = i%10\n",
    "    ax = axs[row,col]\n",
    "    if (col==0):\n",
    "        ax.set_ylabel(\"Counts\",fontsize=15)\n",
    "    temp_bin = np.linspace(avg_truth[i]-2.0,avg_truth[i]+2.0,16)\n",
    "    ax.set_title(\"%1.1f $ < E_\\mathrm{Truth} < $%1.1f [GeV]\"%(E_Bins[i],E_Bins[i+1]))\n",
    "    ax.set_xlabel(\"Predicted Eenergy\")\n",
    "    ax.hist(slices[i],bins=temp_bin,label=\"Predicted Energies\")\n",
    "    ax.axvline(x=avg_truth[i],color='red',alpha=0.3,linestyle=\"--\",label=\"Avg. $E_\\mathrm{Truth} = %1.2f$\"%(avg_truth[i]))\n",
    "    ax.legend(fontsize=7.5)\n",
    "    ax.tick_params(direction='in',right=True,top=True,length=5)\n",
    "plt.savefig(\"resolutions_slices.pdf\")"
   ]
  },
  {
   "cell_type": "code",
   "execution_count": null,
   "id": "e568413d-753b-4b1a-8dd0-747c8f4f074d",
   "metadata": {},
   "outputs": [],
   "source": [
    "from copy import copy\n",
    "from matplotlib.colors import LogNorm\n",
    "fig, axes = plt.subplots(nrows=1, figsize=(14, 10), constrained_layout=True)\n",
    "cmap = copy(plt.cm.plasma)\n",
    "cmap.set_bad(cmap(0))\n",
    "edges=np.linspace(-10,110,121)\n",
    "h, xedges, yedges = np.histogram2d(Y_test, mypreds[:,0], bins=[edges, edges])\n",
    "#xedges=yedges\n",
    "pcm = axes.pcolormesh(xedges, yedges, h.T, cmap=cmap,\n",
    "                         norm=LogNorm(vmin=1.0e-2,vmax=2.0e3), rasterized=True)\n",
    "cb = fig.colorbar(pcm, ax=axes, pad=0)\n",
    "cb.set_label(\"Counts\",fontsize=22)\n",
    "cb.ax.tick_params(labelsize=20)\n",
    "axes.set_xlabel(\"Generated Energy\",fontsize=22)\n",
    "plt.yticks(fontsize=20)\n",
    "plt.xticks(fontsize=20)\n",
    "plt.ylim(-10,110)\n",
    "plt.xlim(-10,110)\n",
    "axes.set_ylabel(\"Predicted Energy\",fontsize=25)\n",
    "axes.set_title(\"Predicted vs. Generated Energy\",fontsize=30)\n",
    "plt.savefig(\"Gen_vs_Pred.pdf\")\n",
    "print(np.size(yedges))"
   ]
  },
  {
   "cell_type": "code",
   "execution_count": null,
   "id": "09cbc67d-e62c-4e7c-a1f5-783cc6db2b8a",
   "metadata": {},
   "outputs": [],
   "source": [
    "#Find the peak and zoom in\n",
    "fig = plt.figure(figsize=(18,5))\n",
    "plt.suptitle(\"Predictions\",fontsize=25)\n",
    "ax = plt.subplot(1, 2, 1)\n",
    "plt.xlabel(\"Predicted Energy [GeV]\",fontsize=18)\n",
    "bins = np.linspace(0,100,300)\n",
    "freq = plt.hist(mypreds, bins=bins)\n",
    "\n",
    "ax = plt.subplot(1, 2, 2)\n",
    "plt.xlabel(\"Predicted Energy [GeV]\",fontsize=18)\n",
    "plt.text(0.03,0.9,\"[Zoomed In]\",transform=ax.transAxes,fontsize=18)\n",
    "maxbin = np.argmax(freq[0])\n",
    "zoom = np.linspace(bins[maxbin]-0.01,bins[maxbin]+0.01,100)\n",
    "mask = np.where(np.logical_and(mypreds>=bins[maxbin]-0.01, mypreds<=bins[maxbin]+0.01))[0]\n",
    "_ = plt.hist(mypreds[mask],alpha=.3,color=\"black\",bins=zoom)\n",
    "print(\"%i / %i Events\"%(len(mask),len(mypreds)),\"[{:.3%}]\".format( (len(mask)/len(mypreds)) ) )"
   ]
  },
  {
   "cell_type": "code",
   "execution_count": null,
   "id": "60c97d5a-9974-45ea-9648-fb78262a74f9",
   "metadata": {},
   "outputs": [],
   "source": [
    "#plt.hist(np.count_nonzero(np.ravel(X_test[:,1,:])))\n",
    "weird_data = X_test[mask]\n",
    "bins = np.linspace(0,1000,20)\n",
    "fig = plt.figure(figsize=(18,5))\n",
    "ax = plt.subplot(1,2,1)\n",
    "plt.hist(np.ravel(np.count_nonzero(X_test,axis=2)),bins=bins)\n",
    "plt.title(\"Entire Image Dataset\",fontsize=20)\n",
    "ax = plt.subplot(1,2,2)\n",
    "plt.title(\"Weird Cells\",fontsize=20)\n",
    "plt.hist(np.ravel(np.count_nonzero(weird_data,axis=2)),bins=bins)\n",
    "plt.suptitle(\"Number of Cell Hits\",fontsize=25)"
   ]
  },
  {
   "cell_type": "code",
   "execution_count": null,
   "id": "e97defba-5034-4a14-a560-4e1d7e8dfdc9",
   "metadata": {},
   "outputs": [],
   "source": [
    "print(np.ravel(np.count_nonzero(weird_data,axis=2)))"
   ]
  },
  {
   "cell_type": "code",
   "execution_count": null,
   "id": "2967af65-7937-46a9-8428-ade0390d4c57",
   "metadata": {},
   "outputs": [],
   "source": [
    "print(mask[0])"
   ]
  },
  {
   "cell_type": "code",
   "execution_count": null,
   "id": "8584a7ae-0378-4318-80bf-d414a8cd6311",
   "metadata": {},
   "outputs": [],
   "source": [
    "cm = plt.cm.get_cmap('plasma')\n",
    "cell_vars = [\"Energy\",\"Cell X\",\"Cell Y\",\"Cell Depth\",\"Layer 1 Position\", \"Layer 2 Position\"]\n",
    "bins = [np.linspace(0.01,500,200),np.linspace(-500,500,100),\n",
    "        np.linspace(-500,1300,100),np.linspace(-1.5,2.5,100),\n",
    "        np.linspace(-275,350,100),np.linspace(-275,350,100)]\n",
    "data=[]\n",
    "weird_data=X_test[mask]\n",
    "fig = plt.figure(figsize=(18,9))\n",
    "#plt.subplots_adjust(left=None, bottom=1, right=None, top=1.5, wspace=None, hspace=None)\n",
    "for i in range(images.shape[1]):\n",
    "    ax = plt.subplot(2, 3, i+1)\n",
    "    data.insert(i,np.ravel(weird_data[:,i,:]))\n",
    "    data[i] = data[i][data[i]!=0]\n",
    "    plt.hist(data[i],bins=bins[i],color=cm(i/images.shape[1]))\n",
    "    plt.title(\"%s\"%(cell_vars[i]),fontsize=20)\n",
    "    plt.suptitle(\"'Weird' Normalized Cell Input Data\",fontsize=25)\n",
    "plt.savefig(\"weird_Cell_Data.pdf\")\n",
    "    #plt.xlabel('%s [Normalized]'%(cell_vars[i]),fontsize=15)"
   ]
  },
  {
   "cell_type": "code",
   "execution_count": null,
   "id": "11d029be-97c7-4ff1-a59c-33a260bff7d9",
   "metadata": {},
   "outputs": [],
   "source": [
    "cm = plt.cm.get_cmap('plasma')\n",
    "cell_vars = [\"Energy\",\"Cell X\",\"Cell Y\",\"Cell Depth\",\"Layer 1 Position\", \"Layer 2 Position\"]\n",
    "bins = [np.linspace(0.01,500,200),np.linspace(-500,500,100),\n",
    "        np.linspace(-500,1300,100),np.linspace(-1.5,2.5,100),\n",
    "        np.linspace(-275,350,100),np.linspace(-275,350,100)]\n",
    "weird_data=X_test[mask]\n",
    "fig = plt.figure(figsize=(18,9))\n",
    "#plt.subplots_adjust(left=None, bottom=1, right=None, top=1.5, wspace=None, hspace=None)\n",
    "for i in range(images.shape[1]-1):\n",
    "    ax = plt.subplot(2, 3, i+1)\n",
    "    plt.scatter(np.ravel(weird_data[:,i,:]),np.ravel(weird_data[:,i+1,:]),s=2)\n",
    "    plt.xlabel(cell_vars[i])\n",
    "    plt.ylabel(cell_vars[i+1])\n",
    "    #plt.title(\"%s\"%(cell_vars[i]),fontsize=20)\n",
    "    plt.suptitle(\"'Weird' Normalized Cell Scatter Plots\",fontsize=25)\n",
    "plt.savefig(\"weird_Cell_Data.pdf\")"
   ]
  },
  {
   "cell_type": "code",
   "execution_count": null,
   "id": "90266c3a-1665-48db-93d1-66d9b79ac239",
   "metadata": {},
   "outputs": [],
   "source": []
  }
 ],
 "metadata": {
  "kernelspec": {
   "display_name": "Python 3 (ipykernel)",
   "language": "python",
   "name": "python3"
  },
  "language_info": {
   "codemirror_mode": {
    "name": "ipython",
    "version": 3
   },
   "file_extension": ".py",
   "mimetype": "text/x-python",
   "name": "python",
   "nbconvert_exporter": "python",
   "pygments_lexer": "ipython3",
   "version": "3.9.7"
  }
 },
 "nbformat": 4,
 "nbformat_minor": 5
}
