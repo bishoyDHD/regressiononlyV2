{
 "cells": [
  {
   "cell_type": "code",
   "execution_count": 1,
   "id": "c45f244a-0aa6-4879-9951-2415c4e09b74",
   "metadata": {},
   "outputs": [],
   "source": [
    "sys.path.insert(0, '../functions')\n",
    "import tensorflow as tf                                                                                                                          \n",
    "from energyflow.archs import PFN                                                                                                                 \n",
    "from training_functions import *                                                                                                                 \n",
    "from sklearn.preprocessing import StandardScaler                                                                                                 \n",
    "import h5py as h5                                                                                                                                \n",
    "import matplotlib.pyplot as plt                                                                                                       \n",
    "import numpy as np                                                                                                                               \n",
    "import os                                                                                                                                        \n",
    "import shutil"
   ]
  },
  {
   "cell_type": "code",
   "execution_count": 2,
   "id": "d3ffd3be-72c6-49cc-93b9-7a067e2cba95",
   "metadata": {},
   "outputs": [],
   "source": [
    "from matplotlib import style\n",
    "style.use('/global/home/users/ftoralesacosta/dotfiles/scientific.mplstyle')\n",
    "colors = ['#348ABD','#C70039','#FF5733','#FFC300','#65E88F','#40E0D0']"
   ]
  },
  {
   "cell_type": "markdown",
   "id": "59b88130-8914-4a35-8a9f-0a7881ac3617",
   "metadata": {},
   "source": [
    "## Train, Val, Test Data"
   ]
  },
  {
   "cell_type": "code",
   "execution_count": 3,
   "id": "dfab4f76-5442-478d-84bd-d006601665d5",
   "metadata": {
    "tags": []
   },
   "outputs": [],
   "source": [
    "h5_filename = \"2M_uncompressed.hdf5\""
   ]
  },
  {
   "cell_type": "code",
   "execution_count": 4,
   "id": "18b4cb17-f342-423c-8c14-7d0012774fa8",
   "metadata": {},
   "outputs": [],
   "source": [
    "label = \"notebook_test\"  #Replace with your own variation!      \n",
    "path = \"./\"+label\n",
    "batch_size=1000\n",
    "\n",
    "shutil.rmtree(path, ignore_errors=True)                                                                       \n",
    "os.makedirs(path)                                                                                             "
   ]
  },
  {
   "cell_type": "markdown",
   "id": "bb103b10-3554-45d7-a16b-c0d05c3d3f4f",
   "metadata": {},
   "source": [
    "## Define the generators: Treating our samples as an infinite stream of data, reading one chunk at a time"
   ]
  },
  {
   "cell_type": "code",
   "execution_count": 5,
   "id": "4eea7cd2-93fa-4cee-a99d-220142146eb1",
   "metadata": {},
   "outputs": [
    {
     "name": "stdout",
     "output_type": "stream",
     "text": [
      "Calculating Mean and Stdev using 100 batches for train_hcal\n",
      "Input Means =  [ 2.39142433e-01 -4.62825251e+00 -2.36877704e+00  4.33162939e+03]\n",
      "Input Stdevs =  [5.49291730e-01 1.14474854e+03 1.15580933e+03 2.92112701e+02]\n",
      "Calculating Mean and Stdev using 100 batches for train_mc\n",
      "Target Means =  [ 2.11000000e+02  2.10102760e+07  1.00000000e+00 -4.21196371e-02\n",
      " -2.57704500e-02  5.01064453e+01  1.39570221e-01  1.58216190e+01\n",
      "  5.29652367e+01  1.75166626e+01]\n",
      "Target Stdevs =  [0.00000000e+00 2.34568620e+07 0.00000000e+00 1.35731726e+01\n",
      " 1.35280685e+01 2.57900734e+01 4.47034836e-08 1.08128853e+01\n",
      " 2.71608105e+01 7.21956539e+00]\n",
      "Calculating Mean and Stdev using 100 batches for val_hcal\n"
     ]
    },
    {
     "name": "stderr",
     "output_type": "stream",
     "text": [
      "2022-11-15 16:34:40.748979: W tensorflow/stream_executor/platform/default/dso_loader.cc:64] Could not load dynamic library 'libcudnn.so.8'; dlerror: libcudnn.so.8: cannot open shared object file: No such file or directory; LD_LIBRARY_PATH: /usr/local/cuda-11.2/lib64:/global/home/users/ftoralesacosta/user_pkg/usr/lib:/global/home/users/ftoralesacosta/user_pkg/usr/lib64:/lib:/lib64:/usr/lib:/usr/lib64\n",
      "2022-11-15 16:34:40.749005: W tensorflow/core/common_runtime/gpu/gpu_device.cc:1850] Cannot dlopen some GPU libraries. Please make sure the missing libraries mentioned above are installed properly if you would like to use GPU. Follow the guide at https://www.tensorflow.org/install/gpu for how to download and setup the required libraries for your platform.\n",
      "Skipping registering GPU devices...\n",
      "2022-11-15 16:34:40.749380: I tensorflow/core/platform/cpu_feature_guard.cc:193] This TensorFlow binary is optimized with oneAPI Deep Neural Network Library (oneDNN) to use the following CPU instructions in performance-critical operations:  AVX2 FMA\n",
      "To enable them in other operations, rebuild TensorFlow with the appropriate compiler flags.\n"
     ]
    },
    {
     "name": "stdout",
     "output_type": "stream",
     "text": [
      "Input Means =  [ 2.39664078e-01 -6.23308229e+00 -5.09636045e-01  4.33240625e+03]\n",
      "Input Stdevs =  [5.49368083e-01 1.13912231e+03 1.15630859e+03 2.92006378e+02]\n",
      "Calculating Mean and Stdev using 100 batches for val_mc\n",
      "Target Means =  [ 2.11000000e+02  2.10265500e+07  1.00000000e+00 -8.95005986e-02\n",
      " -4.28442433e-02  5.01147156e+01  1.39570221e-01  1.58227100e+01\n",
      "  5.29707184e+01  1.75182571e+01]\n",
      "Target Stdevs =  [0.00000000e+00 2.34973860e+07 0.00000000e+00 1.35150270e+01\n",
      " 1.35650406e+01 2.57795887e+01 4.47034836e-08 1.07850800e+01\n",
      " 2.71449966e+01 7.20649862e+00]\n",
      "Calculating Mean and Stdev using 100 batches for test_hcal\n",
      "Input Means =  [ 2.39135191e-01 -9.64025676e-01 -3.48632789e+00  4.33127051e+03]\n",
      "Input Stdevs =  [5.49081087e-01 1.14077258e+03 1.15841260e+03 2.91774689e+02]\n"
     ]
    }
   ],
   "source": [
    "recalc_scalar = True\n",
    "N_Scalar_Batches = 100\n",
    "do_norm = True #False for Debugging ONLY\n",
    "train_generator = tf.data.Dataset.from_generator(\n",
    "    training_generator(h5_filename,'train_hcal','train_mc',batch_size,do_norm,path,recalc_scalar),\n",
    "    output_shapes=(tf.TensorShape([None,None,None]),[None]),\n",
    "    output_types=(tf.float64, tf.float64))\n",
    " \n",
    "val_generator = tf.data.Dataset.from_generator(\n",
    "    training_generator(h5_filename,'val_hcal','val_mc',batch_size,do_norm,path,recalc_scalar),\n",
    "    output_shapes=(tf.TensorShape([None,None,None]),[None]),\n",
    "    output_types=(tf.float64, tf.float64))\n",
    "\n",
    "test_generator = tf.data.Dataset.from_generator(                                                                                              \n",
    "    test_generator(h5_filename,'test_hcal',batch_size,do_norm,path,recalc_scalar),                                                                                \n",
    "    output_shapes=(tf.TensorShape([None,None,None])),                                                                                            \n",
    "    output_types=(tf.float64))"
   ]
  },
  {
   "cell_type": "markdown",
   "id": "f8db27cf-f407-4d9c-96fc-bbc971bee8b9",
   "metadata": {},
   "source": [
    "get_np_from_gen(h5_filename,n_batches,batch_size=1000,do_norm=True):## QA Immediatley Before Training: \n",
    "Plot the Cell Data for Training, Validation, and Test Datasets"
   ]
  },
  {
   "cell_type": "code",
   "execution_count": 6,
   "id": "ab639162-06f3-4813-93e0-7e6ac5f37cc9",
   "metadata": {},
   "outputs": [],
   "source": [
    "input_array,target_array,val_input_data,val_target_data,test_array = \\\n",
    "get_np_from_gen(h5_filename,10,batch_size=1000,do_norm=True)"
   ]
  },
  {
   "cell_type": "code",
   "execution_count": 8,
   "id": "9ce0d619-5663-45dc-8981-b709546a07ab",
   "metadata": {},
   "outputs": [
    {
     "data": {
      "image/png": "[encoded data removed]",
      "text/plain": [
       "<Figure size 1008x504 with 6 Axes>"
      ]
     },
     "metadata": {
      "needs_background": "light"
     },
     "output_type": "display_data"
    }
   ],
   "source": [
    "cell_vars = [\"Cell Energy\",\"Cell X\",\"Cell Y\",\"Cell Z\"]\n",
    "\n",
    "fig,axes=plt.subplots(2,3,figsize=(14,7))\n",
    "axes = axes.ravel()\n",
    "density = True\n",
    "for i in range(input_array.shape[-1]):\n",
    "    axes[i].hist(np.ravel(input_array[:,:,i][input_array[:,:,i]!=0]),alpha=0.5,label=\"Training\",bins=25,density=density)\n",
    "    axes[i].hist(np.ravel(val_input_data[:,:,i][val_input_data[:,:,i]!=0]),alpha=0.5,label=\"Validation\",bins=25,density=density)\n",
    "    axes[i].hist(np.ravel(test_array[:,:,i][test_array[:,:,i]!=0]),alpha=0.5,label=\"Test\",bins=25,density=density)\n",
    "    axes[i].legend(fontsize=10)\n",
    "    axes[i].set_title(\"%s\"%(cell_vars[i]),fontsize=20)\n",
    "\n",
    "    #N Cell Hits\n",
    "    axes[4].hist(np.ravel(np.count_nonzero(input_array[:,:,i],axis=-1)),\n",
    "             bins=1000,alpha=0.2,\n",
    "             density=True, label=cell_vars[i])\n",
    "    \n",
    "axes[4].legend(fontsize=10)\n",
    "axes[4].set_title(\"Number of Cell Hits\",fontsize=20)\n",
    "    \n",
    "axes[5].hist(target_array,alpha=0.5,label=\"Training Truth E\",density=True)\n",
    "axes[5].hist(val_target_data,alpha=0.5,label=\"Validation Truth E\",density=True)\n",
    "axes[5].legend(fontsize=10)\n",
    "axes[5].set_title(\"Validation and Test Truth Energy\",fontsize=20)\n",
    "        \n",
    "plt.suptitle(\"Cell Input Data\",fontsize=25)\n",
    "plt.tight_layout()\n",
    "    \n",
    "plt.savefig(\"%s/Normalized_Cell_Data.pdf\"%(path))"
   ]
  },
  {
   "cell_type": "markdown",
   "id": "15a1b9cc-c3c7-4fc2-b090-1d5d1b2b8dbb",
   "metadata": {},
   "source": [
    "## Hyper Parameters"
   ]
  },
  {
   "cell_type": "code",
   "execution_count": 9,
   "id": "041285cb-b632-4241-9927-7c9d907db9b6",
   "metadata": {},
   "outputs": [],
   "source": [
    "h5_file = h5.File(h5_filename,'r')\n",
    "do_normalization = True                                                                                       \n",
    "input_dim = h5_file['train_hcal'].shape[-2] #should be 4: Cell E,X,Y,Z, the number of features per particle   \n",
    "learning_rate = 1e-3                                                                                          \n",
    "dropout_rate = 0.05                                                                                           \n",
    "batch_size = 1_000                                                                                            \n",
    "#N_Epochs = 50                                                                                                \n",
    "N_Epochs = 1                                                                                                \n",
    "patience = 10                                                                                                 \n",
    "N_Latent = 128                                                                                                \n",
    "shuffle_split = True #Turn FALSE for images!                                                                  \n",
    "train_shuffle = True #Turn TRUE for images!                                                                   \n",
    "Y_scalar = True                                                                                               \n",
    "loss = 'mae' #'mae' #'swish'                                                                                  "
   ]
  },
  {
   "cell_type": "markdown",
   "id": "8ad5aed6-8022-42eb-82e7-f1c25f4efa46",
   "metadata": {},
   "source": [
    "## Define Model + CallBacks"
   ]
  },
  {
   "cell_type": "code",
   "execution_count": 10,
   "id": "88f77c2f-799c-4f84-bda4-cd0d2ae1d400",
   "metadata": {},
   "outputs": [
    {
     "name": "stdout",
     "output_type": "stream",
     "text": [
      "Model: \"model\"\n",
      "__________________________________________________________________________________________________\n",
      " Layer (type)                   Output Shape         Param #     Connected to                     \n",
      "==================================================================================================\n",
      " input (InputLayer)             [(None, None, 4)]    0           []                               \n",
      "                                                                                                  \n",
      " tdist_0 (TimeDistributed)      (None, None, 100)    500         ['input[0][0]']                  \n",
      "                                                                                                  \n",
      " activation (Activation)        (None, None, 100)    0           ['tdist_0[0][0]']                \n",
      "                                                                                                  \n",
      " tdist_1 (TimeDistributed)      (None, None, 100)    10100       ['activation[0][0]']             \n",
      "                                                                                                  \n",
      " activation_1 (Activation)      (None, None, 100)    0           ['tdist_1[0][0]']                \n",
      "                                                                                                  \n",
      " tdist_2 (TimeDistributed)      (None, None, 128)    12928       ['activation_1[0][0]']           \n",
      "                                                                                                  \n",
      " mask (Lambda)                  (None, None)         0           ['input[0][0]']                  \n",
      "                                                                                                  \n",
      " activation_2 (Activation)      (None, None, 128)    0           ['tdist_2[0][0]']                \n",
      "                                                                                                  \n",
      " sum (Dot)                      (None, 128)          0           ['mask[0][0]',                   \n",
      "                                                                  'activation_2[0][0]']           \n",
      "                                                                                                  \n",
      " sum_dropout (Dropout)          (None, 128)          0           ['sum[0][0]']                    \n",
      "                                                                                                  \n",
      " dense_0 (Dense)                (None, 100)          12900       ['sum_dropout[0][0]']            \n",
      "                                                                                                  \n",
      " activation_3 (Activation)      (None, 100)          0           ['dense_0[0][0]']                \n",
      "                                                                                                  \n",
      " dense_0_dropout (Dropout)      (None, 100)          0           ['activation_3[0][0]']           \n",
      "                                                                                                  \n",
      " dense_1 (Dense)                (None, 100)          10100       ['dense_0_dropout[0][0]']        \n",
      "                                                                                                  \n",
      " activation_4 (Activation)      (None, 100)          0           ['dense_1[0][0]']                \n",
      "                                                                                                  \n",
      " dense_1_dropout (Dropout)      (None, 100)          0           ['activation_4[0][0]']           \n",
      "                                                                                                  \n",
      " dense_2 (Dense)                (None, 100)          10100       ['dense_1_dropout[0][0]']        \n",
      "                                                                                                  \n",
      " activation_5 (Activation)      (None, 100)          0           ['dense_2[0][0]']                \n",
      "                                                                                                  \n",
      " dense_2_dropout (Dropout)      (None, 100)          0           ['activation_5[0][0]']           \n",
      "                                                                                                  \n",
      " output (Dense)                 (None, 1)            101         ['dense_2_dropout[0][0]']        \n",
      "                                                                                                  \n",
      " activation_6 (Activation)      (None, 1)            0           ['output[0][0]']                 \n",
      "                                                                                                  \n",
      "==================================================================================================\n",
      "Total params: 56,729\n",
      "Trainable params: 56,729\n",
      "Non-trainable params: 0\n",
      "__________________________________________________________________________________________________\n"
     ]
    }
   ],
   "source": [
    "Phi_sizes, F_sizes = (100, 100, N_Latent), (100, 100, 100)\n",
    "output_act, output_dim = 'linear', 1 #Train to predict error\n",
    "\n",
    "pfn = PFN(input_dim=input_dim,                                                                                \n",
    "          Phi_sizes=Phi_sizes,                                                                                \n",
    "          F_sizes=F_sizes,                                                                                    \n",
    "          output_act=output_act,                                                                              \n",
    "          output_dim=output_dim,                                                                              \n",
    "          loss=loss,                                                                                          \n",
    "          latent_dropout=dropout_rate,                                                                        \n",
    "          F_dropouts=dropout_rate,                                                                            \n",
    "          optimizer=tf.keras.optimizers.Adam(learning_rate=learning_rate))"
   ]
  },
  {
   "cell_type": "markdown",
   "id": "ccf44b94-d649-4ba8-a944-0f358a7c9356",
   "metadata": {},
   "source": [
    "### CallBacks"
   ]
  },
  {
   "cell_type": "code",
   "execution_count": 11,
   "id": "58d00b35-35e4-45a6-ac24-12135e95ada4",
   "metadata": {},
   "outputs": [],
   "source": [
    "# Tensorflow CallBacks                                                                                        \n",
    "lr_scheduler = tf.keras.callbacks.LearningRateScheduler(lr_decay,verbose=0)                                   \n",
    "early_stopping = tf.keras.callbacks.EarlyStopping(patience=patience)                                          \n",
    "history_logger=tf.keras.callbacks.CSVLogger(path+\"/log.csv\", separator=\",\", append=True)                      \n",
    "model_checkpoint = tf.keras.callbacks.ModelCheckpoint(filepath=path, save_best_only=True)                     \n",
    "callbacks=[lr_scheduler, early_stopping,history_logger,batch_history(),model_checkpoint] "
   ]
  },
  {
   "cell_type": "markdown",
   "id": "73467744-b7af-4fbe-be24-f47ebdbd090b",
   "metadata": {},
   "source": [
    "# FIT"
   ]
  },
  {
   "cell_type": "code",
   "execution_count": null,
   "id": "365d966d-5bbd-40b6-8b17-c580858f1b2a",
   "metadata": {
    "tags": []
   },
   "outputs": [
    {
     "name": "stdout",
     "output_type": "stream",
     "text": [
      "   1000/Unknown - 1090s 1s/step - loss: 2.3817 - acc: 0.0000e+00"
     ]
    }
   ],
   "source": [
    "history = pfn.fit(                                                                                            \n",
    "    train_generator,                                                                                          \n",
    "    epochs=N_Epochs,                                                                                          \n",
    "    batch_size=batch_size,                                                                                    \n",
    "    callbacks=callbacks,                                                                                      \n",
    "    validation_data=val_generator,                                                                            \n",
    "    verbose=1                                                                                                 \n",
    ")"
   ]
  },
  {
   "cell_type": "code",
   "execution_count": null,
   "id": "71ae142c-8322-4e83-bdc9-fae81833b671",
   "metadata": {},
   "outputs": [],
   "source": [
    "#save batch loss                                                                                              \n",
    "np.save(\"%s/batch_loss.npy\"%(path),batch_history.batch_loss)                                                  \n",
    "                                                                                                              \n",
    "#save epoch loss                                                                                              \n",
    "with open(path+'/history_file', 'wb') as hist_file:                                                           \n",
    "    pickle.dump(history.history, hist_file)                                                                   \n",
    "                                                                                                              \n",
    "pfn.layers                                                                                                    \n",
    "pfn.save(\"%s/energy_regression.h5\"%(path))                                                                    \n",
    "mypreds = pfn.predict(test_generator, batch_size=1000)                                                        \n",
    "np.save(\"%s/predictions.npy\"%(path),mypreds)                                                                  \n",
    "#FIXME: un-norm the predictions "
   ]
  }
 ],
 "metadata": {
  "kernelspec": {
   "display_name": "ai_codesign",
   "language": "python",
   "name": "tin"
  },
  "language_info": {
   "codemirror_mode": {
    "name": "ipython",
    "version": 3
   },
   "file_extension": ".py",
   "mimetype": "text/x-python",
   "name": "python",
   "nbconvert_exporter": "python",
   "pygments_lexer": "ipython3",
   "version": "3.9.7"
  }
 },
 "nbformat": 4,
 "nbformat_minor": 5
}
