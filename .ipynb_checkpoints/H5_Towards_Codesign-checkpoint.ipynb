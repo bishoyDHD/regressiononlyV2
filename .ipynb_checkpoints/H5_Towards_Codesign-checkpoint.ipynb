{
 "cells": [
  {
   "cell_type": "code",
   "execution_count": 1,
   "id": "10683b42",
   "metadata": {},
   "outputs": [],
   "source": [
    "#Python/Data\n",
    "import matplotlib.pyplot as plt\n",
    "from matplotlib import gridspec\n",
    "import matplotlib.colors as mcolors\n",
    "import numpy as np\n",
    "import h5py as h5\n",
    "\n",
    "import os\n",
    "import shutil\n",
    "\n",
    "#ML\n",
    "import energyflow as ef\n",
    "from energyflow.archs import PFN\n",
    "from energyflow.utils import data_split\n",
    "import tensorflow as tf"
   ]
  },
  {
   "cell_type": "markdown",
   "id": "e74d79ab-fbd5-4b25-88fc-fe66cb7452bf",
   "metadata": {},
   "source": [
    "**Note: Image HDF5 Files are depricated as of Sep 14 2022**\n",
    "\n",
    "|        |        |        |  Calo Image  |           |           |\n",
    "|:------:|:------:|:------:|:------------:|:---------:|:---------:|\n",
    "| Cell E | Cell X | Cell Y | Cell 'Depth' | Layer 1 Z | Layer 2 Z |\n",
    "|    0   |    1   |    2   |       3      |     4     |     5     |"
   ]
  },
  {
   "cell_type": "markdown",
   "id": "f763ade8-fc78-460b-8b6c-ecf3eda80216",
   "metadata": {},
   "source": [
    "| Truth   |        |\n",
    "|:-------:|:------:|\n",
    "|Truth $E$|Truth $\\theta$|"
   ]
  },
  {
   "cell_type": "markdown",
   "id": "5073101c",
   "metadata": {},
   "source": [
    "### Load the Data"
   ]
  },
  {
   "cell_type": "code",
   "execution_count": 2,
   "id": "2650c15e-660b-4127-b625-a49685aa8980",
   "metadata": {},
   "outputs": [],
   "source": [
    "#filename = 'rec_pionplus_300k_simple.hdf5'\n",
    "#filename = 'rec_pionplus_300k.hdf5'\n",
    "#filename = 'LogE_300k_normed.hdf5'\n",
    "#filename = 'hcal_only_images.hdf5'\n",
    "filename = '2M_piplus.hdf5'\n",
    "#filename = 'rec_pionplus_300ke_1i.hdf5'\n",
    "\n",
    "label = \"2M_piplus_hcal\"  #Replace with your own variation!      \n",
    "path = \"./\"+label"
   ]
  },
  {
   "cell_type": "code",
   "execution_count": 3,
   "id": "27be65e3-078c-4dd3-9d19-a1bd2a27af57",
   "metadata": {},
   "outputs": [],
   "source": [
    "os.makedirs(path)"
   ]
  },
  {
   "cell_type": "code",
   "execution_count": 4,
   "id": "a57d2c61-f98c-44ff-a9d9-4b98b0604f03",
   "metadata": {},
   "outputs": [],
   "source": [
    "learning_rate = 1e-4\n",
    "dropout_rate = 0.1\n",
    "batch_size = 1000\n",
    "N_Epochs = 400\n",
    "patience = 20\n",
    "N_Latent = 128\n",
    "shuffle_split = True #Turn FALSE for images!\n",
    "train_shuffle = True #Turn TRUE for images!\n",
    "Y_scalar = True\n",
    "#loss = 'mae'#try 'swish'\n",
    "loss = 'mse'\n"
   ]
  },
  {
   "cell_type": "code",
   "execution_count": 5,
   "id": "79a6e836-756c-4193-978e-c38d210649a9",
   "metadata": {},
   "outputs": [
    {
     "name": "stdout",
     "output_type": "stream",
     "text": [
      "['hcal', 'mc']\n",
      "(2000000, 4, 1861)\n",
      "(2000000, 10, 29)\n",
      "100\n",
      "100\n"
     ]
    }
   ],
   "source": [
    "h5_file = h5.File(filename,'r')\n",
    "print(list(h5_file.keys()))\n",
    "images = h5_file['hcal']\n",
    "truth = h5_file['mc']\n",
    "\n",
    "print(images.shape)\n",
    "print(truth.shape)\n",
    "print(images.chunks[0]) #should be = batch_size\n",
    "print(truth.chunks[0])"
   ]
  },
  {
   "cell_type": "code",
   "execution_count": 6,
   "id": "dff42331",
   "metadata": {},
   "outputs": [],
   "source": [
    "N_Events = images.shape[0]\n",
    "#N_Events = 120_000\n",
    "#N_Events = 30_000\n",
    "\n",
    "X = images[:N_Events]\n",
    "Y = truth[:N_Events,0,0]"
   ]
  },
  {
   "cell_type": "code",
   "execution_count": null,
   "id": "6020df41-c09e-407a-a813-e375ac08a4da",
   "metadata": {},
   "outputs": [],
   "source": [
    "Cut_Energy = False\n",
    "if (Cut_Energy): \n",
    "    MinE = 60.\n",
    "    X = X[Y>MinE]\n",
    "    Y = Y[Y>MinE]\n",
    "    \n",
    "Cut_Theta = True\n",
    "if (Cut_Theta):\n",
    "    min_theta = 5.0\n",
    "    max_theta = 30.0\n",
    "    gen_theta = truth[:N_Events,1,0]\n",
    "    theta_mask = gen_theta>min_theta\n",
    "    X = X[theta_mask]\n",
    "    Y = Y[theta_mask]"
   ]
  },
  {
   "cell_type": "code",
   "execution_count": null,
   "id": "bff4bf55-205d-421b-9fcd-e624e5dbc613",
   "metadata": {},
   "outputs": [],
   "source": [
    "Y_Mean = np.nanmean(Y)\n",
    "Y_StDev = np.nanstd(Y)\n",
    "if (Y_scalar):\n",
    "    Y = (Y - Y_Mean)/Y_StDev"
   ]
  },
  {
   "cell_type": "code",
   "execution_count": null,
   "id": "3c24ed2f-b144-44ae-8a27-913cc19a0cf3",
   "metadata": {},
   "outputs": [],
   "source": [
    "print(np.shape(X))\n",
    "print(np.shape(Y))"
   ]
  },
  {
   "cell_type": "code",
   "execution_count": null,
   "id": "799d9e1a",
   "metadata": {},
   "outputs": [],
   "source": [
    "(X_train, X_val, X_test,\n",
    "Y_train, Y_val, Y_test) = data_split(X, Y, val=0.2, test=0.3,shuffle=shuffle_split) #shuffle_splite should be FALSE for images with same parent G4 EVent"
   ]
  },
  {
   "cell_type": "code",
   "execution_count": null,
   "id": "591b49ca-fec5-41ac-bc18-b56472c83701",
   "metadata": {},
   "outputs": [],
   "source": [
    "print(len(np.ravel(np.count_nonzero(X[:,0,:],axis=-1))))"
   ]
  },
  {
   "cell_type": "code",
   "execution_count": null,
   "id": "0370204e",
   "metadata": {},
   "outputs": [],
   "source": [
    "fig = plt.figure(figsize=(20,9))\n",
    "\n",
    "cm = plt.cm.get_cmap('plasma')\n",
    "cell_vars = [\"Energy\",\"Cell X\",\"Cell Y\",\"Cell Depth\",\"Layer 1 Position\", \"Layer 2 Position\"]\n",
    "bins = [np.linspace(-50,200,101),np.linspace(-500,751,100),\n",
    "        np.linspace(-500,751,100),np.linspace(-10,10,100), #,np.linspace(-25,25,100),\n",
    "        np.linspace(-275,350,100),np.linspace(-275,350,100)]\n",
    "data=[]\n",
    "\n",
    "#plt.subplots_adjust(left=None, bottom=1, right=None, top=1.5, wspace=None, hspace=None)\n",
    "for i in range(X.shape[1]):\n",
    "    ax = plt.subplot(2, 4, i+1)\n",
    "    data.insert(i,np.ravel(X[0:int(N_Events/10),i,:]))\n",
    "    data[i] = data[i][data[i]!=0] #to suppress 0 pads\n",
    "    plt.hist(data[i],color=cm(i/X.shape[1]))\n",
    "    plt.title(\"%s\"%(cell_vars[i]),fontsize=20)\n",
    "    plt.suptitle(\"Normalized Cell Input Data\",fontsize=25)\n",
    "    \n",
    "#Plot 2 More Features\n",
    "\n",
    "#Number of Hits:\n",
    "ax = plt.subplot(2, 4, X.shape[1]+1)\n",
    "for i in range(X.shape[1]):\n",
    "    if (i>3): continue #while L1 and L2 are fixed\n",
    "    plt.hist(np.ravel(np.count_nonzero(X[:,i,:],axis=-1)),\n",
    "             bins=1000,alpha=0.2,\n",
    "             density=True, label=cell_vars[i])\n",
    "\n",
    "plt.title(\"Number of Cell Hits\",fontsize=20)\n",
    "plt.legend()\n",
    "    \n",
    "ax = plt.subplot(2,4,X.shape[1]+2)\n",
    "plt.hist(Y_val,alpha=0.5,label=\"Validation Energy\",density=True,color=\"red\")\n",
    "plt.hist(Y_test,alpha=0.5,label=\"Test Energy\",density=True,color=\"blue\")\n",
    "plt.legend()\n",
    "plt.title(\"Validation and Test Energy\")\n",
    "    \n",
    "plt.savefig(\"%s/Normalized_Cell_Data.pdf\"%(path))"
   ]
  },
  {
   "cell_type": "code",
   "execution_count": null,
   "id": "22b24d1c-de88-4096-a175-34473b7dbd1f",
   "metadata": {},
   "outputs": [],
   "source": [
    "def lr_decay(epoch, lr):\n",
    "    min_rate = 1.01e-7\n",
    "    N_start = 39\n",
    "    N_epochs = 40\n",
    "    \n",
    "    if epoch > N_start and lr >= min_rate:\n",
    "        if (epoch%N_epochs==0):\n",
    "            return lr * 0.1\n",
    "    return lr"
   ]
  },
  {
   "cell_type": "code",
   "execution_count": null,
   "id": "57ccab67-7da3-4397-b7f4-8cc785703c1f",
   "metadata": {},
   "outputs": [],
   "source": [
    "lr_scheduler = tf.keras.callbacks.LearningRateScheduler(lr_decay,verbose=0)\n",
    "early_stopping = tf.keras.callbacks.EarlyStopping(patience=patience)"
   ]
  },
  {
   "cell_type": "code",
   "execution_count": null,
   "id": "9f0e3ba3",
   "metadata": {
    "scrolled": true
   },
   "outputs": [],
   "source": [
    "Phi_sizes, F_sizes = (100, 100, N_Latent), (100, 100, 100)\n",
    "#Phi_sizes, F_sizes = (20, 20, N_Latent), (20, 20, 20)\n",
    "output_act, output_dim = 'linear', 1\n",
    "loss = 'mse' #mean-squared error\n",
    "pfn = PFN(input_dim=X.shape[-1], \n",
    "          Phi_sizes=Phi_sizes, \n",
    "          F_sizes=F_sizes, \n",
    "          output_act=output_act, \n",
    "          output_dim=output_dim, \n",
    "          loss=loss, \n",
    "          latent_dropout=dropout_rate,\n",
    "          F_dropouts=dropout_rate,\n",
    "          optimizer=tf.keras.optimizers.Adam(learning_rate=learning_rate))"
   ]
  },
  {
   "cell_type": "code",
   "execution_count": null,
   "id": "fbfe386b",
   "metadata": {
    "tags": []
   },
   "outputs": [],
   "source": [
    "the_fit = pfn.fit(X_train, Y_train,\n",
    "                  epochs=N_Epochs,\n",
    "                  batch_size=batch_size,\n",
    "                  callbacks=[lr_scheduler, early_stopping],\n",
    "                  shuffle=train_shuffle,\n",
    "                  validation_data=(X_val, Y_val),\n",
    "                  verbose=1)"
   ]
  },
  {
   "cell_type": "code",
   "execution_count": null,
   "id": "b1b0b769",
   "metadata": {
    "scrolled": true
   },
   "outputs": [],
   "source": [
    "pfn.layers\n",
    "pfn.save(\"%s/energy_regression.h5\"%(path))\n",
    "mypreds = pfn.predict(X_test,batch_size=400)\n",
    "\n",
    "if (Y_scalar):\n",
    "    mypreds = mypreds*Y_StDev + Y_Mean\n",
    "    Y_test  =  Y_test*Y_StDev + Y_Mean\n",
    "    \n",
    "np.save(\"%s/predictions.npy\"%(path),mypreds)\n",
    "np.save(\"%s/y_test.npy\"%(path),Y_test)\n",
    "np.save(\"%s/x_test.npy\"%(path),X_test)"
   ]
  },
  {
   "cell_type": "markdown",
   "id": "215800ac-77d4-43f4-ae35-7d90fedb5cf0",
   "metadata": {},
   "source": [
    "___"
   ]
  },
  {
   "cell_type": "code",
   "execution_count": null,
   "id": "9e25d1e5-8e91-4ba1-918f-448bb4aa55d8",
   "metadata": {},
   "outputs": [],
   "source": [
    "#label = \"single_layering_300k_dropout_10\"\n",
    "#path = \"./\"+label\n",
    "#path = \"./single_layering_300k\"\n",
    "#path = \"./single_layering_300k_dropout_10\"\n",
    "\n",
    "Y_test = np.load(\"%s/y_test.npy\"%(path))\n",
    "X_test = np.load(\"%s/x_test.npy\"%(path))\n",
    "mypreds = np.load(\"%s/predictions.npy\"%(path))"
   ]
  },
  {
   "cell_type": "code",
   "execution_count": null,
   "id": "95b238bc-0819-43b4-8ea8-5ef4c4836007",
   "metadata": {},
   "outputs": [],
   "source": [
    "print(path)"
   ]
  },
  {
   "cell_type": "code",
   "execution_count": null,
   "id": "99f69ab7",
   "metadata": {},
   "outputs": [],
   "source": [
    "fig = plt.figure(figsize=(28,10))\n",
    "ax = plt.subplot(1, 2, 1)\n",
    "plt.scatter(Y_test,mypreds,alpha=0.1)\n",
    "plt.xlabel(\"Y Test [GeV]\",fontsize=22)\n",
    "plt.xticks(fontsize=20)\n",
    "plt.yticks(fontsize=20)\n",
    "plt.tick_params(direction='in',right=True,top=True,length=10)\n",
    "#plt.ylim(-0.01,100.01)\n",
    "plt.ylim(-10,110)\n",
    "plt.ylabel(\"Y Pred [GeV]\",fontsize=22)\n",
    "_ = plt.title(\"Prediction vs. Test\",fontsize=26)\n",
    "\n",
    "ax = plt.subplot(1, 2, 2)\n",
    "plt.plot(the_fit.history['loss'])\n",
    "plt.plot(the_fit.history['val_loss'])\n",
    "plt.title('Model Loss vs. Epoch',fontsize=26)\n",
    "#plt.text(0.73,0.73,\"Step Decayed \\n Learning Rate \\n {:.1e} to {:.1e}\".format(learning_rate,1e-6),\n",
    "#         transform=ax.transAxes,fontsize=20)\n",
    "plt.text(0.67,-0.08,label,transform=ax.transAxes,fontsize=10)\n",
    "plt.ylabel('Loss',fontsize=22)\n",
    "plt.yscale('log')\n",
    "plt.xlabel('epoch',fontsize=22)\n",
    "plt.xticks(fontsize=20)\n",
    "plt.yticks(fontsize=20)\n",
    "plt.tick_params(direction='in',right=True,top=True,length=10)\n",
    "plt.tick_params(direction='in',right=True,top=True,which='minor')\n",
    "plt.xlim([-1,150])\n",
    "plt.legend(['train', 'validation'], loc='upper right',fontsize=22)\n",
    "plt.savefig(\"%s/varphi_StepDecay_Prediction_Test.png\"%(path))"
   ]
  },
  {
   "cell_type": "code",
   "execution_count": null,
   "id": "e568413d-753b-4b1a-8dd0-747c8f4f074d",
   "metadata": {},
   "outputs": [],
   "source": [
    "from copy import copy\n",
    "from matplotlib.colors import LogNorm\n",
    "fig, axes = plt.subplots(nrows=1, figsize=(14, 10), constrained_layout=True)\n",
    "cmap = copy(plt.cm.plasma)\n",
    "cmap.set_bad(cmap(0))\n",
    "edges=np.linspace(-10,110,121)\n",
    "h, xedges, yedges = np.histogram2d(Y_test, mypreds[:,0], bins=[edges, edges])\n",
    "pcm = axes.pcolormesh(xedges, yedges, h.T, cmap=cmap,\n",
    "                         norm=LogNorm(vmin=1.0e-2,vmax=1.0e2), rasterized=True)\n",
    "cb = fig.colorbar(pcm, ax=axes, pad=0)\n",
    "cb.set_label(\"Counts\",fontsize=22)\n",
    "cb.ax.tick_params(labelsize=20)\n",
    "axes.set_xlabel(\"Generated Energy\",fontsize=22)\n",
    "plt.yticks(fontsize=20)\n",
    "plt.xticks(fontsize=20)\n",
    "plt.ylim(-1,110)\n",
    "plt.xlim(-0,101)\n",
    "axes.set_ylabel(\"Predicted Energy\",fontsize=25)\n",
    "axes.set_title(\"Predicted vs. Generated Energy\",fontsize=30)\n",
    "plt.savefig(\"%s/Gen_vs_Pred.pdf\"%(path))\n",
    "print(np.size(yedges))"
   ]
  },
  {
   "cell_type": "code",
   "execution_count": null,
   "id": "e9d8b622-79dd-4456-86d2-023fe4f3160e",
   "metadata": {},
   "outputs": [],
   "source": [
    "star_energies = [12,16,20,25,30,50,60,70]\n",
    "star_res = [0.18, 0.16, 0.15, 0.14, 0.13, 0.098, 0.092, 0.090]\n",
    "\n",
    "ECCE_res = [0.15,0.127,0.117,0.121,0.106,0.102,0.092,0.098]\n",
    "ECCE_energies = [10,20,30,40,50,60,80,100]"
   ]
  },
  {
   "cell_type": "code",
   "execution_count": null,
   "id": "2c0e1072-b162-4bc4-95db-5a82e655ab20",
   "metadata": {},
   "outputs": [],
   "source": [
    "#Binning\n",
    "N = 51\n",
    "E_Max = 100\n",
    "E_Bins = np.linspace(0,E_Max,N)\n",
    "\n",
    "#Goal: slices defined by bin of truthE, filled with prediction distributions\n",
    "indecies = np.digitize(Y_test,E_Bins)-1\n",
    "max_count = ((np.bincount(indecies).max()))\n",
    "slices = np.empty((N,max_count))\n",
    "slices.fill(np.nan)\n",
    "\n",
    "counter = np.zeros(N,int)\n",
    "avg_truth = np.zeros(N,float)\n",
    "\n",
    "pred_over_truth = np.zeros(N,float)\n",
    "\n",
    "for i in range(len(mypreds)):\n",
    "    \n",
    "    #if (Y_test[i] > E_Max): continue\n",
    "    bin = indecies[i]\n",
    "    slices[bin][counter[bin]] = mypreds[i] #slices[bin, element inside bin]\n",
    "    counter[bin]+=1\n",
    "    avg_truth[bin]+=Y_test[i]\n",
    "    pred_over_truth[bin] += mypreds[i]/Y_test[i]\n",
    "    \n",
    "\n",
    "#Resoluton: stdev(pred)/avg_truth    \n",
    "avg_truth = avg_truth/counter\n",
    "stdev_pred = np.nanstd(slices,axis=1)\n",
    "resolution = stdev_pred/avg_truth\n",
    "\n",
    "pred_over_truth = pred_over_truth/counter"
   ]
  },
  {
   "cell_type": "code",
   "execution_count": null,
   "id": "831bff34-75b8-472a-bef5-124dc9ab585a",
   "metadata": {},
   "outputs": [],
   "source": [
    "fig=plt.figure(figsize=(14,10))\n",
    "plt.title(\"AI Codesign Resolution\",fontsize=25)\n",
    "plt.ylabel(\"$(\\sigma_{E,\\mathrm{Pred}}/E_\\mathrm{Truth})$\",fontsize=24)\n",
    "plt.xlabel(\"$E_\\mathrm{Truth}$ [GeV]\",fontsize=24)\n",
    "plt.xticks(fontsize=20)\n",
    "plt.yticks(fontsize=20)\n",
    "plt.tick_params(direction='in',right=True,top=True,length=10)\n",
    "#plt.ylim(-0.02,0.4)\n",
    "plt.ylim(0,2)\n",
    "plt.ylim(0,.32)\n",
    "plt.xlim(-0.01,100.01)\n",
    "plt.xlim(5.0,100)\n",
    "errors = 1.0/(np.sqrt(2*counter-2))*stdev_pred\n",
    "ax = plt.subplot(1,1,1)\n",
    "first_bin = 0\n",
    "last_bin = N\n",
    "\n",
    "plt.text(0.8,-0.08,label,transform=ax.transAxes,fontsize=10)\n",
    "errors = np.zeros(len(errors))\n",
    "plt.errorbar(avg_truth[first_bin:last_bin],resolution[first_bin:last_bin],yerr=errors[first_bin:last_bin],\n",
    "             linestyle=\"-\",linewidth=2.0,capsize=4,capthick=1.2,elinewidth=1.2,ecolor='black',marker=\"o\",color='dodgerblue',alpha=0.7,label=\"ML\")\n",
    "_ = plt.text(0.7,0.93,\"Stat. Error: $\\dfrac{\\sigma}{\\sqrt{2N-2} } $\",transform=ax.transAxes,fontsize=20)\n",
    "\n",
    "plt.plot(ECCE_energies,ECCE_res,\"-o\",label = \"EIC Ref. [ECCE?]\",color=\"limegreen\")\n",
    "plt.plot(star_energies,star_res,\"-o\",label = \"STAR\",color=\"deeppink\")\n",
    "plt.legend(fontsize=15,loc=\"upper left\")\n",
    "plt.savefig(\"%s/resolution_plot.pdf\"%(path))"
   ]
  },
  {
   "cell_type": "code",
   "execution_count": null,
   "id": "3823e85d-ad08-4247-8c35-e9a98b49e874",
   "metadata": {},
   "outputs": [],
   "source": [
    "fig,axs = plt.subplots(int(N/10),10, figsize=(32, 16),sharex=False,sharey=True,constrained_layout=True)\n",
    "for i in range(N):\n",
    "    row = int(i/10)\n",
    "    col = i%10\n",
    "    if(row==int(N/10)): continue\n",
    "    ax = axs[row,col]\n",
    "    \n",
    "    if (col==0):\n",
    "        ax.set_ylabel(\"Counts\",fontsize=15)\n",
    "        \n",
    "    temp_bin = np.linspace(avg_truth[i]-2.0,avg_truth[i]+2.0,16)\n",
    "    ax.set_title(\"%1.1f $ < E_\\mathrm{Truth} < $%1.1f [GeV]\"%(E_Bins[i],E_Bins[i+1]))\n",
    "    ax.set_xlabel(\"Predicted Eenergy\")\n",
    "    ax.hist(slices[i],label=\"Predicted Energies\")\n",
    "    ax.axvline(x=avg_truth[i],color='red',alpha=0.3,linestyle=\"--\",label=\"Avg. $E_\\mathrm{Truth} = %1.2f$\"%(avg_truth[i]))\n",
    "    ax.axvline(x=np.nanmean(slices,axis=-1)[i],color='cyan',alpha=0.3,linestyle=\"--\",label=\"Avg. $E_\\mathrm{Pred} = %1.2f$\"%(np.nanmean(slices,axis=-1)[i]))\n",
    "\n",
    "    ax.legend(fontsize=7.5)\n",
    "    ax.tick_params(direction='in',right=True,top=True,length=5)\n",
    "plt.savefig(\"%s/resolutions_slices.pdf\"%(path))"
   ]
  },
  {
   "cell_type": "code",
   "execution_count": null,
   "id": "b48a2610-52e1-4242-96ec-76f189a1a503",
   "metadata": {},
   "outputs": [],
   "source": [
    "fig=plt.figure(figsize=(14,10))\n",
    "plt.title(\"AI Codesign Resolution\",fontsize=25)\n",
    "plt.ylabel(\"$(E_\\mathrm{Pred}/E_\\mathrm{Truth})$\",fontsize=24)\n",
    "plt.xlabel(\"$E_\\mathrm{Truth}$ [GeV]\",fontsize=24)\n",
    "plt.xticks(fontsize=20)\n",
    "plt.yticks(fontsize=20)\n",
    "plt.tick_params(direction='in',right=True,top=True,length=10)\n",
    "plt.axhline(y=1.0, color='r', linestyle='--',alpha=0.5)#plt.ylim(-0.02,0.4)\n",
    "plt.ylim(0.5,1.5)\n",
    "plt.xlim(-1,101)\n",
    "errors = 1.0/(np.sqrt(2*counter-2))*stdev_pred\n",
    "ax = plt.subplot(1,1,1)\n",
    "first_bin = 0\n",
    "last_bin = N\n",
    "plt.errorbar(avg_truth[first_bin:last_bin],pred_over_truth[first_bin:last_bin],yerr=errors[first_bin:last_bin],\n",
    "             linestyle=\"-\",linewidth=2.0,capsize=4,capthick=1.2,elinewidth=1.2,ecolor='black',marker=\"o\",color='dodgerblue',alpha=0.7)\n",
    "_ = plt.text(0.7,0.93,\"Stat. Error: $\\dfrac{\\sigma}{\\sqrt{2N-2} } $\",transform=ax.transAxes,fontsize=20)\n",
    "plt.savefig(\"%s/scale_plot.pdf\"%(path))"
   ]
  },
  {
   "cell_type": "code",
   "execution_count": null,
   "id": "09cbc67d-e62c-4e7c-a1f5-783cc6db2b8a",
   "metadata": {},
   "outputs": [],
   "source": [
    "#Find the peak and zoom in\n",
    "fig = plt.figure(figsize=(18,5))\n",
    "plt.suptitle(\"Predictions\",fontsize=25)\n",
    "ax = plt.subplot(1, 2, 1)\n",
    "plt.xlabel(\"Predicted Energy [GeV]\",fontsize=18)\n",
    "bins = np.linspace(0,100,300)\n",
    "freq = plt.hist(mypreds, bins=bins)\n",
    "\n",
    "ax = plt.subplot(1, 2, 2)\n",
    "plt.xlabel(\"Predicted Energy [GeV]\",fontsize=18)\n",
    "plt.text(0.03,0.9,\"[Zoomed In]\",transform=ax.transAxes,fontsize=18)\n",
    "maxbin = np.argmax(freq[0])\n",
    "zoom = np.linspace(bins[maxbin]-0.01,bins[maxbin]+0.01,100)\n",
    "mask = np.where(np.logical_and(mypreds>=bins[maxbin]-0.01, mypreds<=bins[maxbin]+0.01))[0]\n",
    "_ = plt.hist(mypreds[mask],alpha=.3,color=\"black\",bins=zoom)\n",
    "print(\"%i / %i Events\"%(len(mask),len(mypreds)),\"[{:.3%}]\".format( (len(mask)/len(mypreds)) ) )"
   ]
  },
  {
   "cell_type": "code",
   "execution_count": null,
   "id": "60c97d5a-9974-45ea-9648-fb78262a74f9",
   "metadata": {},
   "outputs": [],
   "source": [
    "#plt.hist(np.count_nonzero(np.ravel(X_test[:,1,:])))\n",
    "weird_data = X_test[mask]\n",
    "bins = np.linspace(0,1000,100)\n",
    "fig = plt.figure(figsize=(18,5))\n",
    "ax = plt.subplot(1,2,1)\n",
    "plt.hist(np.ravel(np.count_nonzero(X_test,axis=2)),bins=bins)\n",
    "plt.title(\"Entire Image Dataset\",fontsize=20)\n",
    "ax = plt.subplot(1,2,2)\n",
    "plt.title(\"Weird Cells\",fontsize=20)\n",
    "plt.hist(np.ravel(np.count_nonzero(weird_data,axis=2)),bins=bins)\n",
    "plt.suptitle(\"Number of Cell Hits\",fontsize=25)"
   ]
  },
  {
   "cell_type": "code",
   "execution_count": null,
   "id": "8584a7ae-0378-4318-80bf-d414a8cd6311",
   "metadata": {},
   "outputs": [],
   "source": [
    "cm = plt.cm.get_cmap('plasma')\n",
    "cell_vars = [\"Energy\",\"Cell X\",\"Cell Y\",\"Cell Depth\",\"Layer 1 Position\", \"Layer 2 Position\"]\n",
    "bins = [np.linspace(0.01,500,200),np.linspace(-500,500,100),\n",
    "        np.linspace(-500,1300,100),np.linspace(-1.5,2.5,100),\n",
    "        np.linspace(-275,350,100),np.linspace(-275,350,100)]\n",
    "data=[]\n",
    "weird_data=X_test[mask]\n",
    "fig = plt.figure(figsize=(18,9))\n",
    "#plt.subplots_adjust(left=None, bottom=1, right=None, top=1.5, wspace=None, hspace=None)\n",
    "for i in range(images.shape[1]):\n",
    "    ax = plt.subplot(2, 3, i+1)\n",
    "    data.insert(i,np.ravel(weird_data[:,i,:]))\n",
    "    data[i] = data[i][data[i]!=0]\n",
    "    plt.hist(data[i],bins=bins[i],color=cm(i/images.shape[1]))\n",
    "    plt.title(\"%s\"%(cell_vars[i]),fontsize=20)\n",
    "    plt.suptitle(\"'Weird' Normalized Cell Input Data\",fontsize=25)\n",
    "plt.savefig(\"%s/weird_Cell_Data.pdf\"%(path))\n",
    "    #plt.xlabel('%s [Normalized]'%(cell_vars[i]),fontsize=15)"
   ]
  },
  {
   "cell_type": "code",
   "execution_count": null,
   "id": "11d029be-97c7-4ff1-a59c-33a260bff7d9",
   "metadata": {},
   "outputs": [],
   "source": [
    "cm = plt.cm.get_cmap('plasma')\n",
    "cell_vars = [\"Energy\",\"Cell X\",\"Cell Y\",\"Cell Depth\",\"Layer 1 Position\", \"Layer 2 Position\"]\n",
    "bins = [np.linspace(0.01,500,200),np.linspace(-500,500,100),\n",
    "        np.linspace(-500,1300,100),np.linspace(-1.5,2.5,100),\n",
    "        np.linspace(-275,350,100),np.linspace(-275,350,100)]\n",
    "weird_data=X_test[mask]\n",
    "fig = plt.figure(figsize=(18,9))\n",
    "#plt.subplots_adjust(left=None, bottom=1, right=None, top=1.5, wspace=None, hspace=None)\n",
    "for i in range(images.shape[1]-1):\n",
    "    ax = plt.subplot(2, 3, i+1)\n",
    "    plt.scatter(np.ravel(weird_data[:,i,:]),np.ravel(weird_data[:,i+1,:]),s=2)\n",
    "    plt.xlabel(cell_vars[i])\n",
    "    plt.ylabel(cell_vars[i+1])\n",
    "    #plt.title(\"%s\"%(cell_vars[i]),fontsize=20)\n",
    "    plt.suptitle(\"'Weird' Normalized Cell Scatter Plots\",fontsize=25)\n",
    "plt.savefig(\"%s/weird_Cell_Data.pdf\"%(path))"
   ]
  },
  {
   "cell_type": "code",
   "execution_count": null,
   "id": "f8dac2f6-eac2-4030-8a04-769be4ffd83c",
   "metadata": {},
   "outputs": [],
   "source": [
    "print([images.chunks])"
   ]
  },
  {
   "cell_type": "code",
   "execution_count": null,
   "id": "f2d439bb-2f71-4ea9-9f49-92211efcd4d6",
   "metadata": {},
   "outputs": [],
   "source": [
    "batch = images.chunks[0]*4\n",
    "shape = [batch,images.chunks[1],images.chunks[2]] #TF is quite particular...\n",
    "ds = tf.data.Dataset.from_generator(\n",
    "    generator(h5_file)\n",
    "    tf.float32,\n",
    "    tf.TensorShape(shape)\n",
    ")\n"
   ]
  },
  {
   "cell_type": "raw",
   "id": "7acedb7d-f806-4393-a032-e0a0969ffd59",
   "metadata": {},
   "source": [
    "ds = tf.data.Dataset.from_generator(\n",
    "    generator(filename), \n",
    "    tf.uint8, \n",
    "    tf.TensorShape([400,6,2636]))\n",
    "\n",
    "#value = ds.make_one_shot_iterator().get_next()\n",
    "value = tf.compat.v1.data.make_one_shot_iterator().get_next\n",
    "\n",
    "# Example on how to read elements\n",
    "while True:\n",
    "    try:\n",
    "        data = sess.run(value)\n",
    "        print(data.shape)\n",
    "    except tf.errors.OutOfRangeError:\n",
    "        print('done.')\n",
    "        break"
   ]
  },
  {
   "cell_type": "raw",
   "id": "504351e2-16c4-43f2-b3c3-401bf19a7055",
   "metadata": {},
   "source": [
    "import h5py\n",
    "import tensorflow as tf\n",
    "\n",
    "class generator:\n",
    "    def __init__(self, file):\n",
    "        self.file = file\n",
    "\n",
    "    def __call__(self):\n",
    "        with h5py.File(self.file, 'r') as hf:\n",
    "            for im in hf[\"train_img\"]:\n",
    "                yield im"
   ]
  }
 ],
 "metadata": {
  "kernelspec": {
   "display_name": "Python 3 (ipykernel)",
   "language": "python",
   "name": "python3"
  },
  "language_info": {
   "codemirror_mode": {
    "name": "ipython",
    "version": 3
   },
   "file_extension": ".py",
   "mimetype": "text/x-python",
   "name": "python",
   "nbconvert_exporter": "python",
   "pygments_lexer": "ipython3",
   "version": "3.9.12"
  }
 },
 "nbformat": 4,
 "nbformat_minor": 5
}
