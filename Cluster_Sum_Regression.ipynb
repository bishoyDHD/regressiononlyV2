{
 "cells": [
  {
   "cell_type": "code",
   "execution_count": 1,
   "id": "10683b42",
   "metadata": {},
   "outputs": [],
   "source": [
    "#Python/Data\n",
    "import matplotlib.pyplot as plt\n",
    "from matplotlib import gridspec\n",
    "import matplotlib.colors as mcolors\n",
    "import numpy as np\n",
    "import h5py as h5\n",
    "import uproot3 as ur\n",
    "import awkward as ak\n",
    "\n",
    "from matplotlib import style\n",
    "#style.use('/global/home/users/ftoralesacosta/dotfiles/scientific.mplstyle')\n",
    "\n",
    "import os\n",
    "import shutil\n",
    "\n",
    "#ML\n",
    "import energyflow as ef\n",
    "from energyflow.archs import PFN\n",
    "from energyflow.utils import data_split\n",
    "import tensorflow as tf"
   ]
  },
  {
   "cell_type": "markdown",
   "id": "5073101c",
   "metadata": {},
   "source": [
    "## File Names and Output Directory"
   ]
  },
  {
   "cell_type": "code",
   "execution_count": 2,
   "id": "2650c15e-660b-4127-b625-a49685aa8980",
   "metadata": {},
   "outputs": [],
   "source": [
    "#filename = \"2M_uncompressed.hdf5\"\n",
    "#h5_filename = \"../generate_data/to_hdf5/Ecut_GeV.hdf5\"\n",
    "#ROOT_file = \"../generate_data/to_hdf5/2M_piplus.root\"\n",
    "\n",
    "ROOT_file = \"../generate_data/to_hdf5/Uniform_pi+_0-100GeV_standalone.root\"\n",
    "h5_filename = \"../generate_data/to_hdf5/Uniform_pi+_0-100GeV_standalone.hdf5\"\n",
    "h5_filename = \"../generate_data/to_hdf5/Uniform_pi+_0-100GeV_NO_CELL_CUTS.hdf5\"\n",
    "\n",
    "label = \"BugFixed_Data_Insert_NO_MIP_CUT\"  #Replace with your own variation!      \n",
    "path = \"./\"+label\n",
    "\n",
    "shutil.rmtree(path, ignore_errors=True)\n",
    "os.makedirs(path)"
   ]
  },
  {
   "cell_type": "markdown",
   "id": "9b03d2d4-8d17-4656-8d0f-2edb0c36354b",
   "metadata": {},
   "source": [
    "## Data Cuts"
   ]
  },
  {
   "cell_type": "code",
   "execution_count": 3,
   "id": "9f58035a-6543-446c-88f5-68294c599111",
   "metadata": {},
   "outputs": [],
   "source": [
    "N_Events = 1_000_000\n",
    "\n",
    "cut_on_clusters = False\n",
    "cut_on_genTheta = False\n",
    "cut_on_genP = False #True for Debug only\n",
    "\n",
    "min_theta = 5.0 #5 for HCAL\n",
    "max_theta = 30.0\n",
    "\n",
    "hit_e_max = 1e10 #Spikes...\n",
    "hit_e_min = 0.00006 #MIPs\n",
    "hit_t_max = 200\n",
    "\n",
    "min_cluster_E = 0.22 #GeV\n",
    "#min_cluster_E = 0.0 #GeV\n",
    "\n",
    "#sampling_fraction = 0.02 #HCAL\n",
    "sampling_fraction = 0.0098 #INSERT"
   ]
  },
  {
   "cell_type": "markdown",
   "id": "461c3a6e-42ff-488c-9031-3b349b29e15a",
   "metadata": {},
   "source": [
    "## Model Settings"
   ]
  },
  {
   "cell_type": "code",
   "execution_count": 4,
   "id": "a57d2c61-f98c-44ff-a9d9-4b98b0604f03",
   "metadata": {},
   "outputs": [],
   "source": [
    "learning_rate = 1e-5\n",
    "dropout_rate = 0.05\n",
    "batch_size = 1000\n",
    "N_Epochs = 400\n",
    "patience = 20\n",
    "N_Latent = 128\n",
    "shuffle_split = False #Turn FALSE for images!\n",
    "train_shuffle = False #False for better root hf comparison\n",
    "Y_scalar = True\n",
    "loss = 'mae'\n",
    "#loss = tf.keras.losses.MeanAbsoluteError()"
   ]
  },
  {
   "cell_type": "markdown",
   "id": "bc16ea8a-077e-4fa6-8123-304a6b502257",
   "metadata": {},
   "source": [
    "## I/O"
   ]
  },
  {
   "cell_type": "code",
   "execution_count": 5,
   "id": "79a6e836-756c-4193-978e-c38d210649a9",
   "metadata": {},
   "outputs": [
    {
     "name": "stdout",
     "output_type": "stream",
     "text": [
      "['hcal', 'hcali', 'mc']\n"
     ]
    }
   ],
   "source": [
    "h5_file = h5.File(h5_filename,'r')\n",
    "print(list(h5_file.keys()))\n",
    "\n",
    "ur_file = ur.open( ROOT_file )\n",
    "ur_tree = ur_file['events']"
   ]
  },
  {
   "cell_type": "markdown",
   "id": "06802a4d-4c84-4445-a149-89b76bf04d59",
   "metadata": {},
   "source": [
    "#### Get HDF5 E hits and Gen P"
   ]
  },
  {
   "cell_type": "code",
   "execution_count": null,
   "id": "88b4ed69-be85-40a1-9bc0-4f32712a2e61",
   "metadata": {},
   "outputs": [],
   "source": [
    "h5_detector = 'hcali'\n",
    "h5_gen_P = h5_file['mc'][:N_Events,8,0]\n",
    "h5_gen_Theta = h5_file['mc'][:N_Events,9,0]\n",
    "h5_hits_e = h5_file[h5_detector][:N_Events,0]"
   ]
  },
  {
   "cell_type": "markdown",
   "id": "3b5d1f53-8646-4793-97c2-547d5106058e",
   "metadata": {},
   "source": [
    "#### Get ROOT E hits and Gen P"
   ]
  },
  {
   "cell_type": "code",
   "execution_count": null,
   "id": "65abe056-813b-4c95-927e-74559d4bc0ed",
   "metadata": {},
   "outputs": [],
   "source": [
    "#root_detector = \"HcalEndcapPHitsReco\"\n",
    "root_detector = \"HcalEndcapPInsertHitsReco\"\n",
    "\n",
    "genPx = ur_tree.array('MCParticles.momentum.x',entrystop=N_Events)[:,2]\n",
    "genPy = ur_tree.array('MCParticles.momentum.y',entrystop=N_Events)[:,2]\n",
    "genPz = ur_tree.array('MCParticles.momentum.z',entrystop=N_Events)[:,2]\n",
    "root_gen_P = np.sqrt(genPx*genPx + genPy*genPy + genPz*genPz)\n",
    "root_gen_Theta = np.arccos(genPz/root_gen_P)*180/np.pi\n",
    "\n",
    "root_hits_e = ur_tree.array('%s.energy' % root_detector, entrystop=N_Events)\n",
    "root_hits_t = ur_tree.array('%s.time' % root_detector, entrystop=N_Events)"
   ]
  },
  {
   "cell_type": "markdown",
   "id": "ac5de6cc-3e5f-4080-bc39-e8d7ea180773",
   "metadata": {},
   "source": [
    "ROOT needs to have cuts applied here. HDF5 File should already have them applied"
   ]
  },
  {
   "cell_type": "code",
   "execution_count": null,
   "id": "34bcbe90-df5f-4248-8ebb-3d59aee9d080",
   "metadata": {},
   "outputs": [],
   "source": [
    "root_cuts = root_hits_e > hit_e_min                                                                   \n",
    "root_cuts = np.logical_and( root_cuts, root_hits_t <= hit_t_max )  \n",
    "#root_cuts = np.logical_and( root_cuts, root_hits_e > hit_e_min )                                     \n",
    "\n",
    "\n",
    "\n",
    "root_hits_e = root_hits_e[root_cuts]"
   ]
  },
  {
   "cell_type": "markdown",
   "id": "4082b913-343e-40d8-a394-dd7b7acb7d18",
   "metadata": {},
   "source": [
    "#### Apply HDF5 cuts just in case "
   ]
  },
  {
   "cell_type": "code",
   "execution_count": null,
   "id": "4bf36080-cda2-4937-8171-a551d3328aa2",
   "metadata": {},
   "outputs": [],
   "source": [
    "h5_cuts = h5_hits_e > hit_e_min\n",
    "#h5_cuts = np.logical_and( h5_cuts, h5_hits_e <= hit_e_max )\n",
    "h5_cuts = np.logical_and( h5_cuts, h5_hits_e <= hit_t_max )"
   ]
  },
  {
   "cell_type": "code",
   "execution_count": null,
   "id": "8417b263-4bfa-452d-b11c-66a3d1b74660",
   "metadata": {},
   "outputs": [],
   "source": [
    "from data_functions import make_comparison_plots"
   ]
  },
  {
   "cell_type": "code",
   "execution_count": null,
   "id": "d6ad2571-4325-4f51-bad0-b6ca8644ff7b",
   "metadata": {},
   "outputs": [],
   "source": [
    "make_comparison_plots( root_hits_e, h5_hits_e, 'Energy' )"
   ]
  },
  {
   "cell_type": "code",
   "execution_count": null,
   "id": "70fd0b53-9746-42cb-b3c1-94c3548f7dee",
   "metadata": {},
   "outputs": [],
   "source": [
    "make_comparison_plots( root_gen_P, h5_gen_P, 'GenP' )"
   ]
  },
  {
   "cell_type": "code",
   "execution_count": null,
   "id": "7fb7c899-1cc2-41ab-8197-042de7fe658c",
   "metadata": {},
   "outputs": [],
   "source": [
    "make_comparison_plots( root_gen_Theta, h5_gen_Theta, 'Gen_Theta' )"
   ]
  },
  {
   "cell_type": "code",
   "execution_count": null,
   "id": "ac9dc39b-ac57-4d37-81b2-b82078b3caf0",
   "metadata": {},
   "outputs": [],
   "source": [
    "print(root_gen_Theta[:6])\n",
    "print(h5_gen_Theta[:6])"
   ]
  },
  {
   "cell_type": "markdown",
   "id": "009afec9-2242-4fca-b529-579efaddc2d6",
   "metadata": {},
   "source": [
    "# Cluster Sum"
   ]
  },
  {
   "cell_type": "code",
   "execution_count": null,
   "id": "df750c55-357c-4f1a-befb-f400be9d51ac",
   "metadata": {},
   "outputs": [],
   "source": [
    "root_cluster_sum = ak.sum(root_hits_e,axis=-1)\n",
    "root_cluster_sum = ak.to_numpy(root_cluster_sum)"
   ]
  },
  {
   "cell_type": "code",
   "execution_count": null,
   "id": "95ba9e0a-590c-4ec0-bf76-fdfca4c888b9",
   "metadata": {},
   "outputs": [],
   "source": [
    "hdf5_cluster_sum = np.nansum(h5_hits_e,axis=-1)"
   ]
  },
  {
   "cell_type": "markdown",
   "id": "1e08aeba-f2b6-4df3-bfce-0ff83115173c",
   "metadata": {
    "tags": []
   },
   "source": [
    "## Apply Sampling Fraction (Make sure it's for HCal or Hcal insert!!)"
   ]
  },
  {
   "cell_type": "code",
   "execution_count": null,
   "id": "1688719d-3ef2-43ec-8fe2-72043ba63497",
   "metadata": {},
   "outputs": [],
   "source": [
    "root_cluster_sum = root_cluster_sum/sampling_fraction\n",
    "hdf5_cluster_sum = hdf5_cluster_sum/sampling_fraction"
   ]
  },
  {
   "cell_type": "markdown",
   "id": "8e73c806-6244-4597-9251-d48f00c3e4e2",
   "metadata": {},
   "source": [
    "# Cut on Clusters"
   ]
  },
  {
   "cell_type": "code",
   "execution_count": null,
   "id": "833f75fb-61f0-4850-ad92-c35a0af974a0",
   "metadata": {},
   "outputs": [],
   "source": [
    "cluster_mask = root_cluster_sum > min_cluster_E\n",
    "if (cut_on_genP):\n",
    "    cluster_mask = np.logical_and(cluster_mask, root_gen_P > 20.)\n",
    "if (cut_on_clusters):\n",
    "    root_cluster_sum = root_cluster_sum[cluster_mask]\n",
    "    hdf5_cluster_sum = hdf5_cluster_sum[cluster_mask]\n",
    "    root_gen_P = root_gen_P[cluster_mask]\n",
    "    root_gen_Theta = root_gen_Theta[cluster_mask]\n",
    "    h5_gen_P = h5_gen_P[cluster_mask]\n",
    "    h5_gen_Theta = h5_gen_Theta[cluster_mask]"
   ]
  },
  {
   "cell_type": "code",
   "execution_count": null,
   "id": "99da099c-710b-41c4-9035-70f8ff563c36",
   "metadata": {},
   "outputs": [],
   "source": [
    "theta_mask = root_gen_Theta > min_theta\n",
    "theta_mask = np.logical_and(root_gen_Theta < max_theta,theta_mask)\n",
    "\n",
    "if (cut_on_genTheta):\n",
    "    root_cluster_sum = root_cluster_sum[theta_mask]\n",
    "    hdf5_cluster_sum = hdf5_cluster_sum[theta_mask]\n",
    "    root_gen_P = root_gen_P[theta_mask]\n",
    "    root_gen_Theta = root_gen_Theta[theta_mask]\n",
    "    h5_gen_P = h5_gen_P[theta_mask]\n",
    "    h5_gen_Theta = h5_gen_Theta[theta_mask]"
   ]
  },
  {
   "cell_type": "markdown",
   "id": "b8229633-c98c-413e-b444-2e2965cb2ad4",
   "metadata": {},
   "source": [
    "## Cluster Sum and Truth P Correlation"
   ]
  },
  {
   "cell_type": "code",
   "execution_count": null,
   "id": "d81bca68-39ed-4d05-ad29-fc574316c442",
   "metadata": {},
   "outputs": [],
   "source": [
    "from copy import copy\n",
    "from matplotlib.colors import LogNorm\n",
    "fig, axes = plt.subplots(nrows=1, ncols=2, figsize=(24, 10), constrained_layout=True)\n",
    "axes = axes.ravel()\n",
    "cmap = copy(plt.cm.plasma)\n",
    "cmap.set_bad(cmap(0))\n",
    "\n",
    "cluster_edges=np.linspace(0,110,1201)\n",
    "truth_edges=np.linspace(0,100,1201)\n",
    "\n",
    "\n",
    "#ROOT\n",
    "h, xedges, yedges = np.histogram2d(root_gen_P, root_cluster_sum, bins=[truth_edges, cluster_edges])\n",
    "pcm = axes[0].pcolormesh(xedges, yedges, h.T, cmap=cmap, norm=LogNorm(vmin=1.0e-2,vmax=1.1e1), rasterized=True)\n",
    "cb = fig.colorbar(pcm, ax=axes[0], pad=0)\n",
    "cb.ax.tick_params(labelsize=20)\n",
    "axes[0].set_xlabel(\"Generated Energy\",fontsize=22)\n",
    "axes[0].set_ylabel(\"HCal Sum Energy\",fontsize=25)\n",
    "axes[0].set_title(\"[ROOT] HCal Sum vs. Generated Energy\",fontsize=30)\n",
    "axes[0].plot([0, 100], [0, 100], color=\"cyan\",linewidth=2,alpha=0.5,label=\"Ideal\")\n",
    "axes[0].legend(loc=\"upper left\")\n",
    "\n",
    "\n",
    "#HDF5\n",
    "h, xedges, yedges = np.histogram2d(h5_gen_P, hdf5_cluster_sum, bins=[truth_edges, cluster_edges])\n",
    "pcm = axes[1].pcolormesh(xedges, yedges, h.T, cmap=cmap, norm=LogNorm(vmin=1.0e-2,vmax=1.1e1), rasterized=True)\n",
    "cb = fig.colorbar(pcm, ax=axes[1], pad=0)\n",
    "cb.ax.tick_params(labelsize=20)\n",
    "axes[1].set_xlabel(\"Generated Energy\",fontsize=22)\n",
    "axes[1].set_ylabel(\"HCal Sum Energy\",fontsize=25)\n",
    "axes[1].set_title(\"[HDF5] HCal Sum vs. Generated Energy\",fontsize=30)\n",
    "axes[1].plot([0, 100], [0, 100], color=\"cyan\",linewidth=2,alpha=0.5,label=\"Ideal\")\n",
    "axes[1].legend(loc=\"upper left\")"
   ]
  },
  {
   "cell_type": "code",
   "execution_count": null,
   "id": "0ff66751-707f-415c-b2c1-080f50a12e4c",
   "metadata": {},
   "outputs": [],
   "source": [
    "make_comparison_plots( root_cluster_sum, hdf5_cluster_sum, 'Cluster Sum' )"
   ]
  },
  {
   "cell_type": "markdown",
   "id": "cf6da2dc-f909-4231-bac4-424f4d0e989a",
   "metadata": {},
   "source": [
    "# At this point, it should be established that ROOT and HDF5 data are IDENTICAL"
   ]
  },
  {
   "cell_type": "markdown",
   "id": "a73cd000-bc52-4cac-97ff-23fd223f1753",
   "metadata": {},
   "source": [
    "## Last check: Train on HDF5 and ROOT"
   ]
  },
  {
   "cell_type": "code",
   "execution_count": null,
   "id": "c457cf1e-2b32-4a1d-ae33-21c18038a7a4",
   "metadata": {},
   "outputs": [],
   "source": [
    "h5_X = hdf5_cluster_sum\n",
    "h5_Y = h5_gen_P\n",
    "\n",
    "R_X = root_cluster_sum\n",
    "R_Y = root_gen_P"
   ]
  },
  {
   "cell_type": "code",
   "execution_count": null,
   "id": "799d9e1a",
   "metadata": {},
   "outputs": [],
   "source": [
    "(h5_X_train, h5_X_val, h5_X_test,\n",
    "h5_Y_train, h5_Y_val, h5_Y_test) = data_split(h5_X, h5_Y, val=0.2, test=0.3,shuffle=shuffle_split)\n",
    "\n",
    "(R_X_train, R_X_val, R_X_test,\n",
    "R_Y_train, R_Y_val, R_Y_test) = data_split(R_X, R_Y, val=0.2, test=0.3,shuffle=shuffle_split)"
   ]
  },
  {
   "cell_type": "code",
   "execution_count": null,
   "id": "22b24d1c-de88-4096-a175-34473b7dbd1f",
   "metadata": {},
   "outputs": [],
   "source": [
    "def step_decay(epoch, lr):\n",
    "    min_rate = 1.01e-7\n",
    "    N_start = 10\n",
    "    N_epochs = 5\n",
    "    \n",
    "    return lr\n",
    "    \n",
    "    if epoch >= N_start and lr >= min_rate:\n",
    "        if (epoch%N_epochs==0):\n",
    "            return lr * 0.1\n",
    "    return lr\n",
    "\n",
    "lr_decay = tf.keras.callbacks.LearningRateScheduler(step_decay,verbose=0)"
   ]
  },
  {
   "cell_type": "code",
   "execution_count": null,
   "id": "57ccab67-7da3-4397-b7f4-8cc785703c1f",
   "metadata": {},
   "outputs": [],
   "source": [
    "early_stopping = tf.keras.callbacks.EarlyStopping(patience=patience)"
   ]
  },
  {
   "cell_type": "code",
   "execution_count": null,
   "id": "e2d8b2a7-72a3-4195-9cf3-5eba002a1cbe",
   "metadata": {
    "tags": []
   },
   "outputs": [],
   "source": [
    "#from tensorflow.keras.layers import Input\n",
    "h5_model = tf.keras.models.Sequential([\n",
    "    tf.keras.layers.Input(shape=[1]),\n",
    "    tf.keras.layers.Dense(64, activation='relu'), # 1st hiddden layer\n",
    "    tf.keras.layers.Dense(64, activation='relu'), # 2nd hiddden layer\n",
    "    tf.keras.layers.Dense(64, activation='relu'), # 3rd hiddden layer\n",
    "    tf.keras.layers.Dense(64, activation='relu'), # 4th hiddden layer\n",
    "    tf.keras.layers.Dense(1,activation=\"linear\") # output layer\n",
    "])\n",
    "\n",
    "h5_model.compile(loss=loss, optimizer=\"adam\")\n",
    "\n",
    "h5_fit = h5_model.fit(h5_X_train, h5_Y_train, epochs=100,\n",
    "                    validation_data=(h5_X_val,h5_Y_val),\n",
    "                    callbacks=[lr_decay,early_stopping],\n",
    "                    batch_size=batch_size)\n",
    "\n",
    "\n",
    "R_model = tf.keras.models.Sequential([\n",
    "    tf.keras.layers.Input(shape=[1]),\n",
    "    tf.keras.layers.Dense(64, activation='relu'), # 1st hiddden layer\n",
    "    tf.keras.layers.Dense(64, activation='relu'), # 2nd hiddden layer\n",
    "    tf.keras.layers.Dense(64, activation='relu'), # 3rd hiddden layer\n",
    "    tf.keras.layers.Dense(64, activation='relu'), # 4th hiddden layer\n",
    "    tf.keras.layers.Dense(1,activation=\"linear\") # output layer\n",
    "])\n",
    "\n",
    "R_model.compile(loss=loss, optimizer=\"adam\")\n",
    "\n",
    "R_fit = R_model.fit(R_X_train, R_Y_train, epochs=100,\n",
    "                    validation_data=(R_X_val,R_Y_val),\n",
    "                    callbacks=[lr_decay,early_stopping],\n",
    "                    batch_size=batch_size)\n"
   ]
  },
  {
   "cell_type": "code",
   "execution_count": null,
   "id": "b1b0b769",
   "metadata": {
    "scrolled": true
   },
   "outputs": [],
   "source": [
    "h5_model.save(\"%s/h5_energy_regression.h5\"%(path))\n",
    "h5_preds = h5_model.predict(h5_X_test,batch_size=400)    \n",
    "np.save(\"%s/h5_predictions.npy\"%(path),h5_preds)\n",
    "np.save(\"%s/h5_y_test.npy\"%(path),h5_Y_test)\n",
    "np.save(\"%s/h5_x_test.npy\"%(path),h5_X_test)\n",
    "\n",
    "R_model.save(\"%s/R_energy_regression.h5\"%(path))\n",
    "R_preds = R_model.predict(R_X_test,batch_size=400)    \n",
    "np.save(\"%s/R_predictions.npy\"%(path),R_preds)\n",
    "np.save(\"%s/R_y_test.npy\"%(path),R_Y_test)\n",
    "np.save(\"%s/R_x_test.npy\"%(path),R_X_test)"
   ]
  },
  {
   "cell_type": "markdown",
   "id": "215800ac-77d4-43f4-ae35-7d90fedb5cf0",
   "metadata": {},
   "source": [
    "___"
   ]
  },
  {
   "cell_type": "code",
   "execution_count": null,
   "id": "99f69ab7",
   "metadata": {},
   "outputs": [],
   "source": [
    "fig, axes = plt.subplots(1, 2,figsize=(28,10),constrained_layout=True)\n",
    "#fig,axs = plt.subplots(int(N/10),10, figsize=(32, 16),sharex=False,sharey=True,constrained_layout=True)\n",
    "axes = axes.ravel()\n",
    "from copy import copy\n",
    "from matplotlib.colors import LogNorm\n",
    "#fig, axes = plt.subplots(nrows=1, figsize=(14, 10), constrained_layout=True)\n",
    "cmap = copy(plt.cm.plasma)\n",
    "cmap.set_bad(cmap(0))\n",
    "edges=np.linspace(-10,110,121)\n",
    "h, xedges, yedges = np.histogram2d(h5_Y_test,h5_preds[:,0], bins=[edges, edges])\n",
    "#xedges=yedges\n",
    "pcm = axes[0].pcolormesh(xedges, yedges, h.T, cmap=cmap,\n",
    "                         norm=LogNorm(vmin=1.0e-2,vmax=2.0e2), rasterized=True)\n",
    "cb = fig.colorbar(pcm, ax=axes[0], pad=0)\n",
    "#cb.set_label(\"Counts\",fontsize=22)\n",
    "cb.ax.tick_params(labelsize=20)\n",
    "axes[0].set_xlabel(\"Generated Energy\",fontsize=22)\n",
    "#axes[0].set_yticks(fontsize=20)\n",
    "#axes[0].set_xticks(fontsize=20)\n",
    "axes[0].set_ylim(-1,110)\n",
    "axes[0].set_xlim(-0,101)\n",
    "axes[0].plot([0, 100], [0, 100], color=\"cyan\",linewidth=2,alpha=0.5,label=\"Ideal\")\n",
    "axes[0].legend(loc=\"upper left\")\n",
    "axes[0].set_ylabel(\"Predicted Energy\",fontsize=25)\n",
    "axes[0].set_title(\"[HDF5] Predicted vs. Generated Energy\",fontsize=30)\n",
    "\n",
    "\n",
    "axes[1].plot(h5_fit.history['loss'])\n",
    "axes[1].plot(h5_fit.history['val_loss'])\n",
    "axes[1].set_title('[HDF5] Model Loss vs. Epoch',fontsize=26)\n",
    "\n",
    "fig.text(1.05,1.1,label,transform=axes[0].transAxes,fontsize=10)\n",
    "axes[1].set_ylabel('Mean-Squared Error',fontsize=22)\n",
    "axes[1].set_yscale('log')\n",
    "axes[1].set_xlabel('epoch',fontsize=22)\n",
    "plt.xticks(fontsize=20)\n",
    "plt.yticks(fontsize=20)\n",
    "plt.tick_params(direction='in',right=True,top=True,length=10)\n",
    "plt.tick_params(direction='in',right=True,top=True,which='minor')\n",
    "axes[1].set_xlim([-1,101])\n",
    "axes[1].legend(['train', 'validation'], loc='upper right',fontsize=22)\n",
    "plt.savefig(\"%s/H5_Correlation.png\"%(path))"
   ]
  },
  {
   "cell_type": "code",
   "execution_count": null,
   "id": "5ac7200c-69ed-4844-b433-5eec6cc53106",
   "metadata": {},
   "outputs": [],
   "source": [
    "fig, axes = plt.subplots(1, 2,figsize=(28,10),constrained_layout=True)\n",
    "axes = axes.ravel()\n",
    "from copy import copy\n",
    "from matplotlib.colors import LogNorm\n",
    "cmap = copy(plt.cm.plasma)\n",
    "cmap.set_bad(cmap(0))\n",
    "edges=np.linspace(-10,110,121)\n",
    "h, xedges, yedges = np.histogram2d(R_Y_test,R_preds[:,0], bins=[edges, edges])\n",
    "pcm = axes[0].pcolormesh(xedges, yedges, h.T, cmap=cmap,\n",
    "                         norm=LogNorm(vmin=1.0e-2,vmax=2.0e2), rasterized=True)\n",
    "cb = fig.colorbar(pcm, ax=axes[0], pad=0)\n",
    "cb.ax.tick_params(labelsize=20)\n",
    "axes[0].set_xlabel(\"Generated Energy\",fontsize=22)\n",
    "axes[0].set_ylim(-1,110)\n",
    "axes[0].set_xlim(-0,101)\n",
    "axes[0].plot([0, 100], [0, 100], color=\"cyan\",linewidth=2,alpha=0.5,label=\"Ideal\")\n",
    "axes[0].legend(loc=\"upper left\")\n",
    "axes[0].set_ylabel(\"Predicted Energy\",fontsize=25)\n",
    "axes[0].set_title(\"[ROOT] Predicted vs. Generated Energy\",fontsize=30)\n",
    "\n",
    "\n",
    "axes[1].plot(R_fit.history['loss'])\n",
    "axes[1].plot(R_fit.history['val_loss'])\n",
    "axes[1].set_title('[ROOT] Model Loss vs. Epoch',fontsize=26)\n",
    "\n",
    "fig.text(1.05,1.1,label,transform=axes[0].transAxes,fontsize=10)\n",
    "axes[1].set_ylabel('Mean-Squared Error',fontsize=22)\n",
    "axes[1].set_yscale('log')\n",
    "axes[1].set_xlabel('epoch',fontsize=22)\n",
    "plt.xticks(fontsize=20)\n",
    "plt.yticks(fontsize=20)\n",
    "plt.tick_params(direction='in',right=True,top=True,length=10)\n",
    "plt.tick_params(direction='in',right=True,top=True,which='minor')\n",
    "axes[1].set_xlim([-1,101])\n",
    "axes[1].legend(['train', 'validation'], loc='upper right',fontsize=22)\n",
    "plt.savefig(\"%s/ROOT_Correlation.png\"%(path))"
   ]
  },
  {
   "cell_type": "code",
   "execution_count": null,
   "id": "e9d8b622-79dd-4456-86d2-023fe4f3160e",
   "metadata": {},
   "outputs": [],
   "source": [
    "star_energies = [12,16,20,25,30,50,60,70]\n",
    "star_res = [0.18, 0.16, 0.15, 0.14, 0.13, 0.098, 0.092, 0.090]\n",
    "\n",
    "ECCE_res = [0.15,0.127,0.117,0.121,0.106,0.102,0.092,0.098]\n",
    "ECCE_energies = [10,20,30,40,50,60,80,100]"
   ]
  },
  {
   "cell_type": "code",
   "execution_count": null,
   "id": "27888f81-5a09-4118-8ce3-90e06f0eabb2",
   "metadata": {},
   "outputs": [],
   "source": [
    "from data_functions import get_res_scale"
   ]
  },
  {
   "cell_type": "code",
   "execution_count": null,
   "id": "578e3bcb-a691-453e-b2c4-9d80774bcb0e",
   "metadata": {},
   "outputs": [],
   "source": [
    "N_Bins = 20\n",
    "E_Bins = np.linspace(0,100,N_Bins+1)\n",
    "\n",
    "h5_resolution, h5_pred_over_truth, h5_avg_truth,h5_slices = get_res_scale(h5_Y_test,h5_preds)\n",
    "h5_strawman_res, h5_strawman_scale, h5_avg_truth, h5_strawman_slices = get_res_scale(h5_Y_test,h5_X_test)\n",
    "\n",
    "R_resolution, R_pred_over_truth, R_avg_truth,R_slices = get_res_scale(R_Y_test,R_preds)\n",
    "R_strawman_res, R_strawman_scale, R_avg_truth,R_strawman_slices = get_res_scale(R_Y_test,R_X_test)"
   ]
  },
  {
   "cell_type": "code",
   "execution_count": null,
   "id": "831bff34-75b8-472a-bef5-124dc9ab585a",
   "metadata": {},
   "outputs": [],
   "source": [
    "fig=plt.figure(figsize=(14,10))\n",
    "plt.title(\"AI Codesign Resolution\",fontsize=25)\n",
    "plt.ylabel(\"$(\\sigma_{E,\\mathrm{Pred}}/E_\\mathrm{Truth})$\",fontsize=24)\n",
    "plt.xlabel(\"$E_\\mathrm{Truth}$ [GeV]\",fontsize=24)\n",
    "plt.xticks(fontsize=20)\n",
    "plt.yticks(fontsize=20)\n",
    "plt.tick_params(direction='in',right=True,top=True,length=10)\n",
    "#plt.ylim(-0.02,0.4)\n",
    "plt.ylim(0,2)\n",
    "plt.ylim(0,.32)\n",
    "plt.xlim(-0.01,100.01)\n",
    "plt.xlim(5.0,100)\n",
    "#errors = 1.0/(np.sqrt(2*counter-2))*stdev_pred\n",
    "ax = plt.subplot(1,1,1)\n",
    "first_bin = 0\n",
    "last_bin = 20\n",
    "\n",
    "plt.text(0.8,-0.08,label,transform=ax.transAxes,fontsize=10)\n",
    "plt.errorbar(h5_avg_truth[first_bin:last_bin],h5_resolution[first_bin:last_bin],#yerr=errors[first_bin:last_bin],\n",
    "             linestyle=\"-\",linewidth=2.0,capsize=4,capthick=1.2,elinewidth=1.2,ecolor='black',marker=\"o\",color='dodgerblue',alpha=0.7,label=\"Simple NN [HDF5]\")\n",
    "\n",
    "plt.errorbar(R_avg_truth[first_bin:last_bin],R_resolution[first_bin:last_bin],#yerr=errors[first_bin:last_bin],\n",
    "             linestyle=\"-\",linewidth=2.0,capsize=4,capthick=1.2,elinewidth=1.2,ecolor='black',marker=\"o\",color='red',alpha=0.7,label=\"Simple NN [ROOT]\")\n",
    "\n",
    "plt.plot(ECCE_energies,ECCE_res,\"-o\",label = \"EIC Ref\",color=\"limegreen\")\n",
    "plt.plot(star_energies,star_res,\"-o\",label = \"STAR\",color=\"deeppink\")\n",
    "plt.legend(fontsize=15,loc=\"upper left\")\n",
    "plt.savefig(\"%s/h5_resolution_plot.pdf\"%(path))\n",
    "\n",
    "\n"
   ]
  },
  {
   "cell_type": "code",
   "execution_count": null,
   "id": "b48a2610-52e1-4242-96ec-76f189a1a503",
   "metadata": {},
   "outputs": [],
   "source": [
    "fig=plt.figure(figsize=(14,10))\n",
    "plt.title(\"AI Codesign Scale\",fontsize=25)\n",
    "plt.ylabel(\"$(E_\\mathrm{Pred}/E_\\mathrm{Truth})$\",fontsize=24)\n",
    "plt.xlabel(\"$E_\\mathrm{Truth}$ [GeV]\",fontsize=24)\n",
    "plt.xticks(fontsize=20)\n",
    "plt.yticks(fontsize=20)\n",
    "plt.tick_params(direction='in',right=True,top=True,length=10)\n",
    "plt.axhline(y=1.0, color='k', linestyle='--',alpha=0.5)#plt.ylim(-0.02,0.4)\n",
    "plt.ylim(0.9,1.1)\n",
    "plt.xlim(-1,101)\n",
    "#errors = 1.0/(np.sqrt(2*counter-2))*stdev_pred\n",
    "ax = plt.subplot(1,1,1)\n",
    "first_bin = 0\n",
    "last_bin = N_Bins\n",
    "\n",
    "string = \"HDF5\"\n",
    "color1 = 'blue'\n",
    "color2 = 'dodgerblue'\n",
    "#HDF5 NN   \n",
    "plt.errorbar(h5_avg_truth[first_bin:last_bin],h5_pred_over_truth[first_bin:last_bin],#yerr=errors[first_bin:last_bin],\n",
    "             linestyle=\"--\",linewidth=2.0,capsize=4,capthick=1.2,elinewidth=1.2,\n",
    "             ecolor='black',marker=\"o\",color=color1,alpha=0.7,label=\"Simple DNN\")\n",
    "\n",
    "#Strawman\n",
    "plt.errorbar(h5_avg_truth[first_bin:last_bin],h5_strawman_scale[first_bin:last_bin],\n",
    "             linestyle=\"-\",linewidth=2.0,capsize=4,capthick=1.2,elinewidth=1.2,ecolor='black',\n",
    "             marker=\"o\",color=color2,alpha=0.7,label=\"HDF5 Strawman $\\sum_\\mathrm{Cluster\\ E} / %1.2f$\"%(sampling_fraction))\n",
    "\n",
    "\n",
    "#ROOT NN\n",
    "plt.errorbar(R_avg_truth[first_bin:last_bin],R_pred_over_truth[first_bin:last_bin],#yerr=errors[first_bin:last_bin],\n",
    "             linestyle=\"--\",linewidth=2.0,capsize=4,capthick=1.2,elinewidth=1.2,\n",
    "             ecolor='black',marker=\"o\",color='red',alpha=0.7,label=\"Simple DNN (ROOT)\")\n",
    "\n",
    "#ROOT Strawman\n",
    "\n",
    "plt.errorbar(R_avg_truth[first_bin:last_bin],R_strawman_scale[first_bin:last_bin],\n",
    "             linestyle=\"-\",linewidth=2.0,capsize=4,capthick=1.2,elinewidth=1.2,ecolor='black',\n",
    "             marker=\"o\",color='tomato',alpha=0.7,label=\"ROOT Strawman $\\sum_\\mathrm{Cluster\\ E} /  $%1.2f\"%(sampling_fraction))\n",
    "\n",
    "#plt.text(0.7,0.7,\"ROOT\",transform=ax.transAxes,fontsize=25)\n",
    "\n",
    "plt.legend(fontsize=25)\n",
    "plt.text(0.8,-0.08,label,transform=ax.transAxes,fontsize=10)\n",
    "\n",
    "\n",
    "plt.savefig(\"%s/%s_scale_plot.pdf\"%(path,string))"
   ]
  },
  {
   "cell_type": "code",
   "execution_count": null,
   "id": "bf7e447b-5fbb-4d8e-9a1d-9a4d664104df",
   "metadata": {},
   "outputs": [],
   "source": [
    "# 48-52 GeV Slice\n",
    "#look at the distribution of the PRED in that slice\n",
    "#\n",
    "#h5_Y_test,h5_preds\n",
    "\n",
    "mask = (h5_Y_test < 55.)\n",
    "mask = np.logical_and(mask,h5_Y_test > 50.)\n",
    "\n",
    "#h5_X_test = Strawman [HDF5]pre\n",
    "plt.hist(h5_X_test[mask],bins=50, label=\"Function Slicing\",alpha=0.5)\n",
    "plt.hist(h5_strawman_slices[10],bins=50,label=\"Direct Slicing\",alpha=0.5)\n",
    "#plt.hist(h5_strawman_slices[9],bins=50,label=\"Direct Slicing -1 Bin\",alpha=0.5)\n",
    "#plt.hist(h5_strawman_slices[11],bins=50,label=\"Direct Slicing +1 Bin\",alpha=0.5)\n",
    "plt.legend()\n"
   ]
  },
  {
   "cell_type": "code",
   "execution_count": null,
   "id": "3823e85d-ad08-4247-8c35-e9a98b49e874",
   "metadata": {},
   "outputs": [],
   "source": [
    "fig,axs = plt.subplots(int(N_Bins/10),10, figsize=(32, 10),sharex=False,sharey=True,constrained_layout=True)\n",
    "for i in range(N_Bins):\n",
    "    row = int(i/10)\n",
    "    col = i%10\n",
    "    if(row==int(N_Bins/10)): continue\n",
    "    ax = axs[row,col]\n",
    "    \n",
    "    if (col==0):\n",
    "        ax.set_ylabel(\"Counts\",fontsize=15)\n",
    "    if (np.all(np.isnan(h5_slices[i]))): continue\n",
    "    temp_bin = np.linspace(h5_avg_truth[i]-2.0,h5_avg_truth[i]+2.0,16)\n",
    "    ax.set_title(\"%1.1f $ < E_\\mathrm{Truth} < $%1.1f [GeV]\"%(E_Bins[i],E_Bins[i+1]),fontsize=10)\n",
    "    ax.set_xlabel(\"Predicted Eenergy\")\n",
    "    ax.hist(h5_slices[i],label=\"Predicted Energies\",bins=20)\n",
    "    ax.axvline(x=h5_avg_truth[i],color='red',alpha=0.3,linestyle=\"--\",label=\"Avg. $E_\\mathrm{Truth} = %1.2f$\"%(h5_avg_truth[i]))\n",
    "    ax.axvline(x=np.nanmean(h5_slices,axis=-1)[i],color='cyan',alpha=0.3,linestyle=\"--\",label=\"Avg. $E_\\mathrm{Pred} = %1.2f$\"%(np.nanmean(h5_slices,axis=-1)[i]))\n",
    "\n",
    "    ax.legend(fontsize=7.5)\n",
    "    ax.tick_params(direction='in',right=True,top=True,length=5)\n",
    "plt.savefig(\"%s/h5_resolutions_slices.pdf\"%(path))"
   ]
  },
  {
   "cell_type": "code",
   "execution_count": null,
   "id": "90c95f71-d16e-4adf-94e9-b2d318c31a1a",
   "metadata": {
    "tags": []
   },
   "outputs": [],
   "source": [
    "fig,axs = plt.subplots(int(N_Bins/10),10, figsize=(32, 10),sharex=False,sharey=True,constrained_layout=True)\n",
    "for i in range(N_Bins):\n",
    "    row = int(i/10)\n",
    "    col = i%10\n",
    "    if(row==int(N_Bins/10)): continue\n",
    "    ax = axs[row,col]\n",
    "    \n",
    "    if (col==0):\n",
    "        ax.set_ylabel(\"Counts\",fontsize=15)\n",
    "\n",
    "    if (np.all(np.isnan(R_slices[i]))): continue\n",
    "    temp_bin = np.linspace(R_avg_truth[i]-2.0,R_avg_truth[i]+2.0,16)\n",
    "    ax.set_title(\"%1.1f $ < E_\\mathrm{Truth} < $%1.1f [GeV]\"%(E_Bins[i],E_Bins[i+1]),fontsize=10)\n",
    "    ax.set_xlabel(\"Predicted Eenergy\")\n",
    "    ax.hist(R_slices[i],label=\"Predicted Energies\",bins=30)\n",
    "    ax.axvline(x=R_avg_truth[i],color='red',alpha=0.3,linestyle=\"--\",label=\"Avg. $E_\\mathrm{Truth} = %1.2f$\"%(R_avg_truth[i]))\n",
    "    ax.axvline(x=np.nanmean(R_slices,axis=-1)[i],color='cyan',alpha=0.3,linestyle=\"--\",label=\"Avg. $E_\\mathrm{Pred} = %1.2f$\"%(np.nanmean(h5_slices,axis=-1)[i]))\n",
    "\n",
    "    ax.legend(fontsize=7.5)\n",
    "    ax.tick_params(direction='in',right=True,top=True,length=5)\n",
    "plt.savefig(\"%s/R_resolutions_slices.pdf\"%(path))"
   ]
  },
  {
   "cell_type": "code",
   "execution_count": null,
   "id": "4026e691-0a60-4629-b985-e2d93d1054f6",
   "metadata": {},
   "outputs": [],
   "source": [
    "fig,axs = plt.subplots(int(N_Bins/10),10, figsize=(32, 10),sharex=False,sharey=True,constrained_layout=True)\n",
    "for i in range(N_Bins):\n",
    "    row = int(i/10)\n",
    "    col = i%10\n",
    "    if(row==int(N_Bins/10)): continue\n",
    "    ax = axs[row,col]\n",
    "    \n",
    "    if (col==0):\n",
    "        ax.set_ylabel(\"Counts\",fontsize=15)\n",
    "    if (np.all(np.isnan(h5_strawman_slices[i]))): continue\n",
    "    temp_bin = np.linspace(h5_avg_truth[i]-2.0,h5_avg_truth[i]+2.0,16)\n",
    "    ax.set_title(\"%1.1f $ < E_\\mathrm{Truth} < $%1.1f [GeV]\"%(E_Bins[i],E_Bins[i+1]),fontsize=10)\n",
    "    ax.set_xlabel(\"Predicted Eenergy\")\n",
    "    ax.hist(h5_slices[i],label=\"Predicted Energies\",bins=30)\n",
    "    ax.axvline(x=h5_avg_truth[i],color='red',alpha=0.3,linestyle=\"--\",label=\"Avg. $E_\\mathrm{Truth} = %1.2f$\"%(h5_avg_truth[i]))\n",
    "    ax.axvline(x=np.nanmean(h5_strawman_slices,axis=-1)[i],color='cyan',alpha=0.3,linestyle=\"--\",label=\"Avg. $E_\\mathrm{Pred} = %1.2f$\"%(np.nanmean(h5_strawman_slices,axis=-1)[i]))\n",
    "\n",
    "    ax.legend(fontsize=7.5)\n",
    "    ax.tick_params(direction='in',right=True,top=True,length=5)\n",
    "plt.savefig(\"%s/h5_strawman_resolutions_slices.pdf\"%(path))\n",
    "\n",
    "#h5_strawman_res, h5_strawman_scale, h5_avg_truth, h5_strawman_slices"
   ]
  },
  {
   "cell_type": "markdown",
   "id": "14449992-a3bd-418e-9b71-9389feeb4dfa",
   "metadata": {},
   "source": [
    "# Let's see what the scale and resolution look like in Bins of Reco (Input) Energy"
   ]
  },
  {
   "cell_type": "code",
   "execution_count": null,
   "id": "afd2d487-a1b7-473a-8edc-387a628892dc",
   "metadata": {},
   "outputs": [],
   "source": []
  },
  {
   "cell_type": "code",
   "execution_count": null,
   "id": "bfd4ce80-21df-4c71-8040-48b01ee05a82",
   "metadata": {},
   "outputs": [],
   "source": [
    "reco_h5_resolution, reco_h5_pred_over_truth, reco_h5_avg_reco, reco_h5_avg_truth, reco_h5_slices = get_res_scale_in_reco_bins(h5_Y_test,h5_preds,h5_X_test,22,0,100)\n",
    "#reco_h5_strawman_res, reco_h5_strawman_scale, reco_h5_avg_truth, reco_h5_strawman_slices = get_res_scale(h5_Y_test,h5_X_test)\n",
    "\n",
    "reco_R_resolution, reco_R_pred_over_truth, reco_R_avg_reco, reco_R_avg_truth, reco_R_slices = get_res_scale_in_reco_bins(R_Y_test,R_preds,R_X_test,22,0,100)\n",
    "#R_strawman_res, R_strawman_scale, R_avg_truth,R_strawman_slices = get_res_scale(R_Y_test,R_X_test)"
   ]
  },
  {
   "cell_type": "code",
   "execution_count": null,
   "id": "7462f4b4-7865-4e47-a6b3-1c9c4a935b21",
   "metadata": {},
   "outputs": [],
   "source": [
    "fig=plt.figure(figsize=(14,10))\n",
    "plt.title(\"AI Codesign Scale [Reco Bins]\",fontsize=25)\n",
    "plt.ylabel(\"$(E_\\mathrm{Pred}/E_\\mathrm{Truth})$\",fontsize=24)\n",
    "plt.xlabel(\"$E_\\mathrm{RECO}$ [GeV]\",fontsize=24)\n",
    "plt.xticks(fontsize=20)\n",
    "plt.yticks(fontsize=20)\n",
    "plt.tick_params(direction='in',right=True,top=True,length=10)\n",
    "plt.axhline(y=1.0, color='k', linestyle='--',alpha=0.5)#plt.ylim(-0.02,0.4)\n",
    "plt.ylim(0.8,1.1)\n",
    "plt.xlim(-1,101)\n",
    "#errors = 1.0/(np.sqrt(2*counter-2))*stdev_pred\n",
    "ax = plt.subplot(1,1,1)\n",
    "first_bin = 0\n",
    "last_bin = N_Bins\n",
    "\n",
    "string = \"HDF5\"\n",
    "color1 = 'blue'\n",
    "color2 = 'dodgerblue'\n",
    "#HDF5 NN   \n",
    "plt.errorbar(reco_h5_avg_reco[first_bin:last_bin],reco_h5_pred_over_truth[first_bin:last_bin],#yerr=errors[first_bin:last_bin],\n",
    "             linestyle=\"--\",linewidth=2.0,capsize=4,capthick=1.2,elinewidth=1.2,\n",
    "             ecolor='black',marker=\"o\",color=color1,alpha=0.7,label=\"Simple DNN\")\n",
    "\n",
    "\n",
    "#ROOT NN\n",
    "plt.errorbar(reco_R_avg_reco[first_bin:last_bin],reco_R_pred_over_truth[first_bin:last_bin],#yerr=errors[first_bin:last_bin],\n",
    "             linestyle=\"--\",linewidth=2.0,capsize=4,capthick=1.2,elinewidth=1.2,\n",
    "             ecolor='black',marker=\"o\",color='red',alpha=0.7,label=\"Simple DNN (ROOT)\")\n",
    "\n",
    "\n",
    "#plt.text(0.7,0.7,\"ROOT\",transform=ax.transAxes,fontsize=25)\n",
    "\n",
    "plt.legend(fontsize=25)\n",
    "#plt.text(0.8,-0.08,label,transform=ax.transAxes,fontsize=10)\n",
    "\n",
    "plt.text(0.65,-0.08,\"Reco = $\\sum_{E \\mathrm{cells}}$\",transform=ax.transAxes,fontsize=10)\n",
    "\n",
    "\n",
    "\n",
    "\n",
    "plt.savefig(\"%s/Reco_Bins_%s_scale_plot.pdf\"%(path,string))"
   ]
  },
  {
   "cell_type": "markdown",
   "id": "edc7aed0-0218-48d9-837b-40edb0683867",
   "metadata": {},
   "source": [
    "If Normalization is desired"
   ]
  },
  {
   "cell_type": "raw",
   "id": "dc936e04-5444-4b29-a2b0-690d2f95b7e6",
   "metadata": {},
   "source": [
    "#do_norm = False\n",
    "\n",
    "#if do_norm:\n",
    "#    cluster_mean = np.nanmean(clusters)\n",
    "#    cluster_std = np.nanstd(clusters)\n",
    "#    clusters = (clusters-cluster_mean)/cluster_std\n",
    "z\n",
    "#    truth_mean = np.nanmean(truth_E)\n",
    "#    truth_std = np.nanstd(truth_E)\n",
    "#    truth_E = (truth_E-truth_mean)/truth_std\n",
    "    \n",
    "#    print(\"DOING NORMALIZATION!!!\")"
   ]
  }
 ],
 "metadata": {
  "kernelspec": {
   "display_name": "ai_codesign",
   "language": "python",
   "name": "tin"
  },
  "language_info": {
   "codemirror_mode": {
    "name": "ipython",
    "version": 3
   },
   "file_extension": ".py",
   "mimetype": "text/x-python",
   "name": "python",
   "nbconvert_exporter": "python",
   "pygments_lexer": "ipython3",
   "version": "3.9.7"
  }
 },
 "nbformat": 4,
 "nbformat_minor": 5
}
