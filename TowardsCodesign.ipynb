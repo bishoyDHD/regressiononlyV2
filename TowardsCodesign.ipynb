{
 "cells": [
  {
   "cell_type": "code",
   "execution_count": 1,
   "id": "10683b42",
   "metadata": {},
   "outputs": [],
   "source": [
    "import numpy as np\n",
    "import matplotlib.pyplot as plt\n",
    "import pandas as pd\n",
    "import awkward as ak"
   ]
  },
  {
   "cell_type": "code",
   "execution_count": 2,
   "id": "77919377",
   "metadata": {},
   "outputs": [],
   "source": [
    "filename = 'pionplus_1k.npy'\n",
    "file = open(filename, 'rb')\n",
    "mc_truth = np.load(file,allow_pickle=True) #Added Generator E and Angle\n",
    "data = np.load(file,allow_pickle=True)\n",
    "\n",
    "test_file = open('test.npy', 'rb')\n",
    "test_data = np.load(test_file,allow_pickle=True)"
   ]
  },
  {
   "cell_type": "code",
   "execution_count": 3,
   "id": "9967b0c5",
   "metadata": {},
   "outputs": [
    {
     "name": "stdout",
     "output_type": "stream",
     "text": [
      "----------------- ORIGINAL test.npy -------------------\n",
      "number of images in event 400\n"
     ]
    }
   ],
   "source": [
    "print(\"----------------- ORIGINAL test.npy -------------------\")\n",
    "print('number of images in event', len(test_data[0]))"
   ]
  },
  {
   "cell_type": "code",
   "execution_count": 4,
   "id": "60f22c45",
   "metadata": {},
   "outputs": [
    {
     "name": "stdout",
     "output_type": "stream",
     "text": [
      "--------------- NEW .npy ----------------\n",
      "number of images in event 400\n"
     ]
    }
   ],
   "source": [
    "print(\"--------------- NEW .npy ----------------\")\n",
    "print('number of images in event', len(data[0]))\n",
    "#print(data)"
   ]
  },
  {
   "cell_type": "code",
   "execution_count": 5,
   "id": "0898d12e",
   "metadata": {},
   "outputs": [
    {
     "data": {
      "text/plain": [
       "20.007061"
      ]
     },
     "execution_count": 5,
     "metadata": {},
     "output_type": "execute_result"
    }
   ],
   "source": [
    "mc_truth.item().get('true_energy')"
   ]
  },
  {
   "cell_type": "code",
   "execution_count": 6,
   "id": "a86edf4c",
   "metadata": {},
   "outputs": [
    {
     "name": "stdout",
     "output_type": "stream",
     "text": [
      "number of images in event 400\n",
      "(400, 96, 6)\n"
     ]
    }
   ],
   "source": [
    "#============ Original ============================\n",
    "\n",
    "X = []\n",
    "Y = []\n",
    "with open('test.npy', 'rb') as f:#wrong file for now\n",
    "#with open(filename, 'rb') as f:\n",
    "    data = np.load(f,allow_pickle=True)\n",
    "    ievt = 0\n",
    "    print('number of images in event', len(data[ievt]))\n",
    "    ## Here we loop over all \"images\", which are created by integrating HCAL sampling layers defing 3 sectors defined \n",
    "    ## by two z position that define boundary. Note for all images ECAL is the same (no longitudinal separation in ECAL)\n",
    "    for im in range(len(data[ievt])):\n",
    "        event = np.c_[data[ievt][im]['HCAL1_x'][0],data[ievt][im]['HCAL1_y'][0],data[ievt][im]['HCAL1_E'][0]]\n",
    "        depths = np.array([2*np.ones(len(data[ievt][im]['HCAL1_x'][0]))]).flatten()\n",
    "        if (len(data[ievt][im]['HCAL2_x'])>0):\n",
    "            event = np.concatenate([event,np.c_[data[ievt][im]['HCAL2_x'][0],data[ievt][im]['HCAL2_y'][0],data[ievt][im]['HCAL2_E'][0]]])\n",
    "            depths = np.concatenate([depths,np.array([3*np.ones(len(data[ievt][im]['HCAL2_x'][0]))]).flatten()])\n",
    "        if (len(data[ievt][im]['HCAL3_x'])>0):\n",
    "            event = np.concatenate([event,np.c_[data[ievt][im]['HCAL3_x'][0],data[ievt][im]['HCAL3_y'][0],data[ievt][im]['HCAL3_E'][0]]])\n",
    "            depths = np.concatenate([depths,np.array([4*np.ones(len(data[ievt][im]['HCAL3_x'][0]))]).flatten()])\n",
    "        event = np.concatenate([event,np.c_[data[ievt][im]['ECAL_x'],data[ievt][im]['ECAL_y'],data[ievt][im]['ECAL_E']]])\n",
    "        depths = np.concatenate([depths,np.array([1*np.ones(len(data[ievt][im]['ECAL_x']))]).flatten()])\n",
    "        event = np.insert(event, 3, depths,axis=1)\n",
    "        event = np.insert(event, 4, data[ievt][im]['boundary'][0]*np.ones(len(event)),axis=1) #better to make these global features, but I did not want to download the latest energyflow package\n",
    "        event = np.insert(event, 5, data[ievt][im]['boundary'][1]*np.ones(len(event)),axis=1)\n",
    "        X += [event]\n",
    "        trueenergy = 1. #Miguel, please add this!\n",
    "        Y += [trueenergy]\n",
    "X = np.array(X)\n",
    "Y = np.array(Y)\n",
    "print(np.shape(X))"
   ]
  },
  {
   "cell_type": "code",
   "execution_count": 7,
   "id": "78ef41d3",
   "metadata": {},
   "outputs": [],
   "source": [
    "def get_max_ncell():\n",
    "    print(\"This function should get the largest size cells, and make a large NDarry, filled with zeros\")\n",
    "    #this route means that outside of the image loop, the event array should be inserted into all_events array"
   ]
  },
  {
   "cell_type": "code",
   "execution_count": 72,
   "id": "a3b832c3",
   "metadata": {
    "scrolled": true
   },
   "outputs": [
    {
     "name": "stdout",
     "output_type": "stream",
     "text": [
      "number of events:  1000\n",
      "number of \"images\" per event:  400\n",
      "ECAL X: (311,) + ECAL Y (311,) + ECAL E (311,) = (311, 3) [using np.c_]\n",
      "HCAL X: (1, 169) + HCAL Y (1, 169) + HCAL E (1, 169) =  -> np.append to ECAL -> (591, 3)\n"
     ]
    }
   ],
   "source": [
    "X = []\n",
    "Y = []\n",
    "X = ak.ArrayBuilder()\n",
    "X.begin_list()\n",
    "#builder.begin_list()\n",
    "#builder.append(x)\n",
    "#builder.append(y)\n",
    "#builder.append(z)\n",
    "#builder.end_list()\n",
    "with open(filename, 'rb') as f:\n",
    "#with open(\"test.npy\", 'rb') as f:\n",
    "    mc_truth = np.load(f,allow_pickle=True)\n",
    "    data = np.load(f,allow_pickle=True)\n",
    "    \n",
    "    print('number of events: ', len(data))\n",
    "    print('number of \"images\" per event: ', len(data[0]))\n",
    "    \n",
    "    ievt=0\n",
    "    #if (ievt!=-99): #place holder to maintain indents...\n",
    "    #for ievt in range(0,len(data)):\n",
    "    for ievt in range(0,2):\n",
    "        \n",
    "        ## Here we loop over all events and then all \"images\", which are created by integrating HCAL sampling layers defing 3 sectors defined \n",
    "        ## by two z position that define boundary. Note for all images ECAL is the same (no longitudinal separation in ECAL)\n",
    "\n",
    "        for im in range(len(data[ievt])):\n",
    "            #FIXME: assumes ECAL is always hit\n",
    "            event = np.c_[data[ievt][im]['ECAL_x'],data[ievt][im]['ECAL_y'],data[ievt][im]['ECAL_E']]\n",
    "            depths = np.array([1*np.ones(len(data[ievt][im]['ECAL_x']))]).flatten()\n",
    "            \n",
    "            if (ievt == im == 0):\n",
    "                print(\"ECAL X:\", np.shape(data[ievt][im]['ECAL_x']), \"+ ECAL Y\", np.shape(data[ievt][im]['ECAL_y']),\n",
    "                  \"+ ECAL E\", np.shape(data[ievt][im]['ECAL_E']),\"=\",np.shape(event), \"[using np.c_]\")\n",
    "\n",
    "            if (len(data[ievt][im]['HCAL1_x'])>0):\n",
    "                event = np.concatenate([event,np.c_[data[ievt][im]['HCAL1_x'][0],data[ievt][im]['HCAL1_y'][0],data[ievt][im]['HCAL1_E'][0]]])\n",
    "                depths = np.concatenate([depths,np.array([2*np.ones(len(data[ievt][im]['HCAL1_x'][0]))]).flatten()])\n",
    "            \n",
    "            if (len(data[ievt][im]['HCAL2_x'])>0):\n",
    "                event = np.concatenate([event,np.c_[data[ievt][im]['HCAL2_x'][0],data[ievt][im]['HCAL2_y'][0],data[ievt][im]['HCAL2_E'][0]]])\n",
    "                depths = np.concatenate([depths,np.array([3*np.ones(len(data[ievt][im]['HCAL2_x'][0]))]).flatten()])\n",
    "                \n",
    "            if (len(data[ievt][im]['HCAL3_x'])>0):\n",
    "                event = np.concatenate([event,np.c_[data[ievt][im]['HCAL3_x'][0],data[ievt][im]['HCAL3_y'][0],data[ievt][im]['HCAL3_E'][0]]])\n",
    "                depths = np.concatenate([depths,np.array([4*np.ones(len(data[ievt][im]['HCAL3_x'][0]))]).flatten()])\n",
    "            \n",
    "            if (ievt == im == 0):\n",
    "                print(\"HCAL X:\", np.shape(data[ievt][im]['HCAL3_x']), \"+ HCAL Y\", np.shape(data[ievt][im]['HCAL3_y']), \n",
    "                      \"+ HCAL E\",np.shape(data[ievt][im]['HCAL3_E']),\"= \", \"-> np.append to ECAL ->\",np.shape(event))\n",
    "            \n",
    "            event = np.insert(event, 3, depths,axis=1)\n",
    "            event = np.insert(event, 4, data[ievt][im]['boundary'][0]*np.ones(len(event)),axis=1)\n",
    "            #FIXME: use num_global_features Number of additional features to be \n",
    "            #concatenated with the latent space observables to form the input to F.\n",
    "            event = np.insert(event, 5, data[ievt][im]['boundary'][1]*np.ones(len(event)),axis=1)\n",
    "            \n",
    "            #X += [event]\n",
    "            X.append(event)\n",
    "            #np.append(X,event)\n",
    "            trueenergy = mc_truth.item().get('true_energy') #TARGET, right?\n",
    "            Y += [trueenergy]\n",
    "\n",
    "            \n",
    "X.end_list()    \n",
    "#X = np.array(X)\n",
    "Y = np.array(Y)\n",
    "print(\"Y shape =\",np.shape(Y),\"[MC Truth Energy]\")"
   ]
  },
  {
   "cell_type": "code",
   "execution_count": 73,
   "id": "7428ae14",
   "metadata": {},
   "outputs": [],
   "source": [
    "ncell_max = 1200 #Root file indicase avg. of ~270 per ECal, per HCal, event. \n",
    "cell_axis = 2\n",
    "fill_val = 0"
   ]
  },
  {
   "cell_type": "code",
   "execution_count": 83,
   "id": "c2bdefd2",
   "metadata": {},
   "outputs": [
    {
     "name": "stdout",
     "output_type": "stream",
     "text": [
      "[[[105, 955, 22, 1, 100, 100], [30, -1.82e+03, ... 0, 0, 0, 0, 0, 0, 0, 0, 0, 0, 0]]\n"
     ]
    },
    {
     "ename": "ValueError",
     "evalue": "cannot convert <UnionArray8_64>\n    <tags><Index8 i=\"[0 0 0 0 0 0 0 0 0 0 ... 1 1 1 1 1 1 1 1 1 1]\" offset=\"0\" length=\"960000\" at=\"0x55d4fcb11fe0\"/></tags>\n    <index><Index64 i=\"[0 1 2 3 4 5 6 7 8 9 ... 0 0 0 0 0 0 0 0 0 0]\" offset=\"0\" length=\"960000\" at=\"0x55d59d42a400\"/></index>\n    <content tag=\"0\">\n        <ListOffsetArray64>\n            <offsets><Index64 i=\"[0 6 12 18 24 30 36 42 48 54 ... 2332746 2332752 2332758 2332764 2332770 2332776 2332782 2332788 2332794 2332800]\" offset=\"0\" length=\"388801\" at=\"0x55d59ff15c30\"/></offsets>\n            <content><NumpyArray format=\"d\" shape=\"2332800\" data=\"105 955 21.9835 1 100 ... -631.319 35.7056 4 480 480\" at=\"0x55d59c25dff0\"/></content>\n        </ListOffsetArray64>\n    </content>\n    <content tag=\"1\">\n        <NumpyArray format=\"l\" shape=\"1\" data=\"0\" at=\"0x55d497c7ad20\"/>\n    </content>\n</UnionArray8_64> into np.ndarray\n\n(https://github.com/scikit-hep/awkward-1.0/blob/1.7.0/src/awkward/operations/convert.py#L276)",
     "output_type": "error",
     "traceback": [
      "\u001b[0;31m---------------------------------------------------------------------------\u001b[0m",
      "\u001b[0;31mValueError\u001b[0m                                Traceback (most recent call last)",
      "File \u001b[0;32m~/anaconda3/envs/tin/lib/python3.9/site-packages/awkward/operations/convert.py:272\u001b[0m, in \u001b[0;36mto_numpy\u001b[0;34m(array, allow_missing)\u001b[0m\n\u001b[1;32m    271\u001b[0m \u001b[38;5;28;01mtry\u001b[39;00m:\n\u001b[0;32m--> 272\u001b[0m     out \u001b[38;5;241m=\u001b[39m \u001b[43mnumpy\u001b[49m\u001b[38;5;241;43m.\u001b[39;49m\u001b[43mconcatenate\u001b[49m\u001b[43m(\u001b[49m\u001b[43mcontents\u001b[49m\u001b[43m)\u001b[49m\n\u001b[1;32m    273\u001b[0m \u001b[38;5;28;01mexcept\u001b[39;00m \u001b[38;5;167;01mException\u001b[39;00m:\n",
      "File \u001b[0;32m~/anaconda3/envs/tin/lib/python3.9/site-packages/awkward/nplike.py:252\u001b[0m, in \u001b[0;36mNumpyLike.concatenate\u001b[0;34m(self, *args, **kwargs)\u001b[0m\n\u001b[1;32m    250\u001b[0m \u001b[38;5;28;01mdef\u001b[39;00m \u001b[38;5;21mconcatenate\u001b[39m(\u001b[38;5;28mself\u001b[39m, \u001b[38;5;241m*\u001b[39margs, \u001b[38;5;241m*\u001b[39m\u001b[38;5;241m*\u001b[39mkwargs):\n\u001b[1;32m    251\u001b[0m     \u001b[38;5;66;03m# arrays\u001b[39;00m\n\u001b[0;32m--> 252\u001b[0m     \u001b[38;5;28;01mreturn\u001b[39;00m \u001b[38;5;28;43mself\u001b[39;49m\u001b[38;5;241;43m.\u001b[39;49m\u001b[43m_module\u001b[49m\u001b[38;5;241;43m.\u001b[39;49m\u001b[43mconcatenate\u001b[49m\u001b[43m(\u001b[49m\u001b[38;5;241;43m*\u001b[39;49m\u001b[43margs\u001b[49m\u001b[43m,\u001b[49m\u001b[43m \u001b[49m\u001b[38;5;241;43m*\u001b[39;49m\u001b[38;5;241;43m*\u001b[39;49m\u001b[43mkwargs\u001b[49m\u001b[43m)\u001b[49m\n",
      "File \u001b[0;32m<__array_function__ internals>:5\u001b[0m, in \u001b[0;36mconcatenate\u001b[0;34m(*args, **kwargs)\u001b[0m\n",
      "\u001b[0;31mValueError\u001b[0m: all the input arrays must have same number of dimensions, but the array at index 0 has 2 dimension(s) and the array at index 1 has 1 dimension(s)",
      "\nDuring handling of the above exception, another exception occurred:\n",
      "\u001b[0;31mValueError\u001b[0m                                Traceback (most recent call last)",
      "Input \u001b[0;32mIn [83]\u001b[0m, in \u001b[0;36m<module>\u001b[0;34m\u001b[0m\n\u001b[1;32m     12\u001b[0m \u001b[38;5;66;03m#X = np.asarray(ak.fill_none(ak.pad_none(ak.ArrayBuilder.snapshot(X), ncell_max, axis=cell_axis, clip=True), fill_val,axis=cell_axis))\u001b[39;00m\n\u001b[1;32m     13\u001b[0m \u001b[38;5;28mprint\u001b[39m(none_to_0[\u001b[38;5;241m0\u001b[39m])\n\u001b[0;32m---> 14\u001b[0m arr \u001b[38;5;241m=\u001b[39m \u001b[43mak\u001b[49m\u001b[38;5;241;43m.\u001b[39;49m\u001b[43mto_numpy\u001b[49m\u001b[43m(\u001b[49m\u001b[43mnone_to_0\u001b[49m\u001b[43m)\u001b[49m\n",
      "File \u001b[0;32m~/anaconda3/envs/tin/lib/python3.9/site-packages/awkward/operations/convert.py:206\u001b[0m, in \u001b[0;36mto_numpy\u001b[0;34m(array, allow_missing)\u001b[0m\n\u001b[1;32m    203\u001b[0m     \u001b[38;5;28;01mreturn\u001b[39;00m array\n\u001b[1;32m    205\u001b[0m \u001b[38;5;28;01melif\u001b[39;00m \u001b[38;5;28misinstance\u001b[39m(array, ak\u001b[38;5;241m.\u001b[39mhighlevel\u001b[38;5;241m.\u001b[39mArray):\n\u001b[0;32m--> 206\u001b[0m     \u001b[38;5;28;01mreturn\u001b[39;00m \u001b[43mto_numpy\u001b[49m\u001b[43m(\u001b[49m\u001b[43marray\u001b[49m\u001b[38;5;241;43m.\u001b[39;49m\u001b[43mlayout\u001b[49m\u001b[43m,\u001b[49m\u001b[43m \u001b[49m\u001b[43mallow_missing\u001b[49m\u001b[38;5;241;43m=\u001b[39;49m\u001b[43mallow_missing\u001b[49m\u001b[43m)\u001b[49m\n\u001b[1;32m    208\u001b[0m \u001b[38;5;28;01melif\u001b[39;00m \u001b[38;5;28misinstance\u001b[39m(array, ak\u001b[38;5;241m.\u001b[39mhighlevel\u001b[38;5;241m.\u001b[39mRecord):\n\u001b[1;32m    209\u001b[0m     out \u001b[38;5;241m=\u001b[39m array\u001b[38;5;241m.\u001b[39mlayout\n",
      "File \u001b[0;32m~/anaconda3/envs/tin/lib/python3.9/site-packages/awkward/operations/convert.py:334\u001b[0m, in \u001b[0;36mto_numpy\u001b[0;34m(array, allow_missing)\u001b[0m\n\u001b[1;32m    331\u001b[0m     \u001b[38;5;28;01mreturn\u001b[39;00m out[: shape[\u001b[38;5;241m0\u001b[39m] \u001b[38;5;241m*\u001b[39m array\u001b[38;5;241m.\u001b[39msize]\u001b[38;5;241m.\u001b[39mreshape(shape)\n\u001b[1;32m    333\u001b[0m \u001b[38;5;28;01melif\u001b[39;00m \u001b[38;5;28misinstance\u001b[39m(array, ak\u001b[38;5;241m.\u001b[39m_util\u001b[38;5;241m.\u001b[39mlisttypes):\n\u001b[0;32m--> 334\u001b[0m     \u001b[38;5;28;01mreturn\u001b[39;00m \u001b[43mto_numpy\u001b[49m\u001b[43m(\u001b[49m\u001b[43marray\u001b[49m\u001b[38;5;241;43m.\u001b[39;49m\u001b[43mtoRegularArray\u001b[49m\u001b[43m(\u001b[49m\u001b[43m)\u001b[49m\u001b[43m,\u001b[49m\u001b[43m \u001b[49m\u001b[43mallow_missing\u001b[49m\u001b[38;5;241;43m=\u001b[39;49m\u001b[43mallow_missing\u001b[49m\u001b[43m)\u001b[49m\n\u001b[1;32m    336\u001b[0m \u001b[38;5;28;01melif\u001b[39;00m \u001b[38;5;28misinstance\u001b[39m(array, ak\u001b[38;5;241m.\u001b[39m_util\u001b[38;5;241m.\u001b[39mrecordtypes):\n\u001b[1;32m    337\u001b[0m     \u001b[38;5;28;01mif\u001b[39;00m array\u001b[38;5;241m.\u001b[39mnumfields \u001b[38;5;241m==\u001b[39m \u001b[38;5;241m0\u001b[39m:\n",
      "File \u001b[0;32m~/anaconda3/envs/tin/lib/python3.9/site-packages/awkward/operations/convert.py:325\u001b[0m, in \u001b[0;36mto_numpy\u001b[0;34m(array, allow_missing)\u001b[0m\n\u001b[1;32m    322\u001b[0m             \u001b[38;5;28;01mreturn\u001b[39;00m content\n\u001b[1;32m    324\u001b[0m \u001b[38;5;28;01melif\u001b[39;00m \u001b[38;5;28misinstance\u001b[39m(array, ak\u001b[38;5;241m.\u001b[39mlayout\u001b[38;5;241m.\u001b[39mRegularArray):\n\u001b[0;32m--> 325\u001b[0m     out \u001b[38;5;241m=\u001b[39m \u001b[43mto_numpy\u001b[49m\u001b[43m(\u001b[49m\u001b[43marray\u001b[49m\u001b[38;5;241;43m.\u001b[39;49m\u001b[43mcontent\u001b[49m\u001b[43m,\u001b[49m\u001b[43m \u001b[49m\u001b[43mallow_missing\u001b[49m\u001b[38;5;241;43m=\u001b[39;49m\u001b[43mallow_missing\u001b[49m\u001b[43m)\u001b[49m\n\u001b[1;32m    326\u001b[0m     head, tail \u001b[38;5;241m=\u001b[39m out\u001b[38;5;241m.\u001b[39mshape[\u001b[38;5;241m0\u001b[39m], out\u001b[38;5;241m.\u001b[39mshape[\u001b[38;5;241m1\u001b[39m:]\n\u001b[1;32m    327\u001b[0m     \u001b[38;5;28;01mif\u001b[39;00m array\u001b[38;5;241m.\u001b[39msize \u001b[38;5;241m==\u001b[39m \u001b[38;5;241m0\u001b[39m:\n",
      "File \u001b[0;32m~/anaconda3/envs/tin/lib/python3.9/site-packages/awkward/operations/convert.py:325\u001b[0m, in \u001b[0;36mto_numpy\u001b[0;34m(array, allow_missing)\u001b[0m\n\u001b[1;32m    322\u001b[0m             \u001b[38;5;28;01mreturn\u001b[39;00m content\n\u001b[1;32m    324\u001b[0m \u001b[38;5;28;01melif\u001b[39;00m \u001b[38;5;28misinstance\u001b[39m(array, ak\u001b[38;5;241m.\u001b[39mlayout\u001b[38;5;241m.\u001b[39mRegularArray):\n\u001b[0;32m--> 325\u001b[0m     out \u001b[38;5;241m=\u001b[39m \u001b[43mto_numpy\u001b[49m\u001b[43m(\u001b[49m\u001b[43marray\u001b[49m\u001b[38;5;241;43m.\u001b[39;49m\u001b[43mcontent\u001b[49m\u001b[43m,\u001b[49m\u001b[43m \u001b[49m\u001b[43mallow_missing\u001b[49m\u001b[38;5;241;43m=\u001b[39;49m\u001b[43mallow_missing\u001b[49m\u001b[43m)\u001b[49m\n\u001b[1;32m    326\u001b[0m     head, tail \u001b[38;5;241m=\u001b[39m out\u001b[38;5;241m.\u001b[39mshape[\u001b[38;5;241m0\u001b[39m], out\u001b[38;5;241m.\u001b[39mshape[\u001b[38;5;241m1\u001b[39m:]\n\u001b[1;32m    327\u001b[0m     \u001b[38;5;28;01mif\u001b[39;00m array\u001b[38;5;241m.\u001b[39msize \u001b[38;5;241m==\u001b[39m \u001b[38;5;241m0\u001b[39m:\n",
      "File \u001b[0;32m~/anaconda3/envs/tin/lib/python3.9/site-packages/awkward/operations/convert.py:274\u001b[0m, in \u001b[0;36mto_numpy\u001b[0;34m(array, allow_missing)\u001b[0m\n\u001b[1;32m    272\u001b[0m         out \u001b[38;5;241m=\u001b[39m numpy\u001b[38;5;241m.\u001b[39mconcatenate(contents)\n\u001b[1;32m    273\u001b[0m     \u001b[38;5;28;01mexcept\u001b[39;00m \u001b[38;5;167;01mException\u001b[39;00m:\n\u001b[0;32m--> 274\u001b[0m         \u001b[38;5;28;01mraise\u001b[39;00m \u001b[38;5;167;01mValueError\u001b[39;00m(\n\u001b[1;32m    275\u001b[0m             \u001b[38;5;124m\"\u001b[39m\u001b[38;5;124mcannot convert \u001b[39m\u001b[38;5;132;01m{0}\u001b[39;00m\u001b[38;5;124m into np.ndarray\u001b[39m\u001b[38;5;124m\"\u001b[39m\u001b[38;5;241m.\u001b[39mformat(array)\n\u001b[1;32m    276\u001b[0m             \u001b[38;5;241m+\u001b[39m ak\u001b[38;5;241m.\u001b[39m_util\u001b[38;5;241m.\u001b[39mexception_suffix(\u001b[38;5;18m__file__\u001b[39m)\n\u001b[1;32m    277\u001b[0m         )\n\u001b[1;32m    279\u001b[0m tags \u001b[38;5;241m=\u001b[39m numpy\u001b[38;5;241m.\u001b[39masarray(array\u001b[38;5;241m.\u001b[39mtags)\n\u001b[1;32m    280\u001b[0m \u001b[38;5;28;01mfor\u001b[39;00m tag, content \u001b[38;5;129;01min\u001b[39;00m \u001b[38;5;28menumerate\u001b[39m(contents):\n",
      "\u001b[0;31mValueError\u001b[0m: cannot convert <UnionArray8_64>\n    <tags><Index8 i=\"[0 0 0 0 0 0 0 0 0 0 ... 1 1 1 1 1 1 1 1 1 1]\" offset=\"0\" length=\"960000\" at=\"0x55d4fcb11fe0\"/></tags>\n    <index><Index64 i=\"[0 1 2 3 4 5 6 7 8 9 ... 0 0 0 0 0 0 0 0 0 0]\" offset=\"0\" length=\"960000\" at=\"0x55d59d42a400\"/></index>\n    <content tag=\"0\">\n        <ListOffsetArray64>\n            <offsets><Index64 i=\"[0 6 12 18 24 30 36 42 48 54 ... 2332746 2332752 2332758 2332764 2332770 2332776 2332782 2332788 2332794 2332800]\" offset=\"0\" length=\"388801\" at=\"0x55d59ff15c30\"/></offsets>\n            <content><NumpyArray format=\"d\" shape=\"2332800\" data=\"105 955 21.9835 1 100 ... -631.319 35.7056 4 480 480\" at=\"0x55d59c25dff0\"/></content>\n        </ListOffsetArray64>\n    </content>\n    <content tag=\"1\">\n        <NumpyArray format=\"l\" shape=\"1\" data=\"0\" at=\"0x55d497c7ad20\"/>\n    </content>\n</UnionArray8_64> into np.ndarray\n\n(https://github.com/scikit-hep/awkward-1.0/blob/1.7.0/src/awkward/operations/convert.py#L276)"
     ]
    }
   ],
   "source": [
    "#print(ak.to_list(X.snapshot()))\n",
    "#print(ak.max(X))\n",
    "#ak.count(X)\n",
    "\n",
    "#ak.to_numpy(ak.pad_none(X, ncell_max, axis=cell_axis,clip=True)) #padding awkward array\n",
    "#ak.fill_none(ak.pad_none(X, ncell_max, axis=cell_axis, clip=True), fill_val)\n",
    "#testX = ak.fill_none(ak.pad_none(X, ncell_max, axis=cell_axis, clip=True), 999)\n",
    "#Stack: np.asarray(ak.fill_none(ak.pad_none(X, 2, clip=True), 999))\n",
    "\n",
    "padded = ak.pad_none(ak.ArrayBuilder.snapshot(X), ncell_max, axis=cell_axis, clip=True)\n",
    "none_to_0 = ak.fill_none(padded,fill_val,axis=cell_axis)\n",
    "#X = np.asarray(ak.fill_none(ak.pad_none(ak.ArrayBuilder.snapshot(X), ncell_max, axis=cell_axis, clip=True), fill_val,axis=cell_axis))\n",
    "print(none_to_0[0])\n",
    "arr = ak.to_numpy(none_to_0)\n",
    "#X = np.squeeze(X)\n",
    "#print(\"X shape =\",np.shape(X),\"([Images X Events][Cells][XYEDBB])\") #X,Y,Energy,Depth,Boundary,Boundary"
   ]
  },
  {
   "cell_type": "code",
   "execution_count": 79,
   "id": "0b10e346",
   "metadata": {
    "scrolled": true
   },
   "outputs": [
    {
     "name": "stdout",
     "output_type": "stream",
     "text": [
      "1.125899906842624e+18\n",
      "1.125899906842624e+18\n"
     ]
    },
    {
     "data": {
      "text/plain": [
       "<Array [... None, None, None, None, None]]] type='1 * var * 1200 * option[var * ...'>"
      ]
     },
     "execution_count": 79,
     "metadata": {},
     "output_type": "execute_result"
    }
   ],
   "source": [
    "print(X[0][0][590][2]) #take a look at padding...\n",
    "print(none_to_0[0][3][590][2])\n",
    "none_to_0\n",
    "padded_none\n",
    "#ak.to_list(X.snapshot())\n",
    "#X\n",
    "#ak.ArrayBuilder.snapshot(X)"
   ]
  },
  {
   "cell_type": "code",
   "execution_count": 62,
   "id": "cc569d59",
   "metadata": {
    "scrolled": true
   },
   "outputs": [
    {
     "ename": "ValueError",
     "evalue": "cannot convert <UnionArray8_64>\n    <tags><Index8 i=\"[0 0 0 0 0 0 0 0 0 0 ... 1 1 1 1 1 1 1 1 1 1]\" offset=\"0\" length=\"960000\" at=\"0x55d4f5e83080\"/></tags>\n    <index><Index64 i=\"[0 1 2 3 4 5 6 7 8 9 ... 0 0 0 0 0 0 0 0 0 0]\" offset=\"0\" length=\"960000\" at=\"0x55d4f5f6d690\"/></index>\n    <content tag=\"0\">\n        <ListOffsetArray64>\n            <offsets><Index64 i=\"[0 6 12 18 24 30 36 42 48 54 ... 2332746 2332752 2332758 2332764 2332770 2332776 2332782 2332788 2332794 2332800]\" offset=\"0\" length=\"388801\" at=\"0x55d5843d60c0\"/></offsets>\n            <content><NumpyArray format=\"d\" shape=\"2332800\" data=\"105 955 21.9835 1 100 ... -631.319 35.7056 4 480 480\" at=\"0x55d4f6fdb160\"/></content>\n        </ListOffsetArray64>\n    </content>\n    <content tag=\"1\">\n        <NumpyArray format=\"l\" shape=\"1\" data=\"0\" at=\"0x55d4c43e2e20\"/>\n    </content>\n</UnionArray8_64> into np.ndarray\n\n(https://github.com/scikit-hep/awkward-1.0/blob/1.7.0/src/awkward/operations/convert.py#L276)",
     "output_type": "error",
     "traceback": [
      "\u001b[0;31m---------------------------------------------------------------------------\u001b[0m",
      "\u001b[0;31mValueError\u001b[0m                                Traceback (most recent call last)",
      "File \u001b[0;32m~/anaconda3/envs/tin/lib/python3.9/site-packages/awkward/operations/convert.py:272\u001b[0m, in \u001b[0;36mto_numpy\u001b[0;34m(array, allow_missing)\u001b[0m\n\u001b[1;32m    271\u001b[0m \u001b[38;5;28;01mtry\u001b[39;00m:\n\u001b[0;32m--> 272\u001b[0m     out \u001b[38;5;241m=\u001b[39m \u001b[43mnumpy\u001b[49m\u001b[38;5;241;43m.\u001b[39;49m\u001b[43mconcatenate\u001b[49m\u001b[43m(\u001b[49m\u001b[43mcontents\u001b[49m\u001b[43m)\u001b[49m\n\u001b[1;32m    273\u001b[0m \u001b[38;5;28;01mexcept\u001b[39;00m \u001b[38;5;167;01mException\u001b[39;00m:\n",
      "File \u001b[0;32m~/anaconda3/envs/tin/lib/python3.9/site-packages/awkward/nplike.py:252\u001b[0m, in \u001b[0;36mNumpyLike.concatenate\u001b[0;34m(self, *args, **kwargs)\u001b[0m\n\u001b[1;32m    250\u001b[0m \u001b[38;5;28;01mdef\u001b[39;00m \u001b[38;5;21mconcatenate\u001b[39m(\u001b[38;5;28mself\u001b[39m, \u001b[38;5;241m*\u001b[39margs, \u001b[38;5;241m*\u001b[39m\u001b[38;5;241m*\u001b[39mkwargs):\n\u001b[1;32m    251\u001b[0m     \u001b[38;5;66;03m# arrays\u001b[39;00m\n\u001b[0;32m--> 252\u001b[0m     \u001b[38;5;28;01mreturn\u001b[39;00m \u001b[38;5;28;43mself\u001b[39;49m\u001b[38;5;241;43m.\u001b[39;49m\u001b[43m_module\u001b[49m\u001b[38;5;241;43m.\u001b[39;49m\u001b[43mconcatenate\u001b[49m\u001b[43m(\u001b[49m\u001b[38;5;241;43m*\u001b[39;49m\u001b[43margs\u001b[49m\u001b[43m,\u001b[49m\u001b[43m \u001b[49m\u001b[38;5;241;43m*\u001b[39;49m\u001b[38;5;241;43m*\u001b[39;49m\u001b[43mkwargs\u001b[49m\u001b[43m)\u001b[49m\n",
      "File \u001b[0;32m<__array_function__ internals>:5\u001b[0m, in \u001b[0;36mconcatenate\u001b[0;34m(*args, **kwargs)\u001b[0m\n",
      "\u001b[0;31mValueError\u001b[0m: all the input arrays must have same number of dimensions, but the array at index 0 has 2 dimension(s) and the array at index 1 has 1 dimension(s)",
      "\nDuring handling of the above exception, another exception occurred:\n",
      "\u001b[0;31mValueError\u001b[0m                                Traceback (most recent call last)",
      "Input \u001b[0;32mIn [62]\u001b[0m, in \u001b[0;36m<module>\u001b[0;34m\u001b[0m\n\u001b[0;32m----> 1\u001b[0m new \u001b[38;5;241m=\u001b[39m \u001b[43mak\u001b[49m\u001b[38;5;241;43m.\u001b[39;49m\u001b[43mto_numpy\u001b[49m\u001b[43m(\u001b[49m\u001b[43mnone_to_0\u001b[49m\u001b[43m,\u001b[49m\u001b[43mallow_missing\u001b[49m\u001b[38;5;241;43m=\u001b[39;49m\u001b[38;5;28;43;01mTrue\u001b[39;49;00m\u001b[43m)\u001b[49m\n",
      "File \u001b[0;32m~/anaconda3/envs/tin/lib/python3.9/site-packages/awkward/operations/convert.py:206\u001b[0m, in \u001b[0;36mto_numpy\u001b[0;34m(array, allow_missing)\u001b[0m\n\u001b[1;32m    203\u001b[0m     \u001b[38;5;28;01mreturn\u001b[39;00m array\n\u001b[1;32m    205\u001b[0m \u001b[38;5;28;01melif\u001b[39;00m \u001b[38;5;28misinstance\u001b[39m(array, ak\u001b[38;5;241m.\u001b[39mhighlevel\u001b[38;5;241m.\u001b[39mArray):\n\u001b[0;32m--> 206\u001b[0m     \u001b[38;5;28;01mreturn\u001b[39;00m \u001b[43mto_numpy\u001b[49m\u001b[43m(\u001b[49m\u001b[43marray\u001b[49m\u001b[38;5;241;43m.\u001b[39;49m\u001b[43mlayout\u001b[49m\u001b[43m,\u001b[49m\u001b[43m \u001b[49m\u001b[43mallow_missing\u001b[49m\u001b[38;5;241;43m=\u001b[39;49m\u001b[43mallow_missing\u001b[49m\u001b[43m)\u001b[49m\n\u001b[1;32m    208\u001b[0m \u001b[38;5;28;01melif\u001b[39;00m \u001b[38;5;28misinstance\u001b[39m(array, ak\u001b[38;5;241m.\u001b[39mhighlevel\u001b[38;5;241m.\u001b[39mRecord):\n\u001b[1;32m    209\u001b[0m     out \u001b[38;5;241m=\u001b[39m array\u001b[38;5;241m.\u001b[39mlayout\n",
      "File \u001b[0;32m~/anaconda3/envs/tin/lib/python3.9/site-packages/awkward/operations/convert.py:334\u001b[0m, in \u001b[0;36mto_numpy\u001b[0;34m(array, allow_missing)\u001b[0m\n\u001b[1;32m    331\u001b[0m     \u001b[38;5;28;01mreturn\u001b[39;00m out[: shape[\u001b[38;5;241m0\u001b[39m] \u001b[38;5;241m*\u001b[39m array\u001b[38;5;241m.\u001b[39msize]\u001b[38;5;241m.\u001b[39mreshape(shape)\n\u001b[1;32m    333\u001b[0m \u001b[38;5;28;01melif\u001b[39;00m \u001b[38;5;28misinstance\u001b[39m(array, ak\u001b[38;5;241m.\u001b[39m_util\u001b[38;5;241m.\u001b[39mlisttypes):\n\u001b[0;32m--> 334\u001b[0m     \u001b[38;5;28;01mreturn\u001b[39;00m \u001b[43mto_numpy\u001b[49m\u001b[43m(\u001b[49m\u001b[43marray\u001b[49m\u001b[38;5;241;43m.\u001b[39;49m\u001b[43mtoRegularArray\u001b[49m\u001b[43m(\u001b[49m\u001b[43m)\u001b[49m\u001b[43m,\u001b[49m\u001b[43m \u001b[49m\u001b[43mallow_missing\u001b[49m\u001b[38;5;241;43m=\u001b[39;49m\u001b[43mallow_missing\u001b[49m\u001b[43m)\u001b[49m\n\u001b[1;32m    336\u001b[0m \u001b[38;5;28;01melif\u001b[39;00m \u001b[38;5;28misinstance\u001b[39m(array, ak\u001b[38;5;241m.\u001b[39m_util\u001b[38;5;241m.\u001b[39mrecordtypes):\n\u001b[1;32m    337\u001b[0m     \u001b[38;5;28;01mif\u001b[39;00m array\u001b[38;5;241m.\u001b[39mnumfields \u001b[38;5;241m==\u001b[39m \u001b[38;5;241m0\u001b[39m:\n",
      "File \u001b[0;32m~/anaconda3/envs/tin/lib/python3.9/site-packages/awkward/operations/convert.py:325\u001b[0m, in \u001b[0;36mto_numpy\u001b[0;34m(array, allow_missing)\u001b[0m\n\u001b[1;32m    322\u001b[0m             \u001b[38;5;28;01mreturn\u001b[39;00m content\n\u001b[1;32m    324\u001b[0m \u001b[38;5;28;01melif\u001b[39;00m \u001b[38;5;28misinstance\u001b[39m(array, ak\u001b[38;5;241m.\u001b[39mlayout\u001b[38;5;241m.\u001b[39mRegularArray):\n\u001b[0;32m--> 325\u001b[0m     out \u001b[38;5;241m=\u001b[39m \u001b[43mto_numpy\u001b[49m\u001b[43m(\u001b[49m\u001b[43marray\u001b[49m\u001b[38;5;241;43m.\u001b[39;49m\u001b[43mcontent\u001b[49m\u001b[43m,\u001b[49m\u001b[43m \u001b[49m\u001b[43mallow_missing\u001b[49m\u001b[38;5;241;43m=\u001b[39;49m\u001b[43mallow_missing\u001b[49m\u001b[43m)\u001b[49m\n\u001b[1;32m    326\u001b[0m     head, tail \u001b[38;5;241m=\u001b[39m out\u001b[38;5;241m.\u001b[39mshape[\u001b[38;5;241m0\u001b[39m], out\u001b[38;5;241m.\u001b[39mshape[\u001b[38;5;241m1\u001b[39m:]\n\u001b[1;32m    327\u001b[0m     \u001b[38;5;28;01mif\u001b[39;00m array\u001b[38;5;241m.\u001b[39msize \u001b[38;5;241m==\u001b[39m \u001b[38;5;241m0\u001b[39m:\n",
      "File \u001b[0;32m~/anaconda3/envs/tin/lib/python3.9/site-packages/awkward/operations/convert.py:325\u001b[0m, in \u001b[0;36mto_numpy\u001b[0;34m(array, allow_missing)\u001b[0m\n\u001b[1;32m    322\u001b[0m             \u001b[38;5;28;01mreturn\u001b[39;00m content\n\u001b[1;32m    324\u001b[0m \u001b[38;5;28;01melif\u001b[39;00m \u001b[38;5;28misinstance\u001b[39m(array, ak\u001b[38;5;241m.\u001b[39mlayout\u001b[38;5;241m.\u001b[39mRegularArray):\n\u001b[0;32m--> 325\u001b[0m     out \u001b[38;5;241m=\u001b[39m \u001b[43mto_numpy\u001b[49m\u001b[43m(\u001b[49m\u001b[43marray\u001b[49m\u001b[38;5;241;43m.\u001b[39;49m\u001b[43mcontent\u001b[49m\u001b[43m,\u001b[49m\u001b[43m \u001b[49m\u001b[43mallow_missing\u001b[49m\u001b[38;5;241;43m=\u001b[39;49m\u001b[43mallow_missing\u001b[49m\u001b[43m)\u001b[49m\n\u001b[1;32m    326\u001b[0m     head, tail \u001b[38;5;241m=\u001b[39m out\u001b[38;5;241m.\u001b[39mshape[\u001b[38;5;241m0\u001b[39m], out\u001b[38;5;241m.\u001b[39mshape[\u001b[38;5;241m1\u001b[39m:]\n\u001b[1;32m    327\u001b[0m     \u001b[38;5;28;01mif\u001b[39;00m array\u001b[38;5;241m.\u001b[39msize \u001b[38;5;241m==\u001b[39m \u001b[38;5;241m0\u001b[39m:\n",
      "File \u001b[0;32m~/anaconda3/envs/tin/lib/python3.9/site-packages/awkward/operations/convert.py:274\u001b[0m, in \u001b[0;36mto_numpy\u001b[0;34m(array, allow_missing)\u001b[0m\n\u001b[1;32m    272\u001b[0m         out \u001b[38;5;241m=\u001b[39m numpy\u001b[38;5;241m.\u001b[39mconcatenate(contents)\n\u001b[1;32m    273\u001b[0m     \u001b[38;5;28;01mexcept\u001b[39;00m \u001b[38;5;167;01mException\u001b[39;00m:\n\u001b[0;32m--> 274\u001b[0m         \u001b[38;5;28;01mraise\u001b[39;00m \u001b[38;5;167;01mValueError\u001b[39;00m(\n\u001b[1;32m    275\u001b[0m             \u001b[38;5;124m\"\u001b[39m\u001b[38;5;124mcannot convert \u001b[39m\u001b[38;5;132;01m{0}\u001b[39;00m\u001b[38;5;124m into np.ndarray\u001b[39m\u001b[38;5;124m\"\u001b[39m\u001b[38;5;241m.\u001b[39mformat(array)\n\u001b[1;32m    276\u001b[0m             \u001b[38;5;241m+\u001b[39m ak\u001b[38;5;241m.\u001b[39m_util\u001b[38;5;241m.\u001b[39mexception_suffix(\u001b[38;5;18m__file__\u001b[39m)\n\u001b[1;32m    277\u001b[0m         )\n\u001b[1;32m    279\u001b[0m tags \u001b[38;5;241m=\u001b[39m numpy\u001b[38;5;241m.\u001b[39masarray(array\u001b[38;5;241m.\u001b[39mtags)\n\u001b[1;32m    280\u001b[0m \u001b[38;5;28;01mfor\u001b[39;00m tag, content \u001b[38;5;129;01min\u001b[39;00m \u001b[38;5;28menumerate\u001b[39m(contents):\n",
      "\u001b[0;31mValueError\u001b[0m: cannot convert <UnionArray8_64>\n    <tags><Index8 i=\"[0 0 0 0 0 0 0 0 0 0 ... 1 1 1 1 1 1 1 1 1 1]\" offset=\"0\" length=\"960000\" at=\"0x55d4f5e83080\"/></tags>\n    <index><Index64 i=\"[0 1 2 3 4 5 6 7 8 9 ... 0 0 0 0 0 0 0 0 0 0]\" offset=\"0\" length=\"960000\" at=\"0x55d4f5f6d690\"/></index>\n    <content tag=\"0\">\n        <ListOffsetArray64>\n            <offsets><Index64 i=\"[0 6 12 18 24 30 36 42 48 54 ... 2332746 2332752 2332758 2332764 2332770 2332776 2332782 2332788 2332794 2332800]\" offset=\"0\" length=\"388801\" at=\"0x55d5843d60c0\"/></offsets>\n            <content><NumpyArray format=\"d\" shape=\"2332800\" data=\"105 955 21.9835 1 100 ... -631.319 35.7056 4 480 480\" at=\"0x55d4f6fdb160\"/></content>\n        </ListOffsetArray64>\n    </content>\n    <content tag=\"1\">\n        <NumpyArray format=\"l\" shape=\"1\" data=\"0\" at=\"0x55d4c43e2e20\"/>\n    </content>\n</UnionArray8_64> into np.ndarray\n\n(https://github.com/scikit-hep/awkward-1.0/blob/1.7.0/src/awkward/operations/convert.py#L276)"
     ]
    }
   ],
   "source": [
    "<Array [... -631, 35.7, 4, 480, 480]]]] type='1 * var * var * var * float64'>\n",
    "<ArrayBuilder [... -631, 35.7, 4, 480, 480]]]] type='1 * var * var * var * float64'>"
   ]
  },
  {
   "cell_type": "code",
   "execution_count": null,
   "id": "9e5d2637",
   "metadata": {},
   "outputs": [],
   "source": [
    "import energyflow as ef\n",
    "from energyflow.archs import PFN\n",
    "from energyflow.utils import data_split\n",
    "#see https://energyflow.network/examples/"
   ]
  },
  {
   "cell_type": "code",
   "execution_count": null,
   "id": "8f42f525",
   "metadata": {},
   "outputs": [],
   "source": [
    "import tensorflow as tf\n",
    "tf.keras.utils.normalize(X, axis=-1, order=1)"
   ]
  },
  {
   "cell_type": "code",
   "execution_count": null,
   "id": "f1e79e0a",
   "metadata": {},
   "outputs": [],
   "source": [
    "X =  np.copy(X) # workaround: output array is read-only\n",
    "for x in X:\n",
    "    xy_avg = np.average(x[:,0:2], axis=0)\n",
    "    x[:,0:2] -= xy_avg\n",
    "    x[:,2] /= 100. #could make this smarter\n",
    "    x[:,4:6] /= 100.\n",
    "    \n",
    "#QUESTION: What's the ultimate goal of this normalization? Can we use tensorflow built in normalization tools?\n"
   ]
  },
  {
   "cell_type": "code",
   "execution_count": null,
   "id": "4cfb8daa",
   "metadata": {},
   "outputs": [],
   "source": [
    "print(X[3000][1000][2])"
   ]
  },
  {
   "cell_type": "code",
   "execution_count": null,
   "id": "799d9e1a",
   "metadata": {},
   "outputs": [],
   "source": [
    "(X_train, X_val, X_test,\n",
    " Y_train, Y_val, Y_test) = data_split(X, Y, val=0.2, test=0.3)"
   ]
  },
  {
   "cell_type": "code",
   "execution_count": null,
   "id": "0ed65355",
   "metadata": {},
   "outputs": [],
   "source": [
    "# Probably want to standardize the input and output energies, or at least put them in units where the mean is O(1)"
   ]
  },
  {
   "cell_type": "code",
   "execution_count": null,
   "id": "9f0e3ba3",
   "metadata": {
    "scrolled": true
   },
   "outputs": [],
   "source": [
    "Phi_sizes, F_sizes = (100, 100, 128), (100, 100, 100)\n",
    "output_act, output_dim = 'linear', 1\n",
    "loss = 'mse' #mean-squared error\n",
    "pfn = PFN(input_dim=X.shape[-1], Phi_sizes=Phi_sizes, F_sizes=F_sizes, \n",
    "          output_act=output_act, output_dim=output_dim, loss=loss)"
   ]
  },
  {
   "cell_type": "code",
   "execution_count": null,
   "id": "fbfe386b",
   "metadata": {},
   "outputs": [],
   "source": [
    "pfn.fit(X_train, Y_train,\n",
    "        epochs=100,\n",
    "        batch_size=100,\n",
    "        validation_data=(X_val, Y_val),\n",
    "        verbose=1)"
   ]
  },
  {
   "cell_type": "code",
   "execution_count": null,
   "id": "b1b0b769",
   "metadata": {},
   "outputs": [],
   "source": [
    "pfn.layers\n",
    "mypreds = pfn.predict(X_test,batch_size=100)\n",
    "print(np.shape(mypreds))"
   ]
  },
  {
   "cell_type": "code",
   "execution_count": null,
   "id": "99f69ab7",
   "metadata": {},
   "outputs": [],
   "source": [
    "plt.scatter(Y_test,mypreds)"
   ]
  },
  {
   "cell_type": "code",
   "execution_count": null,
   "id": "f1c86246",
   "metadata": {},
   "outputs": [],
   "source": [
    "#????????!"
   ]
  },
  {
   "cell_type": "code",
   "execution_count": null,
   "id": "a0a30507",
   "metadata": {},
   "outputs": [],
   "source": [
    "print(Y_test)\n",
    "print(mypreds[:,0])"
   ]
  },
  {
   "cell_type": "code",
   "execution_count": null,
   "id": "2f2551c0",
   "metadata": {},
   "outputs": [],
   "source": []
  }
 ],
 "metadata": {
  "kernelspec": {
   "display_name": "Python 3 (ipykernel)",
   "language": "python",
   "name": "python3"
  },
  "language_info": {
   "codemirror_mode": {
    "name": "ipython",
    "version": 3
   },
   "file_extension": ".py",
   "mimetype": "text/x-python",
   "name": "python",
   "nbconvert_exporter": "python",
   "pygments_lexer": "ipython3",
   "version": "3.9.7"
  }
 },
 "nbformat": 4,
 "nbformat_minor": 5
}
