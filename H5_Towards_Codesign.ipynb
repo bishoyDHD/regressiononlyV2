{
 "cells": [
  {
   "cell_type": "code",
   "execution_count": 1,
   "id": "10683b42",
   "metadata": {},
   "outputs": [],
   "source": [
    "#Python/Data\n",
    "import matplotlib.pyplot as plt\n",
    "from matplotlib import gridspec\n",
    "import matplotlib.colors as mcolors\n",
    "import numpy as np\n",
    "import h5py as h5\n",
    "\n",
    "import os\n",
    "import shutil\n",
    "\n",
    "#ML\n",
    "import energyflow as ef\n",
    "from energyflow.archs import PFN\n",
    "from energyflow.utils import data_split\n",
    "import tensorflow as tf"
   ]
  },
  {
   "cell_type": "markdown",
   "id": "e74d79ab-fbd5-4b25-88fc-fe66cb7452bf",
   "metadata": {},
   "source": [
    "|        |        |        |  Calo Image  |           |           |\n",
    "|:------:|:------:|:------:|:------------:|:---------:|:---------:|\n",
    "| Cell E | Cell X | Cell Y | Cell 'Depth' | Layer 1 Z | Layer 2 Z |\n",
    "|    0   |    1   |    2   |       3      |     4     |     5     |"
   ]
  },
  {
   "cell_type": "markdown",
   "id": "f763ade8-fc78-460b-8b6c-ecf3eda80216",
   "metadata": {},
   "source": [
    "| Truth   |        |\n",
    "|:-------:|:------:|\n",
    "|Truth $E$|$\\theta$|"
   ]
  },
  {
   "cell_type": "markdown",
   "id": "5073101c",
   "metadata": {},
   "source": [
    "### Load the Data"
   ]
  },
  {
   "cell_type": "code",
   "execution_count": 2,
   "id": "79a6e836-756c-4193-978e-c38d210649a9",
   "metadata": {},
   "outputs": [
    {
     "name": "stdout",
     "output_type": "stream",
     "text": [
      "['calo_images', 'truth']\n",
      "(3600000, 6, 3166)\n",
      "(3600000, 2, 22)\n",
      "100\n",
      "100\n"
     ]
    }
   ],
   "source": [
    "filename = 'vartheta_layered.hdf5'\n",
    "\n",
    "label = \"train_test_shuffle_True\"  #Replace with your own variation!                                                                                                               \n",
    "path = \"./\"+label\n",
    "\n",
    "if not os.path.exists(path):                                                                                                            \n",
    "    os.makedirs(path)                                                                                                                   \n",
    "else:                                                                                                                                   \n",
    "    shutil.rmtree(path)                                                                                                                 \n",
    "    os.makedirs(path)   \n",
    "\n",
    "h5_file = h5.File(filename,'r')\n",
    "print(list(h5_file.keys()))\n",
    "images = h5_file['calo_images']\n",
    "truth = h5_file['truth']\n",
    "\n",
    "print(images.shape)\n",
    "print(truth.shape)\n",
    "print(images.chunks[0]) #should be = batch_size\n",
    "print(truth.chunks[0])"
   ]
  },
  {
   "cell_type": "code",
   "execution_count": null,
   "id": "dff42331",
   "metadata": {},
   "outputs": [],
   "source": [
    "N_Events = 1_000_000\n",
    "#N_Events = 10_000\n",
    "X = images[0:N_Events]\n",
    "Y = truth[0:N_Events,0,0]\n",
    "#Y_Mean = np.nanmean(Y)\n",
    "#Y_StDev = np.nanstd(Y)\n",
    "#Y = (Y - Y_Mean)/Y_StDev"
   ]
  },
  {
   "cell_type": "code",
   "execution_count": null,
   "id": "799d9e1a",
   "metadata": {},
   "outputs": [],
   "source": [
    "(X_train, X_val, X_test,\n",
    "Y_train, Y_val, Y_test) = data_split(X, Y, val=0.2, test=0.3,shuffle=True)"
   ]
  },
  {
   "cell_type": "code",
   "execution_count": null,
   "id": "0370204e",
   "metadata": {},
   "outputs": [],
   "source": [
    "fig = plt.figure(figsize=(16,9))\n",
    "\n",
    "#axsLeft = subfigs[0].subplots(2, 3, sharey=False)\n",
    "#subfigs[0].set_facecolor('0.75')\n",
    "\n",
    "cm = plt.cm.get_cmap('plasma')\n",
    "cell_vars = [\"Energy\",\"Cell X\",\"Cell Y\",\"Cell Depth\",\"Layer 1 Position\", \"Layer 2 Position\"]\n",
    "bins = [np.linspace(-50,200,101),np.linspace(-500,751,100),\n",
    "        np.linspace(-500,751,100),np.linspace(-1.5,2.5,100), #,np.linspace(-25,25,100),\n",
    "        np.linspace(-275,350,100),np.linspace(-275,350,100)]\n",
    "data=[]\n",
    "\n",
    "#plt.subplots_adjust(left=None, bottom=1, right=None, top=1.5, wspace=None, hspace=None)\n",
    "for i in range(images.shape[1]):\n",
    "    ax = plt.subplot(2, 3, i+1)\n",
    "    #ax = axsLeft[int(i/3)][int(i/2)]\n",
    "    data.insert(i,np.ravel(images[0:10000,i,:]))\n",
    "    data[i] = data[i][data[i]!=0]\n",
    "    plt.hist(data[i],bins=bins[i],color=cm(i/images.shape[1]))\n",
    "    plt.title(\"%s\"%(cell_vars[i]),fontsize=20)\n",
    "    plt.suptitle(\"Normalized Cell Input Data\",fontsize=25)\n",
    "    \n",
    "plt.savefig(\"Normalized_Cell_Data.pdf\")"
   ]
  },
  {
   "cell_type": "code",
   "execution_count": null,
   "id": "c814844d-19d9-4beb-b5cb-f5649cd05d02",
   "metadata": {},
   "outputs": [],
   "source": [
    "plt.hist(Y_val,alpha=0.5,label=\"Validation Energy\")\n",
    "_ = plt.hist(Y_test,alpha=0.5,label=\"Test Energy\")\n",
    "plt.legend()"
   ]
  },
  {
   "cell_type": "code",
   "execution_count": null,
   "id": "52956658-cbf5-447d-8c4d-a467a5ca5c14",
   "metadata": {},
   "outputs": [],
   "source": [
    "def old_scheduler(epoch, lr):\n",
    "    min_rate = 1.01e-6\n",
    "    N_First = 50\n",
    "    N_Epoch = 30\n",
    "    \n",
    "    if epoch > N_First and lr >= min_rate:\n",
    "        \n",
    "        if (epoch%N_Epoch == 0):\n",
    "            exp = int(np.log10(lr))\n",
    "        \n",
    "            if (lr%10**exp==0):\n",
    "                lr = lr*0.5\n",
    "            else:\n",
    "                lr = (10**float(exp-1))\n",
    "        \n",
    "    return tf.convert_to_tensor(lr)\n",
    "\n",
    "#callbacks = tf.keras.callbacks.LearningRateScheduler(old_scheduler,verbose=1)"
   ]
  },
  {
   "cell_type": "code",
   "execution_count": null,
   "id": "22b24d1c-de88-4096-a175-34473b7dbd1f",
   "metadata": {},
   "outputs": [],
   "source": [
    "def step_decay(epoch, lr):\n",
    "    min_rate = 1.01e-6\n",
    "    N_start = 50\n",
    "    N_epochs = 30\n",
    "    \n",
    "    if epoch > N_start and lr >= min_rate:\n",
    "        if (epoch%N_epochs==0):\n",
    "            return lr * 0.1\n",
    "    return lr\n",
    "\n",
    "callbacks = tf.keras.callbacks.LearningRateScheduler(step_decay,verbose=0)"
   ]
  },
  {
   "cell_type": "code",
   "execution_count": null,
   "id": "9553246b-acdb-4ce5-b117-c1b0a3ee3e2f",
   "metadata": {},
   "outputs": [],
   "source": [
    "def scheduler(epoch, lr):\n",
    "    min_rate = 1.01e-6\n",
    "    N_start = 20\n",
    "    \n",
    "    if epoch > N_start and lr >= min_rate:\n",
    "        if (epoch%N_start==0):\n",
    "            return lr * tf.math.exp(-0.1)\n",
    "    \n",
    "    return lr\n",
    "\n",
    "#callbacks = tf.keras.callbacks.LearningRateScheduler(scheduler,verbose=1)"
   ]
  },
  {
   "cell_type": "code",
   "execution_count": null,
   "id": "9f0e3ba3",
   "metadata": {
    "scrolled": true
   },
   "outputs": [],
   "source": [
    "learning_rate = 1e-4\n",
    "Phi_sizes, F_sizes = (100, 100, 128), (100, 100, 100)\n",
    "output_act, output_dim = 'linear', 1\n",
    "loss = 'mse' #mean-squared error\n",
    "pfn = PFN(input_dim=X.shape[-1], Phi_sizes=Phi_sizes, F_sizes=F_sizes, \n",
    "          output_act=output_act, output_dim=output_dim, loss=loss, optimizer=tf.keras.optimizers.Adam(learning_rate=learning_rate))"
   ]
  },
  {
   "cell_type": "code",
   "execution_count": null,
   "id": "fbfe386b",
   "metadata": {
    "tags": []
   },
   "outputs": [],
   "source": [
    "the_fit = pfn.fit(X_train, Y_train,\n",
    "                  epochs=300,\n",
    "                  batch_size=400,\n",
    "                  callbacks=[callbacks],\n",
    "                  validation_data=(X_val, Y_val),\n",
    "                  verbose=1)"
   ]
  },
  {
   "cell_type": "code",
   "execution_count": null,
   "id": "b1b0b769",
   "metadata": {
    "scrolled": true
   },
   "outputs": [],
   "source": [
    "pfn.layers\n",
    "pfn.save(\"energy_regression.h5\")\n",
    "mypreds = pfn.predict(X_test,batch_size=400)"
   ]
  },
  {
   "cell_type": "code",
   "execution_count": null,
   "id": "ba463b98-09ab-4af0-b155-408350803f78",
   "metadata": {},
   "outputs": [],
   "source": [
    "np.save(\"%s/predictions.npy\"%(path),mypreds)\n",
    "np.save(\"%s/y_test.npy\"%(path),Y_test)\n",
    "np.save(\"%s/x_test.npy\"%(path),X_test)"
   ]
  },
  {
   "cell_type": "code",
   "execution_count": null,
   "id": "9e25d1e5-8e91-4ba1-918f-448bb4aa55d8",
   "metadata": {},
   "outputs": [],
   "source": [
    "Y_test = np.load(\"%s/y_test.npy\"%(path))\n",
    "X_test = np.load(\"%s/x_test.npy\"%(path))\n",
    "mypreds = np.load(\"%s/predictions.npy\"%(path))"
   ]
  },
  {
   "cell_type": "code",
   "execution_count": null,
   "id": "99f69ab7",
   "metadata": {},
   "outputs": [],
   "source": [
    "fig = plt.figure(figsize=(28,10))\n",
    "ax = plt.subplot(1, 2, 1)\n",
    "plt.scatter(Y_test,mypreds,alpha=0.3)\n",
    "plt.xlabel(\"Y Test [GeV]\",fontsize=22)\n",
    "plt.xticks(fontsize=20)\n",
    "plt.yticks(fontsize=20)\n",
    "plt.tick_params(direction='in',right=True,top=True,length=10)\n",
    "#plt.ylim(-0.01,100.01)\n",
    "plt.ylim(-10,110)\n",
    "plt.ylabel(\"Y Pred [GeV]\",fontsize=22)\n",
    "_ = plt.title(\"Prediction vs. Test\",fontsize=26)\n",
    "#FIXME: find indecies in mypreds where mypreds 50\n",
    "\n",
    "ax = plt.subplot(1, 2, 2)\n",
    "plt.plot(the_fit.history['loss'])\n",
    "plt.plot(the_fit.history['val_loss'])\n",
    "plt.title('Model Loss vs. Epoch',fontsize=26)\n",
    "plt.text(0.73,0.73,\"Step Decayed \\n Learning Rate \\n {:.1e} to {:.1e}\".format(learning_rate,1e-6),\n",
    "         transform=ax.transAxes,fontsize=20)\n",
    "plt.ylabel('Mean-Squared Error',fontsize=22)\n",
    "plt.yscale('log')\n",
    "plt.xlabel('epoch',fontsize=22)\n",
    "plt.xticks(fontsize=20)\n",
    "plt.yticks(fontsize=20)\n",
    "plt.tick_params(direction='in',right=True,top=True,length=10)\n",
    "plt.tick_params(direction='in',right=True,top=True,which='minor')\n",
    "plt.xlim([-1,301])\n",
    "plt.legend(['train', 'validation'], loc='upper right',fontsize=22)\n",
    "plt.savefig(\"varphi_StepDecay_Prediction_Test.pdf\")"
   ]
  },
  {
   "cell_type": "code",
   "execution_count": null,
   "id": "e568413d-753b-4b1a-8dd0-747c8f4f074d",
   "metadata": {},
   "outputs": [],
   "source": [
    "from copy import copy\n",
    "from matplotlib.colors import LogNorm\n",
    "fig, axes = plt.subplots(nrows=1, figsize=(14, 10), constrained_layout=True)\n",
    "cmap = copy(plt.cm.plasma)\n",
    "cmap.set_bad(cmap(0))\n",
    "edges=np.linspace(-10,110,121)\n",
    "h, xedges, yedges = np.histogram2d(Y_test, mypreds[:,0], bins=[edges, edges])\n",
    "#xedges=yedges\n",
    "pcm = axes.pcolormesh(xedges, yedges, h.T, cmap=cmap,\n",
    "                         norm=LogNorm(vmin=1.0e-2,vmax=2.0e3), rasterized=True)\n",
    "cb = fig.colorbar(pcm, ax=axes, pad=0)\n",
    "cb.set_label(\"Counts\",fontsize=22)\n",
    "cb.ax.tick_params(labelsize=20)\n",
    "axes.set_xlabel(\"Generated Energy\",fontsize=22)\n",
    "plt.yticks(fontsize=20)\n",
    "plt.xticks(fontsize=20)\n",
    "plt.ylim(-10,110)\n",
    "plt.xlim(-10,110)\n",
    "axes.set_ylabel(\"Predicted Energy\",fontsize=25)\n",
    "axes.set_title(\"Predicted vs. Generated Energy\",fontsize=30)\n",
    "plt.savefig(\"Gen_vs_Pred.pdf\")\n",
    "print(np.size(yedges))"
   ]
  },
  {
   "cell_type": "code",
   "execution_count": null,
   "id": "2c0e1072-b162-4bc4-95db-5a82e655ab20",
   "metadata": {},
   "outputs": [],
   "source": [
    "#Binning\n",
    "N = 50\n",
    "E_Max = 100\n",
    "E_Bins = np.linspace(0,E_Max,N)\n",
    "\n",
    "#Goal: slices defined by bin of truthE, filled with prediction distributions\n",
    "indecies = np.digitize(Y_test,E_Bins)\n",
    "max_count = ((np.bincount(indecies).max()))\n",
    "slices = np.empty((N,max_count))\n",
    "slices.fill(np.nan)\n",
    "\n",
    "counter = np.zeros(N,int)\n",
    "avg_truth = np.zeros(N,float)\n",
    "\n",
    "pred_over_truth = np.zeros(N,float)\n",
    "\n",
    "for pred,bin,truth in zip(mypreds,indecies,Y_test):\n",
    "    slices[bin-1][counter[bin-1]] = pred\n",
    "    counter[bin-1]+=1\n",
    "    avg_truth[bin-1]+=truth\n",
    "    pred_over_truth[bin-1] +=pred/truth\n",
    "\n",
    "#Resoluton: stdev(pred)/avg_truth    \n",
    "avg_truth = avg_truth/counter\n",
    "stdev_pred = np.nanstd(slices,axis=1)\n",
    "resolution = stdev_pred/avg_truth\n",
    "\n",
    "pred_over_truth = pred_over_truth/counter"
   ]
  },
  {
   "cell_type": "code",
   "execution_count": null,
   "id": "831bff34-75b8-472a-bef5-124dc9ab585a",
   "metadata": {},
   "outputs": [],
   "source": [
    "fig=plt.figure(figsize=(14,10))\n",
    "plt.title(\"AI Codesign Resolution\",fontsize=25)\n",
    "plt.ylabel(\"$(\\sigma_{E,\\mathrm{Pred}}/E_\\mathrm{Truth})$\",fontsize=24)\n",
    "plt.xlabel(\"$E_\\mathrm{Truth}$ [GeV]\",fontsize=24)\n",
    "plt.xticks(fontsize=20)\n",
    "plt.yticks(fontsize=20)\n",
    "plt.tick_params(direction='in',right=True,top=True,length=10)\n",
    "#plt.ylim(-0.02,0.4)\n",
    "plt.ylim(0,0.22)\n",
    "plt.xlim(-0.01,100.01)\n",
    "errors = 1.0/(np.sqrt(2*counter-2))*stdev_pred\n",
    "ax = plt.subplot(1,1,1)\n",
    "first_bin = 0\n",
    "last_bin = N\n",
    "plt.errorbar(avg_truth[first_bin:last_bin],resolution[first_bin:last_bin],yerr=errors[first_bin:last_bin],\n",
    "             linestyle=\"-\",linewidth=2.0,capsize=4,capthick=1.2,elinewidth=1.2,ecolor='black',marker=\"o\",color='dodgerblue',alpha=0.7)\n",
    "_ = plt.text(0.7,0.93,\"Stat. Error: $\\dfrac{\\sigma}{\\sqrt{2N-2} } $\",transform=ax.transAxes,fontsize=20)\n",
    "plt.savefig(\"resolution_plot.pdf\")"
   ]
  },
  {
   "cell_type": "code",
   "execution_count": null,
   "id": "3823e85d-ad08-4247-8c35-e9a98b49e874",
   "metadata": {},
   "outputs": [],
   "source": [
    "fig,axs = plt.subplots(int(N/10),10, figsize=(32, 16),sharex=False,sharey=True,constrained_layout=True)\n",
    "for i in range(N):\n",
    "    row = int(i/10)\n",
    "    col = i%10\n",
    "    if(row==int(N/10)): continue\n",
    "    ax = axs[row,col]\n",
    "    \n",
    "    if (col==0):\n",
    "        ax.set_ylabel(\"Counts\",fontsize=15)\n",
    "    temp_bin = np.linspace(avg_truth[i]-2.0,avg_truth[i]+2.0,16)\n",
    "    ax.set_title(\"%1.1f $ < E_\\mathrm{Truth} < $%1.1f [GeV]\"%(E_Bins[i],E_Bins[i+1]))\n",
    "    ax.set_xlabel(\"Predicted Eenergy\")\n",
    "    ax.hist(slices[i],bins=temp_bin,label=\"Predicted Energies\")\n",
    "    ax.axvline(x=avg_truth[i],color='red',alpha=0.3,linestyle=\"--\",label=\"Avg. $E_\\mathrm{Truth} = %1.2f$\"%(avg_truth[i]))\n",
    "    ax.legend(fontsize=7.5)\n",
    "    ax.tick_params(direction='in',right=True,top=True,length=5)\n",
    "plt.savefig(\"resolutions_slices.pdf\")"
   ]
  },
  {
   "cell_type": "code",
   "execution_count": null,
   "id": "b48a2610-52e1-4242-96ec-76f189a1a503",
   "metadata": {},
   "outputs": [],
   "source": [
    "fig=plt.figure(figsize=(14,10))\n",
    "plt.title(\"AI Codesign Resolution\",fontsize=25)\n",
    "plt.ylabel(\"$(E_\\mathrm{Pred}/E_\\mathrm{Truth})$\",fontsize=24)\n",
    "plt.xlabel(\"$E_\\mathrm{Truth}$ [GeV]\",fontsize=24)\n",
    "plt.xticks(fontsize=20)\n",
    "plt.yticks(fontsize=20)\n",
    "plt.tick_params(direction='in',right=True,top=True,length=10)\n",
    "#plt.ylim(-0.02,0.4)\n",
    "plt.ylim(0.95,1.05)\n",
    "plt.xlim(-1,101)\n",
    "errors = 1.0/(np.sqrt(2*counter-2))*stdev_pred\n",
    "ax = plt.subplot(1,1,1)\n",
    "first_bin = 0\n",
    "last_bin = N\n",
    "plt.errorbar(avg_truth[first_bin:last_bin],pred_over_truth[first_bin:last_bin],yerr=errors[first_bin:last_bin],\n",
    "             linestyle=\"-\",linewidth=2.0,capsize=4,capthick=1.2,elinewidth=1.2,ecolor='black',marker=\"o\",color='dodgerblue',alpha=0.7)\n",
    "_ = plt.text(0.7,0.93,\"Stat. Error: $\\dfrac{\\sigma}{\\sqrt{2N-2} } $\",transform=ax.transAxes,fontsize=20)\n",
    "plt.savefig(\"%s/scale_plot.pdf\"%(path))"
   ]
  },
  {
   "cell_type": "code",
   "execution_count": null,
   "id": "09cbc67d-e62c-4e7c-a1f5-783cc6db2b8a",
   "metadata": {},
   "outputs": [],
   "source": [
    "#Find the peak and zoom in\n",
    "fig = plt.figure(figsize=(18,5))\n",
    "plt.suptitle(\"Predictions\",fontsize=25)\n",
    "ax = plt.subplot(1, 2, 1)\n",
    "plt.xlabel(\"Predicted Energy [GeV]\",fontsize=18)\n",
    "bins = np.linspace(0,100,300)\n",
    "freq = plt.hist(mypreds, bins=bins)\n",
    "\n",
    "ax = plt.subplot(1, 2, 2)\n",
    "plt.xlabel(\"Predicted Energy [GeV]\",fontsize=18)\n",
    "plt.text(0.03,0.9,\"[Zoomed In]\",transform=ax.transAxes,fontsize=18)\n",
    "maxbin = np.argmax(freq[0])\n",
    "zoom = np.linspace(bins[maxbin]-0.01,bins[maxbin]+0.01,100)\n",
    "mask = np.where(np.logical_and(mypreds>=bins[maxbin]-0.01, mypreds<=bins[maxbin]+0.01))[0]\n",
    "_ = plt.hist(mypreds[mask],alpha=.3,color=\"black\",bins=zoom)\n",
    "print(\"%i / %i Events\"%(len(mask),len(mypreds)),\"[{:.3%}]\".format( (len(mask)/len(mypreds)) ) )"
   ]
  },
  {
   "cell_type": "code",
   "execution_count": null,
   "id": "60c97d5a-9974-45ea-9648-fb78262a74f9",
   "metadata": {},
   "outputs": [],
   "source": [
    "#plt.hist(np.count_nonzero(np.ravel(X_test[:,1,:])))\n",
    "weird_data = X_test[mask]\n",
    "bins = np.linspace(0,1000,20)\n",
    "fig = plt.figure(figsize=(18,5))\n",
    "ax = plt.subplot(1,2,1)\n",
    "plt.hist(np.ravel(np.count_nonzero(X_test,axis=2)),bins=bins)\n",
    "plt.title(\"Entire Image Dataset\",fontsize=20)\n",
    "ax = plt.subplot(1,2,2)\n",
    "plt.title(\"Weird Cells\",fontsize=20)\n",
    "plt.hist(np.ravel(np.count_nonzero(weird_data,axis=2)),bins=bins)\n",
    "plt.suptitle(\"Number of Cell Hits\",fontsize=25)"
   ]
  },
  {
   "cell_type": "code",
   "execution_count": null,
   "id": "8584a7ae-0378-4318-80bf-d414a8cd6311",
   "metadata": {},
   "outputs": [],
   "source": [
    "cm = plt.cm.get_cmap('plasma')\n",
    "cell_vars = [\"Energy\",\"Cell X\",\"Cell Y\",\"Cell Depth\",\"Layer 1 Position\", \"Layer 2 Position\"]\n",
    "bins = [np.linspace(0.01,500,200),np.linspace(-500,500,100),\n",
    "        np.linspace(-500,1300,100),np.linspace(-1.5,2.5,100),\n",
    "        np.linspace(-275,350,100),np.linspace(-275,350,100)]\n",
    "data=[]\n",
    "weird_data=X_test[mask]\n",
    "fig = plt.figure(figsize=(18,9))\n",
    "#plt.subplots_adjust(left=None, bottom=1, right=None, top=1.5, wspace=None, hspace=None)\n",
    "for i in range(images.shape[1]):\n",
    "    ax = plt.subplot(2, 3, i+1)\n",
    "    data.insert(i,np.ravel(weird_data[:,i,:]))\n",
    "    data[i] = data[i][data[i]!=0]\n",
    "    plt.hist(data[i],bins=bins[i],color=cm(i/images.shape[1]))\n",
    "    plt.title(\"%s\"%(cell_vars[i]),fontsize=20)\n",
    "    plt.suptitle(\"'Weird' Normalized Cell Input Data\",fontsize=25)\n",
    "plt.savefig(\"weird_Cell_Data.pdf\")\n",
    "    #plt.xlabel('%s [Normalized]'%(cell_vars[i]),fontsize=15)"
   ]
  },
  {
   "cell_type": "code",
   "execution_count": null,
   "id": "11d029be-97c7-4ff1-a59c-33a260bff7d9",
   "metadata": {},
   "outputs": [],
   "source": [
    "cm = plt.cm.get_cmap('plasma')\n",
    "cell_vars = [\"Energy\",\"Cell X\",\"Cell Y\",\"Cell Depth\",\"Layer 1 Position\", \"Layer 2 Position\"]\n",
    "bins = [np.linspace(0.01,500,200),np.linspace(-500,500,100),\n",
    "        np.linspace(-500,1300,100),np.linspace(-1.5,2.5,100),\n",
    "        np.linspace(-275,350,100),np.linspace(-275,350,100)]\n",
    "weird_data=X_test[mask]\n",
    "fig = plt.figure(figsize=(18,9))\n",
    "#plt.subplots_adjust(left=None, bottom=1, right=None, top=1.5, wspace=None, hspace=None)\n",
    "for i in range(images.shape[1]-1):\n",
    "    ax = plt.subplot(2, 3, i+1)\n",
    "    plt.scatter(np.ravel(weird_data[:,i,:]),np.ravel(weird_data[:,i+1,:]),s=2)\n",
    "    plt.xlabel(cell_vars[i])\n",
    "    plt.ylabel(cell_vars[i+1])\n",
    "    #plt.title(\"%s\"%(cell_vars[i]),fontsize=20)\n",
    "    plt.suptitle(\"'Weird' Normalized Cell Scatter Plots\",fontsize=25)\n",
    "plt.savefig(\"weird_Cell_Data.pdf\")"
   ]
  },
  {
   "cell_type": "raw",
   "id": "7acedb7d-f806-4393-a032-e0a0969ffd59",
   "metadata": {},
   "source": [
    "ds = tf.data.Dataset.from_generator(\n",
    "    generator(filename), \n",
    "    tf.uint8, \n",
    "    tf.TensorShape([400,6,2636]))\n",
    "\n",
    "#value = ds.make_one_shot_iterator().get_next()\n",
    "value = tf.compat.v1.data.make_one_shot_iterator().get_next\n",
    "\n",
    "# Example on how to read elements\n",
    "while True:\n",
    "    try:\n",
    "        data = sess.run(value)\n",
    "        print(data.shape)\n",
    "    except tf.errors.OutOfRangeError:\n",
    "        print('done.')\n",
    "        break"
   ]
  },
  {
   "cell_type": "raw",
   "id": "504351e2-16c4-43f2-b3c3-401bf19a7055",
   "metadata": {},
   "source": [
    "import h5py\n",
    "import tensorflow as tf\n",
    "\n",
    "class generator:\n",
    "    def __init__(self, file):\n",
    "        self.file = file\n",
    "\n",
    "    def __call__(self):\n",
    "        with h5py.File(self.file, 'r') as hf:\n",
    "            for im in hf[\"train_img\"]:\n",
    "                yield im"
   ]
  }
 ],
 "metadata": {
  "kernelspec": {
   "display_name": "ai_codesign",
   "language": "python",
   "name": "tin"
  },
  "language_info": {
   "codemirror_mode": {
    "name": "ipython",
    "version": 3
   },
   "file_extension": ".py",
   "mimetype": "text/x-python",
   "name": "python",
   "nbconvert_exporter": "python",
   "pygments_lexer": "ipython3",
   "version": "3.9.7"
  }
 },
 "nbformat": 4,
 "nbformat_minor": 5
}
